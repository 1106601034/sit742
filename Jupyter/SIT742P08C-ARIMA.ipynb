{
 "cells": [
  {
   "cell_type": "markdown",
   "metadata": {},
   "source": [
    "# SIT742: Modern Data Science \n",
    "**(Week 08: Data Analytics (I))**\n",
    "\n",
    "---\n",
    "- Materials in this module include resources collected from various open-source online repositories.\n",
    "- You are free to use, change and distribute this package.\n",
    "- If you found any issue/bug for this document, please submit an issue at [tulip-lab/sit742](https://github.com/tulip-lab/sit742/issues)\n",
    "\n",
    "Prepared by **SIT742 Teaching Team**\n",
    "\n",
    "---\n",
    "\n",
    "\n",
    "## Session 8C - Arima\n",
    "\n",
    "**The purpose of this session is to illustrate**\n",
    "\n",
    "1. How to use Arima for Time Series Prediction.\n",
    "\n",
    "** References and additional reading and resources**\n",
    "-[Another ARIMA Tutorial](https://machinelearningmastery.com/arima-for-time-series-forecasting-with-python/) "
   ]
  },
  {
   "cell_type": "code",
   "execution_count": null,
   "metadata": {
    "colab": {
     "base_uri": "https://localhost:8080/"
    },
    "id": "qX9hiOSyPMza",
    "outputId": "cff361ec-2c21-4b16-e96b-f61f1bddfea3"
   },
   "outputs": [],
   "source": [
    "!pip install \"statsmodels==0.11.1\""
   ]
  },
  {
   "cell_type": "markdown",
   "metadata": {
    "id": "faEyyxRRRjSb"
   },
   "source": [
    "## Plot the time series"
   ]
  },
  {
   "cell_type": "code",
   "execution_count": null,
   "metadata": {
    "colab": {
     "base_uri": "https://localhost:8080/",
     "height": 318
    },
    "id": "yqQLzuRfMPQI",
    "outputId": "171950ab-baa9-433b-9f4e-8a69c99e902c"
   },
   "outputs": [],
   "source": [
    "from pandas import read_csv\n",
    "from matplotlib import pyplot\n",
    "\n",
    "data =\"https://raw.githubusercontent.com/tulip-lab/sit742/Jupyter/Data/timeseries-data.txt\"\n",
    "series = read_csv(data, header=0, index_col=0)\n",
    "series.plot(rot=45)\n",
    "pyplot.show()"
   ]
  },
  {
   "cell_type": "markdown",
   "metadata": {
    "id": "l-4D-uONRmxF"
   },
   "source": [
    "## Fit the series with Arima model and print out the prediction / conficence interval"
   ]
  },
  {
   "cell_type": "code",
   "execution_count": null,
   "metadata": {
    "colab": {
     "base_uri": "https://localhost:8080/"
    },
    "id": "0YZfd771PBU3",
    "outputId": "59c8b82b-52d3-4eba-aaa3-68126370832a"
   },
   "outputs": [],
   "source": [
    "from pandas import read_csv\n",
    "from statsmodels.tsa.arima.model import ARIMA\n",
    "\n",
    "# load dataset\n",
    "series = read_csv(data, header=0, index_col=0, parse_dates=True, squeeze=True)\n",
    "\n",
    "# split into train and test sets\n",
    "X = series.values\n",
    "X = X.astype('float32')\n",
    "size = len(X) - 1\n",
    "train, test = X[0:size], X[size:]\n",
    "\n",
    "# fit an ARIMA model\n",
    "model = ARIMA(train, order=(5,1,1))\n",
    "model_fit = model.fit()\n",
    "# forecast\n",
    "result = model_fit.get_forecast()\n",
    "\n",
    "# summarize forecast and confidence intervals\n",
    "print('Expected: %.3f' % result.predicted_mean)\n",
    "print('Forecast: %.3f' % test[0])\n",
    "print('Standard Error: %.3f' % result.se_mean)\n",
    "ci = result.conf_int(0.05)\n",
    "print('95%% Interval: %.3f to %.3f' % (ci[0,0], ci[0,1]))"
   ]
  },
  {
   "cell_type": "markdown",
   "metadata": {
    "id": "IxnOGxqwR9Wp"
   },
   "source": [
    "## Predict the time series by using walk-forward validation and Print out the RMSE"
   ]
  },
  {
   "cell_type": "code",
   "execution_count": null,
   "metadata": {
    "colab": {
     "base_uri": "https://localhost:8080/",
     "height": 1000
    },
    "id": "KoutMqcVQoG-",
    "outputId": "344cff68-84df-4787-ac68-0025ffe4270f"
   },
   "outputs": [],
   "source": [
    "# evaluate an ARIMA model using a walk-forward validation\n",
    "from pandas import read_csv\n",
    "from pandas import datetime\n",
    "from matplotlib import pyplot\n",
    "from statsmodels.tsa.arima.model import ARIMA\n",
    "from sklearn.metrics import mean_squared_error\n",
    "from math import sqrt\n",
    "\n",
    "series = read_csv(data, header=0, index_col=0, parse_dates=True, squeeze=True)\n",
    "\n",
    "# split into train and test sets\n",
    "X = series.values\n",
    "X = X.astype('float32')\n",
    "size = int(len(X) * 0.66)\n",
    "train, test = X[0:size], X[size:]\n",
    "history = [x for x in train]\n",
    "predictions = list()\n",
    "\n",
    "# walk-forward validation\n",
    "for t in range(len(test)):\n",
    "\tmodel = ARIMA(history, order=(5,1,0))\n",
    "\tmodel_fit = model.fit()\n",
    "\toutput = model_fit.forecast()\n",
    "\tyhat = output[0]\n",
    "\tpredictions.append(yhat)\n",
    "\tobs = test[t]\n",
    "\thistory.append(obs)\n",
    "\tprint('predicted=%f, expected=%f' % (yhat, obs))\n",
    "\n",
    "# evaluate forecasts\n",
    "rmse = sqrt(mean_squared_error(test, predictions))\n",
    "print('Test RMSE: %.3f' % rmse)\n",
    "\n",
    "# plot forecasts against actual outcomes\n",
    "pyplot.plot(test)\n",
    "pyplot.plot(predictions, color='red')\n",
    "pyplot.show()"
   ]
  },
  {
   "cell_type": "markdown",
   "metadata": {
    "id": "d-Sn6k3aSGTS"
   },
   "source": [
    "## Conduct the Grid Search On Parameters"
   ]
  },
  {
   "cell_type": "code",
   "execution_count": null,
   "metadata": {
    "colab": {
     "base_uri": "https://localhost:8080/"
    },
    "id": "IvaO50M2P6RY",
    "outputId": "4066b4a5-aec1-454a-b39c-eb5061972b37"
   },
   "outputs": [],
   "source": [
    "# evaluate an ARIMA model using a walk-forward validation\n",
    "from pandas import read_csv\n",
    "from pandas import datetime\n",
    "from matplotlib import pyplot\n",
    "from statsmodels.tsa.arima.model import ARIMA\n",
    "from sklearn.metrics import mean_squared_error\n",
    "from math import sqrt\n",
    "\n",
    "series = read_csv(data, header=0, index_col=0, parse_dates=True, squeeze=True)\n",
    "\n",
    "# split into train and test sets\n",
    "X = series.values\n",
    "X = X.astype('float32')\n",
    "size = int(len(X) * 0.66)\n",
    "train, test = X[0:size], X[size:]\n",
    "history = [x for x in train]\n",
    "predictions = list()\n",
    "RSME = []\n",
    "p=[1,2,3]\n",
    "q=[0,1]\n",
    "d=[1,2]\n",
    "\n",
    "# walk-forward validation\n",
    "for i1 in p:\n",
    "  for i2 in q:\n",
    "    for i3 in d:\n",
    "      for t in range(len(test)):\n",
    "\t      model = ARIMA(history, order=(i1,i3,i2))\n",
    "\t      model_fit = model.fit()\n",
    "\t      output = model_fit.forecast()\n",
    "\t      yhat = output[0]\n",
    "\t      predictions.append(yhat)\n",
    "\t      obs = test[t]\n",
    "\t      history.append(obs)\n",
    "\t      #print('predicted=%f, expected=%f' % (yhat, obs))  \n",
    "      rmse = sqrt(mean_squared_error(test, predictions))\n",
    "      history = [x for x in train]\n",
    "      predictions = list()  \n",
    "      RSME.append(rmse)\n",
    "      print('Test RMSE: %.3f' % rmse,i1,i2,i3)   \n",
    "\n"
   ]
  },
  {
   "cell_type": "markdown",
   "metadata": {
    "id": "taommRXMUpEU"
   },
   "source": [
    "## Using Best Paramter to perform train and also the walk-forward test"
   ]
  },
  {
   "cell_type": "code",
   "execution_count": null,
   "metadata": {
    "colab": {
     "base_uri": "https://localhost:8080/",
     "height": 1000
    },
    "id": "NRFT0ftwU1Qz",
    "outputId": "1d33292f-e14e-493c-d24c-949cf8e9f758"
   },
   "outputs": [],
   "source": [
    "# evaluate an ARIMA model using a walk-forward validation\n",
    "import numpy as np\n",
    "from pandas import read_csv\n",
    "from pandas import datetime\n",
    "from matplotlib import pyplot\n",
    "from statsmodels.tsa.arima.model import ARIMA\n",
    "from sklearn.metrics import mean_squared_error\n",
    "from math import sqrt\n",
    "\n",
    "series = read_csv(data, header=0, index_col=0, parse_dates=True, squeeze=True)\n",
    "\n",
    "# split into train and test sets\n",
    "X = series.values\n",
    "X = X.astype('float32')\n",
    "size = int(len(X) * 0.66)\n",
    "train, test = X[0:size], X[size:]\n",
    "history = [x for x in train]\n",
    "predictions = list()\n",
    "best_parameter = [2,1,1]\n",
    "confidence_interval = []\n",
    "\n",
    "# walk-forward validation\n",
    "for t in range(len(test)):\n",
    "    model = ARIMA(history, order=(best_parameter[0],best_parameter[1],best_parameter[2]))\n",
    "    model_fit = model.fit()\n",
    "    output = model_fit.get_forecast()\n",
    "    yhat = output.predicted_mean\n",
    "    predictions.append(yhat)\n",
    "    obs = test[t]\n",
    "    history.append(obs)\n",
    "    print('predicted=%f, expected=%f' % (yhat, obs))\n",
    "    ci = output.conf_int(0.05)\n",
    "    confidence_interval.append(ci[0])\n",
    "    print('95%% Interval: %.3f to %.3f' % (ci[0,0], ci[0,1]))\n",
    "    \n",
    "# evaluate forecasts\n",
    "rmse = sqrt(mean_squared_error(test, predictions))\n",
    "print('Test RMSE: %.3f' % rmse)\n",
    "\n",
    "# plot forecasts against actual outcomes and also the confidence int at 95%\n",
    "pyplot.plot(test)\n",
    "pyplot.plot(predictions, color='red')\n",
    "pyplot.fill_between(list(range(len(test))),\n",
    "                 np.array(confidence_interval)[:,0], np.array(confidence_interval)[:,1],\n",
    "                alpha=0.1, color='b')\n",
    "pyplot.show()"
   ]
  },
  {
   "cell_type": "code",
   "execution_count": null,
   "metadata": {},
   "outputs": [],
   "source": []
  }
 ],
 "metadata": {
  "colab": {
   "collapsed_sections": [],
   "name": "ARIMA.ipynb",
   "provenance": []
  },
  "kernelspec": {
   "display_name": "Python 3",
   "language": "python",
   "name": "python3"
  },
  "language_info": {
   "codemirror_mode": {
    "name": "ipython",
    "version": 3
   },
   "file_extension": ".py",
   "mimetype": "text/x-python",
   "name": "python",
   "nbconvert_exporter": "python",
   "pygments_lexer": "ipython3",
   "version": "3.9.4"
  }
 },
 "nbformat": 4,
 "nbformat_minor": 1
}
