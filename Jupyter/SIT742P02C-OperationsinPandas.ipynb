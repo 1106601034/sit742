{
    "nbformat_minor": 1, 
    "cells": [
        {
            "source": "# SIT742: Modern Data Science \n**(Week 02: A Touch of Data Science)**\n\n---\n- Materials in this module include resources collected from various open-source online repositories.\n- You are free to use, change and distribute this package.\n- If you found any issue/bug for this document, please submit an issue at [tulip-lab/sit742](https://github.com/tulip-lab/sit742/issues)\n\nPrepared by **SIT742 Teaching Team**\n\n---\n\n\n\n# Session 2C - Operations in Pandas", 
            "cell_type": "markdown", 
            "metadata": {}
        }, 
        {
            "source": "# Pandas\n\nCredits: The following are notes taken while working through [Python for Data Analysis](http://www.amazon.com/Python-Data-Analysis-Wrangling-IPython/dp/1449319793) by Wes McKinney\n\n\n\nPandas is a strange name, kind of an acronym: Python, Numerical, Data Analysis?\n(or so I thought, seems the name comes from Panel Data, either way, nothing to do with Chinese bamboo chewing bears)\nBecause pandas is an external library you need to import it. There are several ways that you will see imports done:\n* import pandas\n* from pandas import tools\n* import pandas as pd\n\n## Table of Content\n\n1. Series\n2. DataFrame\n3. Reindexing\n1. Dropping Entries\n1. Indexing, Selecting, Filtering\n1. Arithmetic and Data Alignment\n1. Function Application and Mapping\n1. Sorting and Ranking\n1. Axis Indices with Duplicate Values\n1. Summarizing and Computing Descriptive Statistics\n1. Cleaning Data \n1. Input and Output  ", 
            "cell_type": "markdown", 
            "metadata": {}
        }, 
        {
            "source": "from pandas import Series, DataFrame\nimport pandas as pd\nimport numpy as np", 
            "cell_type": "code", 
            "metadata": {}, 
            "outputs": [], 
            "execution_count": null
        }, 
        {
            "source": "## 1. Series\n\nA Series is a one-dimensional array-like object containing an array of data and an associated array of data labels.  The data can be any NumPy data type and the labels are the Series' index.", 
            "cell_type": "markdown", 
            "metadata": {}
        }, 
        {
            "source": "Create a Series:", 
            "cell_type": "markdown", 
            "metadata": {}
        }, 
        {
            "source": "ser_1 = Series([1, 1, 2, -3, -5, 8, 13])\nser_1", 
            "cell_type": "code", 
            "metadata": {}, 
            "outputs": [], 
            "execution_count": null
        }, 
        {
            "source": "Get the array representation of a Series:", 
            "cell_type": "markdown", 
            "metadata": {}
        }, 
        {
            "source": "ser_1.values", 
            "cell_type": "code", 
            "metadata": {}, 
            "outputs": [], 
            "execution_count": null
        }, 
        {
            "source": "Index objects are immutable and hold the axis labels and metadata such as names and axis names.\n\nGet the index of the Series:", 
            "cell_type": "markdown", 
            "metadata": {}
        }, 
        {
            "source": "ser_1.index", 
            "cell_type": "code", 
            "metadata": {}, 
            "outputs": [], 
            "execution_count": null
        }, 
        {
            "source": "Create a Series with a custom index:", 
            "cell_type": "markdown", 
            "metadata": {}
        }, 
        {
            "source": "ser_2 = Series([1, 1, 2, -3, -5], index=['a', 'b', 'c', 'd', 'e'])\nser_2", 
            "cell_type": "code", 
            "metadata": {}, 
            "outputs": [], 
            "execution_count": null
        }, 
        {
            "source": "Get a value from a Series:", 
            "cell_type": "markdown", 
            "metadata": {}
        }, 
        {
            "source": "ser_2[4] == ser_2['e']", 
            "cell_type": "code", 
            "metadata": {}, 
            "outputs": [], 
            "execution_count": null
        }, 
        {
            "source": "Get a set of values from a Series by passing in a list:", 
            "cell_type": "markdown", 
            "metadata": {}
        }, 
        {
            "source": "ser_2[['c', 'a', 'b']]", 
            "cell_type": "code", 
            "metadata": {}, 
            "outputs": [], 
            "execution_count": null
        }, 
        {
            "source": "Get values great than 0:", 
            "cell_type": "markdown", 
            "metadata": {}
        }, 
        {
            "source": "ser_2[ser_2 > 0]", 
            "cell_type": "code", 
            "metadata": {}, 
            "outputs": [], 
            "execution_count": null
        }, 
        {
            "source": "Scalar multiply:", 
            "cell_type": "markdown", 
            "metadata": {}
        }, 
        {
            "source": "ser_2 * 2", 
            "cell_type": "code", 
            "metadata": {}, 
            "outputs": [], 
            "execution_count": null
        }, 
        {
            "source": "Apply a numpy math function:", 
            "cell_type": "markdown", 
            "metadata": {}
        }, 
        {
            "source": "import numpy as np\nnp.exp(ser_2)", 
            "cell_type": "code", 
            "metadata": {}, 
            "outputs": [], 
            "execution_count": null
        }, 
        {
            "source": "A Series is like a fixed-length, ordered dict.  \n\nCreate a series by passing in a dict:", 
            "cell_type": "markdown", 
            "metadata": {}
        }, 
        {
            "source": "dict_1 = {'foo' : 100, 'bar' : 200, 'baz' : 300}\nser_3 = Series(dict_1)\nser_3", 
            "cell_type": "code", 
            "metadata": {}, 
            "outputs": [], 
            "execution_count": null
        }, 
        {
            "source": "Re-order a Series by passing in an index (indices not found are NaN):", 
            "cell_type": "markdown", 
            "metadata": {}
        }, 
        {
            "source": "index = ['foo', 'bar', 'baz', 'qux']\nser_4 = Series(dict_1, index=index)\nser_4", 
            "cell_type": "code", 
            "metadata": {}, 
            "outputs": [], 
            "execution_count": null
        }, 
        {
            "source": "Check for NaN with the pandas method:", 
            "cell_type": "markdown", 
            "metadata": {}
        }, 
        {
            "source": "pd.isnull(ser_4)", 
            "cell_type": "code", 
            "metadata": {}, 
            "outputs": [], 
            "execution_count": null
        }, 
        {
            "source": "Check for NaN with the Series method:", 
            "cell_type": "markdown", 
            "metadata": {}
        }, 
        {
            "source": "ser_4.isnull()", 
            "cell_type": "code", 
            "metadata": {}, 
            "outputs": [], 
            "execution_count": null
        }, 
        {
            "source": "Series automatically aligns differently indexed data in arithmetic operations:", 
            "cell_type": "markdown", 
            "metadata": {}
        }, 
        {
            "source": "ser_3 + ser_4", 
            "cell_type": "code", 
            "metadata": {}, 
            "outputs": [], 
            "execution_count": null
        }, 
        {
            "source": "Name a Series:", 
            "cell_type": "markdown", 
            "metadata": {}
        }, 
        {
            "source": "ser_4.name = 'foobarbazqux'", 
            "cell_type": "code", 
            "metadata": {}, 
            "outputs": [], 
            "execution_count": null
        }, 
        {
            "source": "Name a Series index:", 
            "cell_type": "markdown", 
            "metadata": {}
        }, 
        {
            "source": "ser_4.index.name = 'label'", 
            "cell_type": "code", 
            "metadata": {}, 
            "outputs": [], 
            "execution_count": null
        }, 
        {
            "source": "ser_4", 
            "cell_type": "code", 
            "metadata": {}, 
            "outputs": [], 
            "execution_count": null
        }, 
        {
            "source": "Rename a Series' index in place:", 
            "cell_type": "markdown", 
            "metadata": {}
        }, 
        {
            "source": "ser_4.index = ['fo', 'br', 'bz', 'qx']\nser_4", 
            "cell_type": "code", 
            "metadata": {}, 
            "outputs": [], 
            "execution_count": null
        }, 
        {
            "source": "## 2. DataFrame\n\nA DataFrame is a tabular data structure containing an ordered collection of columns.  Each column can have a different type.  DataFrames have both row and column indices and is analogous to a dict of Series.  Row and column operations are treated roughly symmetrically.  Columns returned when indexing a DataFrame are views of the underlying data, not a copy.  To obtain a copy, use the Series' copy method.\n\nCreate a DataFrame:", 
            "cell_type": "markdown", 
            "metadata": {}
        }, 
        {
            "source": "data_1 = {'state' : ['VA', 'VA', 'VA', 'MD', 'MD'],\n          'year' : [2012, 2013, 2014, 2014, 2015],\n          'pop' : [5.0, 5.1, 5.2, 4.0, 4.1]}\ndf_1 = DataFrame(data_1)\ndf_1", 
            "cell_type": "code", 
            "metadata": {}, 
            "outputs": [], 
            "execution_count": null
        }, 
        {
            "source": "Create a DataFrame specifying a sequence of columns:", 
            "cell_type": "markdown", 
            "metadata": {}
        }, 
        {
            "source": "df_2 = DataFrame(data_1, columns=['year', 'state', 'pop'])\ndf_2", 
            "cell_type": "code", 
            "metadata": {}, 
            "outputs": [], 
            "execution_count": null
        }, 
        {
            "source": "Like Series, columns that are not present in the data are NaN:", 
            "cell_type": "markdown", 
            "metadata": {}
        }, 
        {
            "source": "df_3 = DataFrame(data_1, columns=['year', 'state', 'pop', 'unempl'])\ndf_3", 
            "cell_type": "code", 
            "metadata": {}, 
            "outputs": [], 
            "execution_count": null
        }, 
        {
            "source": "Retrieve a column by key, returning a Series:\n", 
            "cell_type": "markdown", 
            "metadata": {}
        }, 
        {
            "source": "df_3['state']", 
            "cell_type": "code", 
            "metadata": {}, 
            "outputs": [], 
            "execution_count": null
        }, 
        {
            "source": "Retrive a column by attribute, returning a Series:", 
            "cell_type": "markdown", 
            "metadata": {}
        }, 
        {
            "source": "df_3.year", 
            "cell_type": "code", 
            "metadata": {}, 
            "outputs": [], 
            "execution_count": null
        }, 
        {
            "source": "Retrieve a row by position:", 
            "cell_type": "markdown", 
            "metadata": {}
        }, 
        {
            "source": "df_3.ix[0]", 
            "cell_type": "code", 
            "metadata": {}, 
            "outputs": [], 
            "execution_count": null
        }, 
        {
            "source": "Update a column by assignment:", 
            "cell_type": "markdown", 
            "metadata": {}
        }, 
        {
            "source": "df_3['unempl'] = np.arange(5)\ndf_3", 
            "cell_type": "code", 
            "metadata": {}, 
            "outputs": [], 
            "execution_count": null
        }, 
        {
            "source": "Assign a Series to a column (note if assigning a list or array, the length must match the DataFrame, unlike a Series):", 
            "cell_type": "markdown", 
            "metadata": {}
        }, 
        {
            "source": "unempl = Series([6.0, 6.0, 6.1], index=[2, 3, 4])\ndf_3['unempl'] = unempl\ndf_3", 
            "cell_type": "code", 
            "metadata": {}, 
            "outputs": [], 
            "execution_count": null
        }, 
        {
            "source": "Assign a new column that doesn't exist to create a new column:", 
            "cell_type": "markdown", 
            "metadata": {}
        }, 
        {
            "source": "df_3['state_dup'] = df_3['state']\ndf_3", 
            "cell_type": "code", 
            "metadata": {}, 
            "outputs": [], 
            "execution_count": null
        }, 
        {
            "source": "Delete a column:", 
            "cell_type": "markdown", 
            "metadata": {}
        }, 
        {
            "source": "del df_3['state_dup']\ndf_3", 
            "cell_type": "code", 
            "metadata": {}, 
            "outputs": [], 
            "execution_count": null
        }, 
        {
            "source": "Create a DataFrame from a nested dict of dicts (the keys in the inner dicts are unioned and sorted to form the index in the result, unless an explicit index is specified):", 
            "cell_type": "markdown", 
            "metadata": {}
        }, 
        {
            "source": "pop = {'VA' : {2013 : 5.1, 2014 : 5.2},\n       'MD' : {2014 : 4.0, 2015 : 4.1}}\ndf_4 = DataFrame(pop)\ndf_4", 
            "cell_type": "code", 
            "metadata": {}, 
            "outputs": [], 
            "execution_count": null
        }, 
        {
            "source": "Transpose the DataFrame:", 
            "cell_type": "markdown", 
            "metadata": {}
        }, 
        {
            "source": "df_4.T", 
            "cell_type": "code", 
            "metadata": {}, 
            "outputs": [], 
            "execution_count": null
        }, 
        {
            "source": "Create a DataFrame from a dict of Series:", 
            "cell_type": "markdown", 
            "metadata": {}
        }, 
        {
            "source": "data_2 = {'VA' : df_4['VA'][1:],\n          'MD' : df_4['MD'][2:]}\ndf_5 = DataFrame(data_2)\ndf_5", 
            "cell_type": "code", 
            "metadata": {}, 
            "outputs": [], 
            "execution_count": null
        }, 
        {
            "source": "Set the DataFrame index name:", 
            "cell_type": "markdown", 
            "metadata": {}
        }, 
        {
            "source": "df_5.index.name = 'year'\ndf_5", 
            "cell_type": "code", 
            "metadata": {}, 
            "outputs": [], 
            "execution_count": null
        }, 
        {
            "source": "Set the DataFrame columns name:", 
            "cell_type": "markdown", 
            "metadata": {}
        }, 
        {
            "source": "df_5.columns.name = 'state'\ndf_5", 
            "cell_type": "code", 
            "metadata": {}, 
            "outputs": [], 
            "execution_count": null
        }, 
        {
            "source": "Return the data contained in a DataFrame as a 2D ndarray:", 
            "cell_type": "markdown", 
            "metadata": {}
        }, 
        {
            "source": "df_5.values", 
            "cell_type": "code", 
            "metadata": {}, 
            "outputs": [], 
            "execution_count": null
        }, 
        {
            "source": "If the columns are different dtypes, the 2D ndarray's dtype will accomodate all of the columns:", 
            "cell_type": "markdown", 
            "metadata": {}
        }, 
        {
            "source": "df_3.values", 
            "cell_type": "code", 
            "metadata": {}, 
            "outputs": [], 
            "execution_count": null
        }, 
        {
            "source": "## 3. Reindexing", 
            "cell_type": "markdown", 
            "metadata": {}
        }, 
        {
            "source": "Create a new object with the data conformed to a new index.  Any missing values are set to NaN.", 
            "cell_type": "markdown", 
            "metadata": {}
        }, 
        {
            "source": "df_3", 
            "cell_type": "code", 
            "metadata": {}, 
            "outputs": [], 
            "execution_count": null
        }, 
        {
            "source": "Reindexing rows returns a new frame with the specified index:", 
            "cell_type": "markdown", 
            "metadata": {}
        }, 
        {
            "source": "df_3.reindex(list(reversed(range(0, 6))))", 
            "cell_type": "code", 
            "metadata": {}, 
            "outputs": [], 
            "execution_count": null
        }, 
        {
            "source": "Missing values can be set to something other than NaN:", 
            "cell_type": "markdown", 
            "metadata": {}
        }, 
        {
            "source": "df_3.reindex(range(6, 0), fill_value=0)", 
            "cell_type": "code", 
            "metadata": {}, 
            "outputs": [], 
            "execution_count": null
        }, 
        {
            "source": "Interpolate ordered data like a time series:", 
            "cell_type": "markdown", 
            "metadata": {}
        }, 
        {
            "source": "ser_5 = Series(['foo', 'bar', 'baz'], index=[0, 2, 4])", 
            "cell_type": "code", 
            "metadata": {}, 
            "outputs": [], 
            "execution_count": null
        }, 
        {
            "source": "ser_5.reindex(range(5), method='ffill')", 
            "cell_type": "code", 
            "metadata": {}, 
            "outputs": [], 
            "execution_count": null
        }, 
        {
            "source": "ser_5.reindex(range(5), method='bfill')", 
            "cell_type": "code", 
            "metadata": {}, 
            "outputs": [], 
            "execution_count": null
        }, 
        {
            "source": "Reindex columns:", 
            "cell_type": "markdown", 
            "metadata": {}
        }, 
        {
            "source": "df_3.reindex(columns=['state', 'pop', 'unempl', 'year'])", 
            "cell_type": "code", 
            "metadata": {}, 
            "outputs": [], 
            "execution_count": null
        }, 
        {
            "source": "Reindex rows and columns while filling rows:", 
            "cell_type": "markdown", 
            "metadata": {}
        }, 
        {
            "source": "df_3.reindex(index=list(reversed(range(0, 6))),\n             fill_value=0,\n             columns=['state', 'pop', 'unempl', 'year'])", 
            "cell_type": "code", 
            "metadata": {}, 
            "outputs": [], 
            "execution_count": null
        }, 
        {
            "source": "Reindex using ix:", 
            "cell_type": "markdown", 
            "metadata": {}
        }, 
        {
            "source": "df_6 = df_3.ix[range(0, 7), ['state', 'pop', 'unempl', 'year']]\ndf_6", 
            "cell_type": "code", 
            "metadata": {}, 
            "outputs": [], 
            "execution_count": null
        }, 
        {
            "source": "## 4. Dropping Entries", 
            "cell_type": "markdown", 
            "metadata": {}
        }, 
        {
            "source": "Drop rows from a Series or DataFrame:", 
            "cell_type": "markdown", 
            "metadata": {}
        }, 
        {
            "source": "df_7 = df_6.drop([0, 1])\ndf_7", 
            "cell_type": "code", 
            "metadata": {}, 
            "outputs": [], 
            "execution_count": null
        }, 
        {
            "source": "Drop columns from a DataFrame:", 
            "cell_type": "markdown", 
            "metadata": {}
        }, 
        {
            "source": "df_7 = df_7.drop('unempl', axis=1)\ndf_7", 
            "cell_type": "code", 
            "metadata": {}, 
            "outputs": [], 
            "execution_count": null
        }, 
        {
            "source": "## 5. Indexing, Selecting, Filtering", 
            "cell_type": "markdown", 
            "metadata": {}
        }, 
        {
            "source": "Series indexing is similar to NumPy array indexing with the added bonus of being able to use the Series' index values.", 
            "cell_type": "markdown", 
            "metadata": {}
        }, 
        {
            "source": "ser_2", 
            "cell_type": "code", 
            "metadata": {}, 
            "outputs": [], 
            "execution_count": null
        }, 
        {
            "source": "Select a value from a Series:", 
            "cell_type": "markdown", 
            "metadata": {}
        }, 
        {
            "source": "ser_2[0] == ser_2['a']", 
            "cell_type": "code", 
            "metadata": {}, 
            "outputs": [], 
            "execution_count": null
        }, 
        {
            "source": "Select a slice from a Series:", 
            "cell_type": "markdown", 
            "metadata": {}
        }, 
        {
            "source": "ser_2[1:4]", 
            "cell_type": "code", 
            "metadata": {}, 
            "outputs": [], 
            "execution_count": null
        }, 
        {
            "source": "Select specific values from a Series:", 
            "cell_type": "markdown", 
            "metadata": {}
        }, 
        {
            "source": "ser_2[['b', 'c', 'd']]", 
            "cell_type": "code", 
            "metadata": {}, 
            "outputs": [], 
            "execution_count": null
        }, 
        {
            "source": "Select from a Series based on a filter:", 
            "cell_type": "markdown", 
            "metadata": {}
        }, 
        {
            "source": "ser_2[ser_2 > 0]", 
            "cell_type": "code", 
            "metadata": {}, 
            "outputs": [], 
            "execution_count": null
        }, 
        {
            "source": "Select a slice from a Series with labels (note the end point is inclusive):", 
            "cell_type": "markdown", 
            "metadata": {}
        }, 
        {
            "source": "ser_2['a':'b']", 
            "cell_type": "code", 
            "metadata": {}, 
            "outputs": [], 
            "execution_count": null
        }, 
        {
            "source": "Assign to a Series slice (note the end point is inclusive):", 
            "cell_type": "markdown", 
            "metadata": {}
        }, 
        {
            "source": "ser_2['a':'b'] = 0\nser_2", 
            "cell_type": "code", 
            "metadata": {}, 
            "outputs": [], 
            "execution_count": null
        }, 
        {
            "source": "Pandas supports indexing into a DataFrame.", 
            "cell_type": "markdown", 
            "metadata": {}
        }, 
        {
            "source": "df_6", 
            "cell_type": "code", 
            "metadata": {}, 
            "outputs": [], 
            "execution_count": null
        }, 
        {
            "source": "Select specified columns from a DataFrame:", 
            "cell_type": "markdown", 
            "metadata": {}
        }, 
        {
            "source": "df_6[['pop', 'unempl']]", 
            "cell_type": "code", 
            "metadata": {}, 
            "outputs": [], 
            "execution_count": null
        }, 
        {
            "source": "Select a slice from a DataFrame:", 
            "cell_type": "markdown", 
            "metadata": {}
        }, 
        {
            "source": "df_6[:2]", 
            "cell_type": "code", 
            "metadata": {}, 
            "outputs": [], 
            "execution_count": null
        }, 
        {
            "source": "Select from a DataFrame based on a filter:", 
            "cell_type": "markdown", 
            "metadata": {}
        }, 
        {
            "source": "df_6[df_6['pop'] > 5]", 
            "cell_type": "code", 
            "metadata": {}, 
            "outputs": [], 
            "execution_count": null
        }, 
        {
            "source": "Perform a scalar comparison on a DataFrame:", 
            "cell_type": "markdown", 
            "metadata": {}
        }, 
        {
            "source": "df_6 > 5", 
            "cell_type": "code", 
            "metadata": {}, 
            "outputs": [], 
            "execution_count": null
        }, 
        {
            "source": "Perform a scalar comparison on a DataFrame, retain the values that pass the filter:", 
            "cell_type": "markdown", 
            "metadata": {}
        }, 
        {
            "source": "df_6[df_6 > 5]", 
            "cell_type": "code", 
            "metadata": {}, 
            "outputs": [], 
            "execution_count": null
        }, 
        {
            "source": "Select a slice of rows from a DataFrame (note the end point is inclusive):", 
            "cell_type": "markdown", 
            "metadata": {}
        }, 
        {
            "source": "df_6.ix[2:3]", 
            "cell_type": "code", 
            "metadata": {}, 
            "outputs": [], 
            "execution_count": null
        }, 
        {
            "source": "Select a slice of rows from a specific column of a DataFrame:", 
            "cell_type": "markdown", 
            "metadata": {}
        }, 
        {
            "source": "df_6.ix[0:2, 'pop']", 
            "cell_type": "code", 
            "metadata": {}, 
            "outputs": [], 
            "execution_count": null
        }, 
        {
            "source": "Select rows based on an arithmetic operation on a specific row:", 
            "cell_type": "markdown", 
            "metadata": {}
        }, 
        {
            "source": "df_6.ix[df_6.unempl > 5.0]", 
            "cell_type": "code", 
            "metadata": {}, 
            "outputs": [], 
            "execution_count": null
        }, 
        {
            "source": "## 6. Arithmetic and Data Alignment", 
            "cell_type": "markdown", 
            "metadata": {}
        }, 
        {
            "source": "Adding Series objects results in the union of index pairs if the pairs are not the same, resulting in NaN for indices that do not overlap:", 
            "cell_type": "markdown", 
            "metadata": {}
        }, 
        {
            "source": "np.random.seed(0)\nser_6 = Series(np.random.randn(5),\n               index=['a', 'b', 'c', 'd', 'e'])\nser_6", 
            "cell_type": "code", 
            "metadata": {}, 
            "outputs": [], 
            "execution_count": null
        }, 
        {
            "source": "np.random.seed(1)\nser_7 = Series(np.random.randn(5),\n               index=['a', 'c', 'e', 'f', 'g'])\nser_7", 
            "cell_type": "code", 
            "metadata": {}, 
            "outputs": [], 
            "execution_count": null
        }, 
        {
            "source": "ser_6 + ser_7", 
            "cell_type": "code", 
            "metadata": {}, 
            "outputs": [], 
            "execution_count": null
        }, 
        {
            "source": "Set a fill value instead of NaN for indices that do not overlap:", 
            "cell_type": "markdown", 
            "metadata": {}
        }, 
        {
            "source": "ser_6.add(ser_7, fill_value=0)", 
            "cell_type": "code", 
            "metadata": {}, 
            "outputs": [], 
            "execution_count": null
        }, 
        {
            "source": "Adding DataFrame objects results in the union of index pairs for rows and columns if the pairs are not the same, resulting in NaN for indices that do not overlap:", 
            "cell_type": "markdown", 
            "metadata": {}
        }, 
        {
            "source": "np.random.seed(0)\ndf_8 = DataFrame(np.random.rand(9).reshape((3, 3)),\n                 columns=['a', 'b', 'c'])\ndf_8", 
            "cell_type": "code", 
            "metadata": {}, 
            "outputs": [], 
            "execution_count": null
        }, 
        {
            "source": "np.random.seed(1)\ndf_9 = DataFrame(np.random.rand(9).reshape((3, 3)),\n                 columns=['b', 'c', 'd'])\ndf_9", 
            "cell_type": "code", 
            "metadata": {}, 
            "outputs": [], 
            "execution_count": null
        }, 
        {
            "source": "df_8 + df_9", 
            "cell_type": "code", 
            "metadata": {}, 
            "outputs": [], 
            "execution_count": null
        }, 
        {
            "source": "Set a fill value instead of NaN for indices that do not overlap:", 
            "cell_type": "markdown", 
            "metadata": {}
        }, 
        {
            "source": "df_10 = df_8.add(df_9, fill_value=0)\ndf_10", 
            "cell_type": "code", 
            "metadata": {}, 
            "outputs": [], 
            "execution_count": null
        }, 
        {
            "source": "Like NumPy, pandas supports arithmetic operations between DataFrames and Series.\n\nMatch the index of the Series on the DataFrame's columns, broadcasting down the rows:", 
            "cell_type": "markdown", 
            "metadata": {}
        }, 
        {
            "source": "ser_8 = df_10.ix[0]\ndf_11 = df_10 - ser_8\ndf_11", 
            "cell_type": "code", 
            "metadata": {}, 
            "outputs": [], 
            "execution_count": null
        }, 
        {
            "source": "Match the index of the Series on the DataFrame's columns, broadcasting down the rows and union the indices that do not match:", 
            "cell_type": "markdown", 
            "metadata": {}
        }, 
        {
            "source": "ser_9 = Series(range(3), index=['a', 'd', 'e'])\nser_9", 
            "cell_type": "code", 
            "metadata": {}, 
            "outputs": [], 
            "execution_count": null
        }, 
        {
            "source": "df_11 - ser_9", 
            "cell_type": "code", 
            "metadata": {}, 
            "outputs": [], 
            "execution_count": null
        }, 
        {
            "source": "Broadcast over the columns and match the rows (axis=0) by using an arithmetic method:", 
            "cell_type": "markdown", 
            "metadata": {}
        }, 
        {
            "source": "df_10", 
            "cell_type": "code", 
            "metadata": {}, 
            "outputs": [], 
            "execution_count": null
        }, 
        {
            "source": "ser_10 = Series([100, 200, 300])\nser_10", 
            "cell_type": "code", 
            "metadata": {}, 
            "outputs": [], 
            "execution_count": null
        }, 
        {
            "source": "df_10.sub(ser_10, axis=0)", 
            "cell_type": "code", 
            "metadata": {}, 
            "outputs": [], 
            "execution_count": null
        }, 
        {
            "source": "## 7. Function Application and Mapping", 
            "cell_type": "markdown", 
            "metadata": {}
        }, 
        {
            "source": "NumPy ufuncs (element-wise array methods) operate on pandas objects:", 
            "cell_type": "markdown", 
            "metadata": {}
        }, 
        {
            "source": "df_11 = np.abs(df_11)\ndf_11", 
            "cell_type": "code", 
            "metadata": {}, 
            "outputs": [], 
            "execution_count": null
        }, 
        {
            "source": "Apply a function on 1D arrays to each column:", 
            "cell_type": "markdown", 
            "metadata": {}
        }, 
        {
            "source": "func_1 = lambda x: x.max() - x.min()\ndf_11.apply(func_1)", 
            "cell_type": "code", 
            "metadata": {}, 
            "outputs": [], 
            "execution_count": null
        }, 
        {
            "source": "Apply a function on 1D arrays to each row:", 
            "cell_type": "markdown", 
            "metadata": {}
        }, 
        {
            "source": "df_11.apply(func_1, axis=1)", 
            "cell_type": "code", 
            "metadata": {}, 
            "outputs": [], 
            "execution_count": null
        }, 
        {
            "source": "Apply a function and return a DataFrame:", 
            "cell_type": "markdown", 
            "metadata": {}
        }, 
        {
            "source": "func_2 = lambda x: Series([x.min(), x.max()], index=['min', 'max'])\ndf_11.apply(func_2)", 
            "cell_type": "code", 
            "metadata": {}, 
            "outputs": [], 
            "execution_count": null
        }, 
        {
            "source": "Apply an element-wise Python function to a DataFrame:", 
            "cell_type": "markdown", 
            "metadata": {}
        }, 
        {
            "source": "func_3 = lambda x: '%.2f' %x\ndf_11.applymap(func_3)", 
            "cell_type": "code", 
            "metadata": {}, 
            "outputs": [], 
            "execution_count": null
        }, 
        {
            "source": "Apply an element-wise Python function to a Series:", 
            "cell_type": "markdown", 
            "metadata": {}
        }, 
        {
            "source": "df_11['a'].map(func_3)", 
            "cell_type": "code", 
            "metadata": {}, 
            "outputs": [], 
            "execution_count": null
        }, 
        {
            "source": "## 8. Sorting and Ranking", 
            "cell_type": "markdown", 
            "metadata": {}
        }, 
        {
            "source": "ser_4", 
            "cell_type": "code", 
            "metadata": {}, 
            "outputs": [], 
            "execution_count": null
        }, 
        {
            "source": "Sort a Series by its index:", 
            "cell_type": "markdown", 
            "metadata": {}
        }, 
        {
            "source": "ser_4.sort_index()", 
            "cell_type": "code", 
            "metadata": {}, 
            "outputs": [], 
            "execution_count": null
        }, 
        {
            "source": "Sort a Series by its values:", 
            "cell_type": "markdown", 
            "metadata": {}
        }, 
        {
            "source": "ser_4.sort_values()", 
            "cell_type": "code", 
            "metadata": {}, 
            "outputs": [], 
            "execution_count": null
        }, 
        {
            "source": "df_12 = DataFrame(np.arange(12).reshape((3, 4)),\n                  index=['three', 'one', 'two'],\n                  columns=['c', 'a', 'b', 'd'])\ndf_12", 
            "cell_type": "code", 
            "metadata": {}, 
            "outputs": [], 
            "execution_count": null
        }, 
        {
            "source": "Sort a DataFrame by its index:", 
            "cell_type": "markdown", 
            "metadata": {}
        }, 
        {
            "source": "df_12.sort_index()", 
            "cell_type": "code", 
            "metadata": {}, 
            "outputs": [], 
            "execution_count": null
        }, 
        {
            "source": "Sort a DataFrame by columns in descending order:", 
            "cell_type": "markdown", 
            "metadata": {}
        }, 
        {
            "source": "df_12.sort_index(axis=1, ascending=False)", 
            "cell_type": "code", 
            "metadata": {}, 
            "outputs": [], 
            "execution_count": null
        }, 
        {
            "source": "Sort a DataFrame's values by column:", 
            "cell_type": "markdown", 
            "metadata": {}
        }, 
        {
            "source": "df_12.sort_values(by=['d', 'c'])", 
            "cell_type": "code", 
            "metadata": {}, 
            "outputs": [], 
            "execution_count": null
        }, 
        {
            "source": "Ranking is similar to numpy.argsort except that ties are broken by assigning each group the mean rank:", 
            "cell_type": "markdown", 
            "metadata": {}
        }, 
        {
            "source": "ser_11 = Series([7, -5, 7, 4, 2, 0, 4, 7])\nser_11 = ser_11.sort_values()\nser_11", 
            "cell_type": "code", 
            "metadata": {}, 
            "outputs": [], 
            "execution_count": null
        }, 
        {
            "source": "ser_11.rank()", 
            "cell_type": "code", 
            "metadata": {}, 
            "outputs": [], 
            "execution_count": null
        }, 
        {
            "source": "Rank a Series according to when they appear in the data:", 
            "cell_type": "markdown", 
            "metadata": {}
        }, 
        {
            "source": "ser_11.rank(method='first')", 
            "cell_type": "code", 
            "metadata": {}, 
            "outputs": [], 
            "execution_count": null
        }, 
        {
            "source": "Rank a Series in descending order, using the maximum rank for the group:", 
            "cell_type": "markdown", 
            "metadata": {}
        }, 
        {
            "source": "ser_11.rank(ascending=False, method='max')", 
            "cell_type": "code", 
            "metadata": {}, 
            "outputs": [], 
            "execution_count": null
        }, 
        {
            "source": "DataFrames can rank over rows or columns.", 
            "cell_type": "markdown", 
            "metadata": {}
        }, 
        {
            "source": "df_13 = DataFrame({'foo' : [7, -5, 7, 4, 2, 0, 4, 7],\n                   'bar' : [-5, 4, 2, 0, 4, 7, 7, 8],\n                   'baz' : [-1, 2, 3, 0, 5, 9, 9, 5]})\ndf_13", 
            "cell_type": "code", 
            "metadata": {}, 
            "outputs": [], 
            "execution_count": null
        }, 
        {
            "source": "Rank a DataFrame over rows:", 
            "cell_type": "markdown", 
            "metadata": {}
        }, 
        {
            "source": "df_13.rank()", 
            "cell_type": "code", 
            "metadata": {}, 
            "outputs": [], 
            "execution_count": null
        }, 
        {
            "source": "Rank a DataFrame over columns:", 
            "cell_type": "markdown", 
            "metadata": {}
        }, 
        {
            "source": "df_13.rank(axis=1)", 
            "cell_type": "code", 
            "metadata": {}, 
            "outputs": [], 
            "execution_count": null
        }, 
        {
            "source": "## 9. Axis Indexes with Duplicate Values", 
            "cell_type": "markdown", 
            "metadata": {}
        }, 
        {
            "source": "Labels do not have to be unique in Pandas:", 
            "cell_type": "markdown", 
            "metadata": {}
        }, 
        {
            "source": "ser_12 = Series(range(5), index=['foo', 'foo', 'bar', 'bar', 'baz'])\nser_12", 
            "cell_type": "code", 
            "metadata": {}, 
            "outputs": [], 
            "execution_count": null
        }, 
        {
            "source": "ser_12.index.is_unique", 
            "cell_type": "code", 
            "metadata": {}, 
            "outputs": [], 
            "execution_count": null
        }, 
        {
            "source": "Select Series elements:", 
            "cell_type": "markdown", 
            "metadata": {}
        }, 
        {
            "source": "ser_12['foo']", 
            "cell_type": "code", 
            "metadata": {}, 
            "outputs": [], 
            "execution_count": null
        }, 
        {
            "source": "Select DataFrame elements:", 
            "cell_type": "markdown", 
            "metadata": {}
        }, 
        {
            "source": "df_14 = DataFrame(np.random.randn(5, 4),\n                  index=['foo', 'foo', 'bar', 'bar', 'baz'])\ndf_14", 
            "cell_type": "code", 
            "metadata": {}, 
            "outputs": [], 
            "execution_count": null
        }, 
        {
            "source": "df_14.ix['bar']", 
            "cell_type": "code", 
            "metadata": {}, 
            "outputs": [], 
            "execution_count": null
        }, 
        {
            "source": "## 10. Summarizing and Computing Descriptive Statistics", 
            "cell_type": "markdown", 
            "metadata": {}
        }, 
        {
            "source": "Unlike NumPy arrays, Pandas descriptive statistics automatically exclude missing data.  NaN values are excluded unless the entire row or column is NA.", 
            "cell_type": "markdown", 
            "metadata": {}
        }, 
        {
            "source": "df_6", 
            "cell_type": "code", 
            "metadata": {}, 
            "outputs": [], 
            "execution_count": null
        }, 
        {
            "source": "df_6.sum()", 
            "cell_type": "code", 
            "metadata": {}, 
            "outputs": [], 
            "execution_count": null
        }, 
        {
            "source": "Sum over the rows:", 
            "cell_type": "markdown", 
            "metadata": {}
        }, 
        {
            "source": "df_6.sum(axis=1)", 
            "cell_type": "code", 
            "metadata": {}, 
            "outputs": [], 
            "execution_count": null
        }, 
        {
            "source": "Account for NaNs:", 
            "cell_type": "markdown", 
            "metadata": {}
        }, 
        {
            "source": "df_6.sum(axis=1, skipna=False)", 
            "cell_type": "code", 
            "metadata": {}, 
            "outputs": [], 
            "execution_count": null
        }, 
        {
            "source": "## 11. Cleaning Data\n* Replace\n* Drop\n* Concatenate", 
            "cell_type": "markdown", 
            "metadata": {}
        }, 
        {
            "source": "from pandas import Series, DataFrame\nimport pandas as pd", 
            "cell_type": "code", 
            "metadata": {}, 
            "outputs": [], 
            "execution_count": null
        }, 
        {
            "source": "Setup a DataFrame:", 
            "cell_type": "markdown", 
            "metadata": {}
        }, 
        {
            "source": "data_1 = {'state' : ['VA', 'VA', 'VA', 'MD', 'MD'],\n          'year' : [2012, 2013, 2014, 2014, 2015],\n          'population' : [5.0, 5.1, 5.2, 4.0, 4.1]}\ndf_1 = DataFrame(data_1)\ndf_1", 
            "cell_type": "code", 
            "metadata": {}, 
            "outputs": [], 
            "execution_count": null
        }, 
        {
            "source": "### 11.1 Replace", 
            "cell_type": "markdown", 
            "metadata": {}
        }, 
        {
            "source": "Replace all occurrences of a string with another string, in place (no copy):", 
            "cell_type": "markdown", 
            "metadata": {}
        }, 
        {
            "source": "df_1.replace('VA', 'VIRGINIA', inplace=True)\ndf_1", 
            "cell_type": "code", 
            "metadata": {}, 
            "outputs": [], 
            "execution_count": null
        }, 
        {
            "source": "In a specified column, replace all occurrences of a string with another string, in place (no copy):", 
            "cell_type": "markdown", 
            "metadata": {}
        }, 
        {
            "source": "df_1.replace({'state' : { 'MD' : 'MARYLAND' }}, inplace=True)\ndf_1", 
            "cell_type": "code", 
            "metadata": {}, 
            "outputs": [], 
            "execution_count": null
        }, 
        {
            "source": "### 11.2 Drop", 
            "cell_type": "markdown", 
            "metadata": {}
        }, 
        {
            "source": "Drop the 'population' column and return a copy of the DataFrame:", 
            "cell_type": "markdown", 
            "metadata": {}
        }, 
        {
            "source": "df_2 = df_1.drop('population', axis=1)\ndf_2", 
            "cell_type": "code", 
            "metadata": {}, 
            "outputs": [], 
            "execution_count": null
        }, 
        {
            "source": "### 11.3 Concatenate", 
            "cell_type": "markdown", 
            "metadata": {}
        }, 
        {
            "source": "Concatenate two DataFrames:", 
            "cell_type": "markdown", 
            "metadata": {}
        }, 
        {
            "source": "data_2 = {'state' : ['NY', 'NY', 'NY', 'FL', 'FL'],\n          'year' : [2012, 2013, 2014, 2014, 2015],\n          'population' : [6.0, 6.1, 6.2, 3.0, 3.1]}\ndf_3 = DataFrame(data_2)\ndf_3", 
            "cell_type": "code", 
            "metadata": {}, 
            "outputs": [], 
            "execution_count": null
        }, 
        {
            "source": "df_4 = pd.concat([df_1, df_3])\ndf_4", 
            "cell_type": "code", 
            "metadata": {}, 
            "outputs": [], 
            "execution_count": null
        }, 
        {
            "source": "## 12. Input and Output\n* Reading\n* Writing", 
            "cell_type": "markdown", 
            "metadata": {}
        }, 
        {
            "source": "from pandas import Series, DataFrame\nimport pandas as pd", 
            "cell_type": "code", 
            "metadata": {}, 
            "outputs": [], 
            "execution_count": null
        }, 
        {
            "source": "### 12.1 Reading", 
            "cell_type": "markdown", 
            "metadata": {}
        }, 
        {
            "source": "Read data from a CSV file into a DataFrame (use sep='\\t' for TSV):", 
            "cell_type": "markdown", 
            "metadata": {}
        }, 
        {
            "source": "!pip install wget", 
            "cell_type": "code", 
            "metadata": {}, 
            "outputs": [], 
            "execution_count": null
        }, 
        {
            "source": "import wget\n\nlink_to_data = 'https://github.com/tulip-lab/sit742/raw/master/Jupyter/data/ozone.csv'\nDataSet = wget.download(link_to_data)\n\ndf_1 = pd.read_csv(\"ozone.csv\")", 
            "cell_type": "code", 
            "metadata": {}, 
            "outputs": [], 
            "execution_count": null
        }, 
        {
            "source": "Get a summary of the DataFrame:", 
            "cell_type": "markdown", 
            "metadata": {}
        }, 
        {
            "source": "df_1.describe()", 
            "cell_type": "code", 
            "metadata": {}, 
            "outputs": [], 
            "execution_count": null
        }, 
        {
            "source": "List the first five rows of the DataFrame:", 
            "cell_type": "markdown", 
            "metadata": {}
        }, 
        {
            "source": "df_1.head()", 
            "cell_type": "code", 
            "metadata": {}, 
            "outputs": [], 
            "execution_count": null
        }, 
        {
            "source": "### 12.2 Writing", 
            "cell_type": "markdown", 
            "metadata": {}
        }, 
        {
            "source": "Create a copy of the CSV file, encoded in UTF-8 and hiding the index and header labels:", 
            "cell_type": "markdown", 
            "metadata": {}
        }, 
        {
            "source": "df_1.to_csv('ozone_copy.csv', \n            encoding='utf-8', \n            index=False, \n            header=False)", 
            "cell_type": "code", 
            "metadata": {}, 
            "outputs": [], 
            "execution_count": null
        }, 
        {
            "source": "View the data directory:", 
            "cell_type": "markdown", 
            "metadata": {}
        }, 
        {
            "source": "!ls -l ./", 
            "cell_type": "code", 
            "metadata": {}, 
            "outputs": [], 
            "execution_count": null
        }
    ], 
    "metadata": {
        "kernelspec": {
            "display_name": "Python 3.5", 
            "name": "python3", 
            "language": "python"
        }, 
        "language_info": {
            "mimetype": "text/x-python", 
            "nbconvert_exporter": "python", 
            "version": "3.5.5", 
            "name": "python", 
            "pygments_lexer": "ipython3", 
            "file_extension": ".py", 
            "codemirror_mode": {
                "version": 3, 
                "name": "ipython"
            }
        }, 
        "anaconda-cloud": {}
    }, 
    "nbformat": 4
}