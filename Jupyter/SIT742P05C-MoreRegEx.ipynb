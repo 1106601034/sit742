{
 "cells": [
  {
   "cell_type": "markdown",
   "metadata": {
    "colab_type": "text",
    "id": "bD2Bwb8MNZmj"
   },
   "source": [
    "# SIT742: Modern Data Science \n",
    "**(Week 05: Text Analysis)**\n",
    "\n",
    "---\n",
    "- Materials in this module include resources collected from various open-source online repositories.\n",
    "- You are free to use, change and distribute this package.\n",
    "- If you found any issue/bug for this document, please submit an issue at [tulip-lab/sit742](https://github.com/tulip-lab/sit742/issues)\n",
    "\n",
    "Prepared by **SIT742 Teaching Team**\n",
    "\n",
    "---\n",
    "\n",
    "## Session 5C - More on Regular Expressions (Optional)\n",
    "\n",
    "Table of Content\n",
    "\n",
    "* Part 1. Get Started with Regular Expressions\n",
    "* Part 2. Case Study (1) - Parsing Dates with Regular Expressions \n",
    "* Part 3. Case Study (2) - Extract IPs, dates, and email address \n",
    "* Part 4. Summary\n",
    "* Part 5. Exercises\n",
    "\n",
    "---\n",
    "\n",
    "\n",
    "Getting a specific piece of text from a large block of text is a very challenging problem in parsing data.\n",
    "In various programming languages there are built-in string functions available for \n",
    "searching and replacing. For example, the [common string operations](https://docs.python.org/2/library/string.html) built in Python. \n",
    "However, these methods are limited to simplest cases. For example, the `string.find()` method in Python \n",
    "returns the lowest index of the matched substring in a given string.\n",
    "In more complex cases, such as data validation, where you are going to test an string to see if a telephone number pattern occurs within the string, it could result in code containing a stack of \n",
    "`if` statements by using different Python's built-in string functions.\n",
    "To simplify the code and make it more readable, you might need to move up to [regular expressions](https://en.wikipedia.org/wiki/Regular_expression). So what is a regular expression?\n",
    "\n",
    "> \"A regular expression is a pattern which specifies a set of strings of characters; it is said to match certain strings.\"--- Ken Thompson\n",
    "\n",
    "If you've ever typed `cp *.ipynb ../module_2/` at the UNIX command prompt, or entered \"match?\" into a web-based search engine, you've already used a simple regular expression. In the first instance, you've copied all the files which end with file extension \".ipynb\" (as opposed to copying them one by one); in the second, you've conducted a search not only for \"match,\" but also for \"matches\", \"matching\", \"matched\", and \"matcher\" all at once.\n",
    "Using a well-crafted regular expression, you can easily search through a large number of text files, searching for words ending with \"ed\", replace the .html suffix with a .xml suffix, and then change all the lower case characters to upper case. \n",
    "\n",
    "Regular expressions (Regex) are all about matching and finding patterns in text, from simple patterns to the very complex ones.\n",
    "For instance, they can be simple as this:\n",
    "```python\n",
    "    \\d\n",
    "```\n",
    "A character shorthand that matches any digit from 0 to 9.\n",
    "They can also be something a bit more complicated like \n",
    "```python\n",
    "(19|20)\\d\\d[- /.](0[1-9]|1[012])[- /.](0[1-9]|[12][0-9]|3[01])\n",
    "```\n",
    "which is where we will wind up at the end of this chapter: a fairly robust regular expression\n",
    "that matches a date in yyyy-mm-dd format from between 1900-01-01 and 2099-12-31, with a choice of four separators, which are '-', ' ', '/' and '.'. This regular expression can be visualised as\n",
    "\n",
    "![regEx](https://github.com/tulip-lab/sit742/raw/master/Jupyter/image/regeximg1.png)\n",
    "\n",
    "\n",
    "If you are an experienced Regex user, this seems simple and straightforward.\n",
    "However, if you are new to Regex or aren't exprienced enough, it takes a while to understand it. \n",
    "Don't worry if you don't get how that all works. \n",
    "We will show you how to develop regular expressions step-by-step in this chapter.\n",
    "If you just follow the examples, writing regular expression will eventually turn out to be not \n",
    "that hard. To quickly review some regular expression syntax:\n",
    "\n",
    "\n",
    "* <font color=\"red\">[0-9]</font> Matches a single digit\n",
    "* <font color=\"red\">[a-z0-9]</font> Matches a single character that must be a lower case letter or a digit.\n",
    "* <font color=\"red\">[A-Za-z]</font> Matches a single character that much be a upper/lower case letter \n",
    "* <font color=\"red\">\\d</font> Matches any decimal digit; equivalent to the set [0-9].\n",
    "* <font color=\"red\">\\D</font> Matches characters that are not digits, which is equivalent to [^0-9] or [^\\d].\n",
    "* <font color=\"red\">\\w</font> Matches any alphanumeric character, which is equivalent to [a-zA-Z0-9].\n",
    "* <font color=\"red\">\\W</font> Matches any non-alphanumeric character; which is equivalent to [^a-zA-Z0-9] or [^\\w].\n",
    "* <font color=\"red\">\\s</font> Matches any whitespace character; which is equivalent to [\\t\\n\\r\\f\\v], where \\t indicates taps, \\n  line feeds, \\r carriage returns, \\f form feeds and \\v vertical tabs.\n",
    "* <font color=\"red\">\\S:</font> Matches any non-whitespace character; which is equivalent to  [^ \\t\\n\\r\\f\\v].\n",
    "* <font color=\"red\">ˆ</font> Matches the start of the line.\n",
    "* <font color=\"red\">$</font> Matches the end of the line.\n",
    "* <font color=\"red\">.</font> Matches any character (a wildcard).\n",
    "* <font color=\"red\">*</font> Matches when the preceding character occurs zero or more times\n",
    "* <font color=\"red\">?</font> Matches when the preceding character occurs zero or one times\n",
    "* <font color=\"red\">+</font> Matches when the preceding character occurs one or more times\n",
    "\n",
    "More information can be found here :\n",
    "https://docs.python.org/3.8/library/re.html\n",
    "\n",
    "---\n"
   ]
  },
  {
   "cell_type": "code",
   "execution_count": 0,
   "metadata": {
    "colab": {
     "base_uri": "https://localhost:8080/",
     "height": 35
    },
    "colab_type": "code",
    "executionInfo": {
     "elapsed": 1018,
     "status": "ok",
     "timestamp": 1553224506959,
     "user": {
      "displayName": "LIU ZHI",
      "photoUrl": "",
      "userId": "02817931634636469244"
     },
     "user_tz": -660
    },
    "id": "i-w32m6GNZml",
    "outputId": "2c8a3b8f-fc72-4e9e-8dda-92d68feabc1d"
   },
   "outputs": [
    {
     "name": "stdout",
     "output_type": "stream",
     "text": [
      "sys.version_info(major=3, minor=6, micro=7, releaselevel='final', serial=0)\n"
     ]
    }
   ],
   "source": [
    "import sys\n",
    "print (sys.version_info)"
   ]
  },
  {
   "cell_type": "markdown",
   "metadata": {
    "colab_type": "text",
    "id": "rmMnvbrPNZmp"
   },
   "source": [
    "Libraries needed are:"
   ]
  },
  {
   "cell_type": "code",
   "execution_count": 0,
   "metadata": {
    "colab": {
     "base_uri": "https://localhost:8080/",
     "height": 35
    },
    "colab_type": "code",
    "executionInfo": {
     "elapsed": 2483,
     "status": "ok",
     "timestamp": 1553224508431,
     "user": {
      "displayName": "LIU ZHI",
      "photoUrl": "",
      "userId": "02817931634636469244"
     },
     "user_tz": -660
    },
    "id": "CXFSZb7PNZmq",
    "outputId": "552ea47e-55e2-4524-c2d1-f839abc9f29e"
   },
   "outputs": [
    {
     "data": {
      "text/plain": [
       "'0.22.0'"
      ]
     },
     "execution_count": 2,
     "metadata": {
      "tags": []
     },
     "output_type": "execute_result"
    }
   ],
   "source": [
    "# library for regular expression\n",
    "import re\n",
    "import pandas as pd\n",
    "pd.__version__"
   ]
  },
  {
   "cell_type": "markdown",
   "metadata": {
    "colab_type": "text",
    "id": "FaQuZA44NZms"
   },
   "source": [
    "## Part 1. Regular Expressions\n",
    "\n",
    "As a powerful way of searching, replacing, and parsing text with complex patterns of characters, regular expressions are the most significant tools in data parsing. They figure into all kinds of text-manipulation tasks. Searching and search-and-replace are among the most common uses. Regular expressions tend to be easier to write than they are to read. This is less of a problem if you are the only one who ever needs to maintain them. But if several people need to, the syntax can turn into more of a hindrance than an aid. For example,\n",
    "```python\n",
    "    ^(|(([A-Za-z0-9]+_+)|([A-Za-z0-9]+\\-+)|([A-Za-z0-9]+\\.+)|([A-Za-z0-9]+\\++))*[A-Za-z0-9]+@((\\w+\\-+)|(\\w+\\.))*\\w{1,63}\\.[a-zA-Z]{2,6})$\n",
    "```\n",
    "is a regular expression for validating email addresses.\n",
    "Please don't try to parse it yourself, \n",
    "since an experienced regular expression user might take a while to parse it.\n",
    "In this section, we will first go through some good introductory materials of regular expressions,\n",
    "and then show you some fundamentals of how to use regular expressions in search text.\n",
    "\n",
    "There are a couple of good online materials that introduce regular expressions in Python. \n",
    "We strongly suggest that you study this chapter together with these materials. \n",
    "They are \n",
    "* [Regular Expression HOWTO](https://docs.python.org/3.8/howto/regex.html) from Python's office website: An introductory tutorial to using regular expressions in Python with the `re` module. 📖\n",
    "* [Regular Expressions](https://www.deakin.edu.au/library), chapter 5 of \"**Dive into Python 3**\": A series of examples inspired by real world problems are used to show you how to generate regular expressions for parsing street name, Roman numerals, and phone numbers. 📖\n",
    "\n",
    "The complete list of meta-characters and their behaviour in the context of regular expressions can be found [here](https://docs.python.org/3.8/library/re.html). Besides, there is an alternative material if you would like to view, which is \n",
    "\n",
    "* [RegexOne](http://regexone.com): An interactive tutorial on learning regular expressions with simple exercises.\n",
    "\n",
    "Before we go through some basics of regular expressions in python, we would like to point out [RegExr](http://regexr.com) by Grant Skinner. It is an online tool to learn, build, & test regular expressions. RegExr provides us with syntax highlighting, contextual help, video tutorial, reference, and searchable community patterns.\n",
    "You will find a lot of good information in the six tabs provides on its website. In addition, pop-ups appear when you hover over the regular expression or target text in RegExr, giving you helpful information linking you between a regular expression and the corresponding matches in text. \n",
    "These resources are one of the reasons why RegExr is among our favourite online Regex checkers."
   ]
  },
  {
   "cell_type": "markdown",
   "metadata": {
    "colab_type": "text",
    "id": "RTJ3xIQWNZmt"
   },
   "source": [
    "### 1.0. Backslash\n",
    "\n",
    "**First, what is '\\'? **\n",
    "\n",
    "'\\', backslash or escape-character, is used to indicate special forms or to allow special characters to be used without invoking their special meaning.\n",
    "\n",
    "\n",
    "\n",
    "\n",
    "**How about r\"\" ? When to use it? **\n",
    "\n",
    "r\"\" is Python’s string literal prefix notation, which has nothing to do with regular expression.  By using r\"\" or r'', Python will not handle special characters in any special way, in another word, it treated the contents as raw string. For example, r\"\\t\" represents\n",
    "a two-character string containing '\\' and 't', whereas \"\\t\" represents tab.\n",
    "\n",
    "Sometimes you can use them interchangeably,"
   ]
  },
  {
   "cell_type": "code",
   "execution_count": 0,
   "metadata": {
    "colab": {
     "base_uri": "https://localhost:8080/",
     "height": 52
    },
    "colab_type": "code",
    "executionInfo": {
     "elapsed": 2484,
     "status": "ok",
     "timestamp": 1553224508434,
     "user": {
      "displayName": "LIU ZHI",
      "photoUrl": "",
      "userId": "02817931634636469244"
     },
     "user_tz": -660
    },
    "id": "VvAnSkc0NZmu",
    "outputId": "5b1d2d9f-30dd-4e87-9888-621d01bfb47c"
   },
   "outputs": [
    {
     "name": "stdout",
     "output_type": "stream",
     "text": [
      "['\\t']\n",
      "['\\t']\n"
     ]
    }
   ],
   "source": [
    "str1 = re.findall('\\t', \"Please find \\t\")\n",
    "print (str1)\n",
    "\n",
    "str2 = re.findall(r'\\t', \"Please find \\t\")\n",
    "print (str2)"
   ]
  },
  {
   "cell_type": "markdown",
   "metadata": {
    "colab_type": "text",
    "id": "N1Y7iFDaNZmw"
   },
   "source": [
    "Sometimes not!"
   ]
  },
  {
   "cell_type": "code",
   "execution_count": 0,
   "metadata": {
    "colab": {
     "base_uri": "https://localhost:8080/",
     "height": 69
    },
    "colab_type": "code",
    "executionInfo": {
     "elapsed": 2483,
     "status": "ok",
     "timestamp": 1553224508438,
     "user": {
      "displayName": "LIU ZHI",
      "photoUrl": "",
      "userId": "02817931634636469244"
     },
     "user_tz": -660
    },
    "id": "miYI_1kINZmx",
    "outputId": "58fc286f-adeb-4d02-bbca-b52a52964bec"
   },
   "outputs": [
    {
     "name": "stdout",
     "output_type": "stream",
     "text": [
      "<_sre.SRE_Match object; span=(0, 4), match=' ff '>\n",
      "None\n",
      "<_sre.SRE_Match object; span=(0, 4), match=' ff '>\n"
     ]
    }
   ],
   "source": [
    "str1=re.match(r\"\\W(.)\\1\\W\", \" ff \")\n",
    "print (str1)\n",
    "\n",
    "str2=re.match(\"\\W(.)\\1\\W\", \" ff \")\n",
    "print (str2)\n",
    "\n",
    "str3=re.match(\"\\\\W(.)\\\\1\\\\W\", \" ff \")\n",
    "print (str3)"
   ]
  },
  {
   "cell_type": "markdown",
   "metadata": {
    "colab_type": "text",
    "id": "VjSO38vfNZm0"
   },
   "source": [
    "\"\\W(.)\\1\\W\" doesn't match ?  What is the difference? "
   ]
  },
  {
   "cell_type": "code",
   "execution_count": 0,
   "metadata": {
    "colab": {
     "base_uri": "https://localhost:8080/",
     "height": 52
    },
    "colab_type": "code",
    "executionInfo": {
     "elapsed": 2483,
     "status": "ok",
     "timestamp": 1553224508441,
     "user": {
      "displayName": "LIU ZHI",
      "photoUrl": "",
      "userId": "02817931634636469244"
     },
     "user_tz": -660
    },
    "id": "coetmCsfNZm1",
    "outputId": "c49688dc-226d-4278-95a8-ecf284acce5d"
   },
   "outputs": [
    {
     "name": "stdout",
     "output_type": "stream",
     "text": [
      "\\W(.)\u0001\\W\n"
     ]
    },
    {
     "data": {
      "text/plain": [
       "'\\\\W(.)\\x01\\\\W'"
      ]
     },
     "execution_count": 5,
     "metadata": {
      "tags": []
     },
     "output_type": "execute_result"
    }
   ],
   "source": [
    "str4=\"\\W(.)\\1\\W\"\n",
    "print (str4)\n",
    "str4"
   ]
  },
  {
   "cell_type": "code",
   "execution_count": 0,
   "metadata": {
    "colab": {
     "base_uri": "https://localhost:8080/",
     "height": 52
    },
    "colab_type": "code",
    "executionInfo": {
     "elapsed": 2483,
     "status": "ok",
     "timestamp": 1553224508444,
     "user": {
      "displayName": "LIU ZHI",
      "photoUrl": "",
      "userId": "02817931634636469244"
     },
     "user_tz": -660
    },
    "id": "LHSJzXZINZm3",
    "outputId": "f569308d-8466-4f7d-e9f8-239be9eb0870"
   },
   "outputs": [
    {
     "name": "stdout",
     "output_type": "stream",
     "text": [
      "\\W(.)\\1\\W\n"
     ]
    },
    {
     "data": {
      "text/plain": [
       "'\\\\W(.)\\\\1\\\\W'"
      ]
     },
     "execution_count": 6,
     "metadata": {
      "tags": []
     },
     "output_type": "execute_result"
    }
   ],
   "source": [
    "str4=r\"\\W(.)\\1\\W\"\n",
    "print (str4)\n",
    "str4"
   ]
  },
  {
   "cell_type": "markdown",
   "metadata": {
    "colab_type": "text",
    "id": "Bo9krm8sNZm6"
   },
   "source": [
    "Now you might be able to guess, what \"\\W(.)\\1\\W\" will match. "
   ]
  },
  {
   "cell_type": "code",
   "execution_count": 0,
   "metadata": {
    "colab": {
     "base_uri": "https://localhost:8080/",
     "height": 35
    },
    "colab_type": "code",
    "executionInfo": {
     "elapsed": 2484,
     "status": "ok",
     "timestamp": 1553224508448,
     "user": {
      "displayName": "LIU ZHI",
      "photoUrl": "",
      "userId": "02817931634636469244"
     },
     "user_tz": -660
    },
    "id": "FckvWV7SNZm7",
    "outputId": "a9dcce43-d35e-4fbb-a860-e108fe3efb01"
   },
   "outputs": [
    {
     "name": "stdout",
     "output_type": "stream",
     "text": [
      "<_sre.SRE_Match object; span=(0, 4), match=' f\\x01 '>\n"
     ]
    }
   ],
   "source": [
    "str2=re.match(\"\\W(.)\\1\\W\", \" f\\x01 \")\n",
    "print (str2)"
   ]
  },
  {
   "cell_type": "markdown",
   "metadata": {
    "colab_type": "text",
    "id": "TSg1ouaPNZm-"
   },
   "source": [
    "It matches with non-word + any one character  + \"\\x01\" + non=word.\n",
    "\n",
    "*Conclusion -- always fist validate your regular expression, then test with Python*\n",
    "\n",
    "\\* is ??  <br>\n",
    "\\* is a wildcard similar with ? and +  <br>\n",
    "\\* matches 0+ <br>\n",
    "? matches 0-1 <br>\n",
    "\\+ matches 1+ <br>"
   ]
  },
  {
   "cell_type": "code",
   "execution_count": 0,
   "metadata": {
    "colab": {
     "base_uri": "https://localhost:8080/",
     "height": 35
    },
    "colab_type": "code",
    "executionInfo": {
     "elapsed": 2484,
     "status": "ok",
     "timestamp": 1553224508451,
     "user": {
      "displayName": "LIU ZHI",
      "photoUrl": "",
      "userId": "02817931634636469244"
     },
     "user_tz": -660
    },
    "id": "Ui8igTavNZm-",
    "outputId": "f4838887-1a7d-44f6-d778-d82a17d6ff40"
   },
   "outputs": [
    {
     "name": "stdout",
     "output_type": "stream",
     "text": [
      "['Please find all.', '']\n"
     ]
    }
   ],
   "source": [
    "str1 = re.findall(r'.*', 'Please find all.')\n",
    "print (str1)"
   ]
  },
  {
   "cell_type": "code",
   "execution_count": 0,
   "metadata": {
    "colab": {
     "base_uri": "https://localhost:8080/",
     "height": 35
    },
    "colab_type": "code",
    "executionInfo": {
     "elapsed": 2484,
     "status": "ok",
     "timestamp": 1553224508455,
     "user": {
      "displayName": "LIU ZHI",
      "photoUrl": "",
      "userId": "02817931634636469244"
     },
     "user_tz": -660
    },
    "id": "SqBHd0P8NZnC",
    "outputId": "7642c6d4-bb1e-45c5-a357-eaa4a6c60831"
   },
   "outputs": [
    {
     "name": "stdout",
     "output_type": "stream",
     "text": [
      "['P', 'l', 'e', 'a', 's', 'e', ' ', 'f', 'i', 'n', 'd', ' ', 'a', 'l', 'l', '.', '']\n"
     ]
    }
   ],
   "source": [
    "str1 = re.findall(r'.?', 'Please find all.')\n",
    "print (str1)"
   ]
  },
  {
   "cell_type": "code",
   "execution_count": 0,
   "metadata": {
    "colab": {
     "base_uri": "https://localhost:8080/",
     "height": 35
    },
    "colab_type": "code",
    "executionInfo": {
     "elapsed": 2483,
     "status": "ok",
     "timestamp": 1553224508458,
     "user": {
      "displayName": "LIU ZHI",
      "photoUrl": "",
      "userId": "02817931634636469244"
     },
     "user_tz": -660
    },
    "id": "m-xGZkWZNZnE",
    "outputId": "f6c42bcf-e152-48d3-ae56-0a7550bda852"
   },
   "outputs": [
    {
     "name": "stdout",
     "output_type": "stream",
     "text": [
      "['Please find all.']\n"
     ]
    }
   ],
   "source": [
    "str1 = re.findall(r'.+', 'Please find all.')\n",
    "print (str1)"
   ]
  },
  {
   "cell_type": "code",
   "execution_count": 0,
   "metadata": {
    "colab": {
     "base_uri": "https://localhost:8080/",
     "height": 35
    },
    "colab_type": "code",
    "executionInfo": {
     "elapsed": 2483,
     "status": "ok",
     "timestamp": 1553224508461,
     "user": {
      "displayName": "LIU ZHI",
      "photoUrl": "",
      "userId": "02817931634636469244"
     },
     "user_tz": -660
    },
    "id": "k99Af94LNZnG",
    "outputId": "43525a4d-1a66-4f47-dc38-b10227a47613"
   },
   "outputs": [
    {
     "name": "stdout",
     "output_type": "stream",
     "text": [
      "['l', 'll']\n"
     ]
    }
   ],
   "source": [
    "str1 = re.findall(r'l+', 'Please find all')\n",
    "print (str1)"
   ]
  },
  {
   "cell_type": "markdown",
   "metadata": {
    "colab_type": "text",
    "id": "PgxuYPVzNZnI"
   },
   "source": [
    "### 1.1. Matching String Literals\n",
    "Matching strings with one or more literal characters, called string literals, is similar to the way you might do a search in a word editor or when submitting a keyword to a search engine. When you search for a string of text, you are searching with a string literal.\n",
    "Let's start with a very simple scenario. \n",
    "If we have a sentence like\n",
    "```\n",
    "    Today is 26 jan 2016, not 25 Jan 2016.\n",
    "```\n",
    "And want to see if the string contains the word `Jan`  using a Python regular expression,\n",
    "we'd use the following"
   ]
  },
  {
   "cell_type": "code",
   "execution_count": 0,
   "metadata": {
    "colab": {
     "base_uri": "https://localhost:8080/",
     "height": 35
    },
    "colab_type": "code",
    "executionInfo": {
     "elapsed": 2481,
     "status": "ok",
     "timestamp": 1553224508465,
     "user": {
      "displayName": "LIU ZHI",
      "photoUrl": "",
      "userId": "02817931634636469244"
     },
     "user_tz": -660
    },
    "id": "DAtdJESQNZnJ",
    "outputId": "6d42cbf6-be04-4a0b-9306-a492938d38f3"
   },
   "outputs": [
    {
     "name": "stdout",
     "output_type": "stream",
     "text": [
      "<_sre.SRE_Match object; span=(29, 32), match='Jan'>\n"
     ]
    }
   ],
   "source": [
    "import re # The Regular Expressions library\n",
    "str = \"Today is 26 jan 2016, not 25 Jan 2016.\" \n",
    "s = re.search(\"Jan\", str)\n",
    "print (s)"
   ]
  },
  {
   "cell_type": "markdown",
   "metadata": {
    "colab_type": "text",
    "id": "oPpflZXFNZnL"
   },
   "source": [
    "The simple pattern used above is just something like 'J' followed by 'a' followed by 'n' (i.e., 'Jan').\n",
    "The `search()` method scans through the string, looking for any location where 'Jan' appears. If a match is found, a match object instance corresponding to the first match is returned. Our search was successful, as the code prints out the match object\n",
    "as \n",
    "```\n",
    "    <_sre.SRE_Match object at 0x103ed47e8>\n",
    "```\n",
    "This is Python's way of saying 'True' or 'Yes'. If no match is found, it will print out 'None'. \n",
    "For example, try the following "
   ]
  },
  {
   "cell_type": "code",
   "execution_count": 0,
   "metadata": {
    "colab": {
     "base_uri": "https://localhost:8080/",
     "height": 35
    },
    "colab_type": "code",
    "executionInfo": {
     "elapsed": 2480,
     "status": "ok",
     "timestamp": 1553224508468,
     "user": {
      "displayName": "LIU ZHI",
      "photoUrl": "",
      "userId": "02817931634636469244"
     },
     "user_tz": -660
    },
    "id": "Yh1pWlIANZnM",
    "outputId": "f0d20c2e-26cb-42a9-ae4c-db0db310dcdc"
   },
   "outputs": [
    {
     "name": "stdout",
     "output_type": "stream",
     "text": [
      "None\n"
     ]
    }
   ],
   "source": [
    "print (re.search(\"Feb\", str))"
   ]
  },
  {
   "cell_type": "markdown",
   "metadata": {
    "colab_type": "text",
    "id": "OcTTNel-NZnO"
   },
   "source": [
    "The returned match object contains information about the match: where it starts and ends, the substring it matched, and more. You can query the match object for information about the matching string. The most important ones are:"
   ]
  },
  {
   "cell_type": "code",
   "execution_count": 0,
   "metadata": {
    "colab": {
     "base_uri": "https://localhost:8080/",
     "height": 87
    },
    "colab_type": "code",
    "executionInfo": {
     "elapsed": 2478,
     "status": "ok",
     "timestamp": 1553224508472,
     "user": {
      "displayName": "LIU ZHI",
      "photoUrl": "",
      "userId": "02817931634636469244"
     },
     "user_tz": -660
    },
    "id": "osndyqFLNZnP",
    "outputId": "234b71ad-dd2a-452e-912d-2cbc209b9042"
   },
   "outputs": [
    {
     "name": "stdout",
     "output_type": "stream",
     "text": [
      "Jan\n",
      "29\n",
      "32\n",
      "(29, 32)\n"
     ]
    }
   ],
   "source": [
    "print (s.group())\n",
    "print (s.start()) \n",
    "print (s.end())\n",
    "print (s.span())"
   ]
  },
  {
   "cell_type": "markdown",
   "metadata": {
    "colab_type": "text",
    "id": "n1oJun-tNZnS"
   },
   "source": [
    "The `group()` method returns the string \"Jan\" matched by the regular expression. \n",
    "The `start()` method returns the starting position of \"Jan\", which is equal to the index of 'J' in the whole string.\n",
    "Go ahead, count the characters in \"Today is 18 Jan 2016.\", starting at \"T\", then try:\n",
    "```python\n",
    "   str.index('J')\n",
    "```\n",
    "It should give the same integer as that given by `s.start()`. \n",
    "The `end()` method returns the ending position of the match, \n",
    "and the span() method returns a tuple containing the (start, end) positions.\n",
    "This scenario is so simple that you don't need a regular expression.\n",
    "Instead, you can use a string function, `find()`, which gives you the start position of the target string."
   ]
  },
  {
   "cell_type": "code",
   "execution_count": 0,
   "metadata": {
    "colab": {
     "base_uri": "https://localhost:8080/",
     "height": 35
    },
    "colab_type": "code",
    "executionInfo": {
     "elapsed": 2480,
     "status": "ok",
     "timestamp": 1553224508478,
     "user": {
      "displayName": "LIU ZHI",
      "photoUrl": "",
      "userId": "02817931634636469244"
     },
     "user_tz": -660
    },
    "id": "u4NipJYvNZnU",
    "outputId": "44a3a148-39ab-4265-be45-fe49d5ce9d8c"
   },
   "outputs": [
    {
     "data": {
      "text/plain": [
       "29"
      ]
     },
     "execution_count": 15,
     "metadata": {
      "tags": []
     },
     "output_type": "execute_result"
    }
   ],
   "source": [
    "str.find(\"Jan\")"
   ]
  },
  {
   "cell_type": "markdown",
   "metadata": {
    "colab_type": "text",
    "id": "MzAnup8ZNZnX"
   },
   "source": [
    "How about finding both \"Jan\" and \"jan\"? \n",
    "The `find()` method can only find the first match of a given regular expression. \n",
    "There are two pattern methods that return all of the matches for a pattern encoded in a given regular expression. \n",
    "They are `findall()` and `finditer()`.\n",
    "The former returns a list of matching strings, \n",
    "and the latter returns a sequence of match object instances as an iterator. \n",
    "Let's try"
   ]
  },
  {
   "cell_type": "code",
   "execution_count": 0,
   "metadata": {
    "colab": {
     "base_uri": "https://localhost:8080/",
     "height": 69
    },
    "colab_type": "code",
    "executionInfo": {
     "elapsed": 2480,
     "status": "ok",
     "timestamp": 1553224508481,
     "user": {
      "displayName": "LIU ZHI",
      "photoUrl": "",
      "userId": "02817931634636469244"
     },
     "user_tz": -660
    },
    "id": "DqLq9pplNZnb",
    "outputId": "57708b73-6bcc-4711-d772-a1fa0272fac6"
   },
   "outputs": [
    {
     "name": "stdout",
     "output_type": "stream",
     "text": [
      "['Jan']\n",
      "Jan\n",
      "(29, 32)\n"
     ]
    }
   ],
   "source": [
    "print (re.findall(\"Jan\", str))\n",
    "for m in re.finditer(\"Jan\", str):\n",
    "    print (m.group())\n",
    "    print (m.span())"
   ]
  },
  {
   "cell_type": "markdown",
   "metadata": {
    "colab_type": "text",
    "id": "XZAzUswkNZne"
   },
   "source": [
    "However, using \"Jan\" can find the one with uppercase \"J\", but not the one with lowercase 'j'. \n",
    "The reason is that string matching is case-sensitive in regular expressions. \n",
    "If you want to match both lower- and uppercase, you can: \n",
    "1. Convert all the characters in the string into either lower- or uppercase ones, then use either `re.findall(\"jan\", str)` or `re.findall(\"JAN\", str)` respectively to find the two appearances of \"Jan\",\n",
    "2. Update our regular expression to account for both 'J' and 'j', and retrieve both \"jan\" and \"Jan\" in their original form, like: \n",
    "```python\n",
    "    [Jj]an\n",
    "```\n",
    "where '[ ]' indicates a set of characters, and '[Jj]' will match 'J' or 'j', which is also known as a character class."
   ]
  },
  {
   "cell_type": "code",
   "execution_count": 0,
   "metadata": {
    "colab": {
     "base_uri": "https://localhost:8080/",
     "height": 35
    },
    "colab_type": "code",
    "executionInfo": {
     "elapsed": 2481,
     "status": "ok",
     "timestamp": 1553224508485,
     "user": {
      "displayName": "LIU ZHI",
      "photoUrl": "",
      "userId": "02817931634636469244"
     },
     "user_tz": -660
    },
    "id": "Mj8BURBeNZnf",
    "outputId": "fec783c6-8711-48ee-f12f-c0377a41e500"
   },
   "outputs": [
    {
     "data": {
      "text/plain": [
       "['jan', 'Jan']"
      ]
     },
     "execution_count": 17,
     "metadata": {
      "tags": []
     },
     "output_type": "execute_result"
    }
   ],
   "source": [
    "re.findall(r\"[Jj]an\", str)"
   ]
  },
  {
   "cell_type": "markdown",
   "metadata": {
    "colab_type": "text",
    "id": "mYaWA4YmNZnh"
   },
   "source": [
    "Our second choice is to use grouping in regular expressions. For multiple options we place them in brackets () and separate them by a pipe |. So we could use:"
   ]
  },
  {
   "cell_type": "code",
   "execution_count": 0,
   "metadata": {
    "colab": {
     "base_uri": "https://localhost:8080/",
     "height": 35
    },
    "colab_type": "code",
    "executionInfo": {
     "elapsed": 2483,
     "status": "ok",
     "timestamp": 1553224508491,
     "user": {
      "displayName": "LIU ZHI",
      "photoUrl": "",
      "userId": "02817931634636469244"
     },
     "user_tz": -660
    },
    "id": "wxMmso74NZnh",
    "outputId": "8de6b3d0-ffb9-4748-d1f5-7341b9fcef37"
   },
   "outputs": [
    {
     "data": {
      "text/plain": [
       "['jan', 'Jan']"
      ]
     },
     "execution_count": 18,
     "metadata": {
      "tags": []
     },
     "output_type": "execute_result"
    }
   ],
   "source": [
    "re.findall(r\"(Jan|jan)\", str)"
   ]
  },
  {
   "cell_type": "markdown",
   "metadata": {
    "colab_type": "text",
    "id": "Fw4Y2En-NZnk"
   },
   "source": [
    "Let's move one-step further to find all the words with only alphabetic characters using only regular expressions. \n",
    "It is not feasible to use grouping to enumerate all the possible words. \n",
    "Instead, we are going to use '[ ]' together with '+'.\n",
    "You have seen '[ ]' above. '+' means matching 1 or more repetitions of the preceding regular expression. \n",
    "For example,\n",
    "'an+' will match ‘a’ followed by any non-zero number of ‘n’s; \n",
    "it will not match just ‘a’. \n",
    "To match non-zero numbers of either lower- or uppercase characters, we derive the following regular expression:"
   ]
  },
  {
   "cell_type": "code",
   "execution_count": 0,
   "metadata": {
    "colab": {
     "base_uri": "https://localhost:8080/",
     "height": 35
    },
    "colab_type": "code",
    "executionInfo": {
     "elapsed": 2483,
     "status": "ok",
     "timestamp": 1553224508494,
     "user": {
      "displayName": "LIU ZHI",
      "photoUrl": "",
      "userId": "02817931634636469244"
     },
     "user_tz": -660
    },
    "id": "iIZnMdbVNZnk",
    "outputId": "7981895c-3566-4a82-af89-ab9c5a892551"
   },
   "outputs": [
    {
     "data": {
      "text/plain": [
       "['Today', 'is', 'jan', 'not', 'Jan']"
      ]
     },
     "execution_count": 19,
     "metadata": {
      "tags": []
     },
     "output_type": "execute_result"
    }
   ],
   "source": [
    "re.findall(r\"[a-zA-Z]+\", str)"
   ]
  },
  {
   "cell_type": "markdown",
   "metadata": {
    "colab_type": "text",
    "id": "NfZ_ArMONZnn"
   },
   "source": [
    "In the example above, we represent a range of characters by giving two characters separated by a '-'. For example [a-z] will match any lowercase ASCII letters, and [A-Z] will match any uppercase ASCII letters. Put the two together, we derive the regular expression that matches any lower- or uppercase letters."
   ]
  },
  {
   "cell_type": "markdown",
   "metadata": {
    "colab_type": "text",
    "id": "fBifq4lANZno"
   },
   "source": [
    "### 1.2. Matching Digits\n",
    "There are several ways to represent digits in regular expressions:\n",
    "* [0-9]: A range that matches the range of digits 0 through 9, which is the same as \"[0123456789]\".\n",
    "* \\d: A character shorthand to match the digits, which is pre-defined in most regular expression engines.\n",
    "It is equivalent to [0-9].\n",
    "\n",
    "Note that the character shorthand for digits is shorter and simpler, \n",
    "but it doesn’t have the power or flexibility of the range. \n",
    "With a range, you can pick the exact digits you want to match. \n",
    "For example, if you want to match a sequence of the binary digits, like '0010101011', \n",
    "you would use\n",
    "```python\n",
    "    [01]+\n",
    "```\n",
    "\n",
    "To match numbers that have more than one digit, for example, '12' and '123',\n",
    "you can repeat either representation as many times as you want, like\n",
    "* [0-9][0-9] or \\d\\d matches two-digits numbers from 00 to 99.\n",
    "* [0-9][0-9][0-9] or \\d\\d\\d matches three digits numbers from 000 to 999.\n",
    "\n",
    "However, the above approach gets redundant if you try to match '100000' for example.\n",
    "In this case, we can specify the number of occurrences of those digits by using \n",
    "curly brackets, like:  \n",
    "* [0-9]{2} or \\d{2} that matches numbers from 00 to 99.\n",
    "* \\d{1,3} that matches numbers from 0 to 999.\n",
    "\n",
    "Let's try to extract year for the give string,"
   ]
  },
  {
   "cell_type": "code",
   "execution_count": 0,
   "metadata": {
    "colab": {
     "base_uri": "https://localhost:8080/",
     "height": 35
    },
    "colab_type": "code",
    "executionInfo": {
     "elapsed": 2484,
     "status": "ok",
     "timestamp": 1553224508498,
     "user": {
      "displayName": "LIU ZHI",
      "photoUrl": "",
      "userId": "02817931634636469244"
     },
     "user_tz": -660
    },
    "id": "bu1r_5A6NZno",
    "outputId": "194dfbd5-db69-487b-97e8-ade87a2b7df4"
   },
   "outputs": [
    {
     "name": "stdout",
     "output_type": "stream",
     "text": [
      "2016\n"
     ]
    }
   ],
   "source": [
    "s = re.search(r'\\d{4}', str) \n",
    "print(s.group()) "
   ]
  },
  {
   "cell_type": "markdown",
   "metadata": {
    "colab_type": "text",
    "id": "2Z-52T52NZnq"
   },
   "source": [
    "As we discussed before, the `search()` method returns the first match found in the string.\n",
    "However, if search stops when it finds the first occurrence, what is the point of group?\n",
    "\n",
    "Regular expressions allow us to not just match text but also to extract information for further processing. This is done by defining groups of characters and capturing them using the special parentheses, i.e., ( and ) meta-characters. Any sub-pattern inside a pair of parentheses will be captured as a group.\n",
    "Let's try to find a pair of words separated by a white space in the following simple\n",
    "string\n",
    "```python\n",
    "    Isaac Newton, Data Scientist\n",
    "```\n",
    "The regular expression we are going to use is \n",
    "```python\n",
    "    ([a-zA-Z]+) ([a-zA-Z]+)\n",
    "```\n",
    "It uses two groups. One is used to match the first word in the pair and another matches\n",
    "the second word. Note that there is a white space between the two groups."
   ]
  },
  {
   "cell_type": "code",
   "execution_count": 0,
   "metadata": {
    "colab": {
     "base_uri": "https://localhost:8080/",
     "height": 69
    },
    "colab_type": "code",
    "executionInfo": {
     "elapsed": 2484,
     "status": "ok",
     "timestamp": 1553224508501,
     "user": {
      "displayName": "LIU ZHI",
      "photoUrl": "",
      "userId": "02817931634636469244"
     },
     "user_tz": -660
    },
    "id": "sgUOHhqTNZnr",
    "outputId": "a70384d9-efa2-43ac-cb29-53ee627dc71c"
   },
   "outputs": [
    {
     "name": "stdout",
     "output_type": "stream",
     "text": [
      "Isaac Newton\n",
      "Isaac\n",
      "Newton\n"
     ]
    }
   ],
   "source": [
    "m = re.match(r\"([a-zA-Z]+) ([a-zA-Z]+)\", \"Isaac Newton, Data Scientist\")\n",
    "print(m.group(0) + \"\\n\" + m.group(1)  + \"\\n\" + m.group(2))"
   ]
  },
  {
   "cell_type": "markdown",
   "metadata": {
    "colab_type": "text",
    "id": "wkB_airWNZnt"
   },
   "source": [
    "As you can see, `m.group(0)` returns the entire match. `m.group(1)` returns the match of the first parenthesized subgroup. And `m.group(2)` returns the match of the second parenthesized subgroup.\n",
    "You can also retrieve the two groups by using the `groups()` methods as"
   ]
  },
  {
   "cell_type": "code",
   "execution_count": 0,
   "metadata": {
    "colab": {
     "base_uri": "https://localhost:8080/",
     "height": 35
    },
    "colab_type": "code",
    "executionInfo": {
     "elapsed": 2485,
     "status": "ok",
     "timestamp": 1553224508506,
     "user": {
      "displayName": "LIU ZHI",
      "photoUrl": "",
      "userId": "02817931634636469244"
     },
     "user_tz": -660
    },
    "id": "assE4y8uNZnu",
    "outputId": "9e94f978-78ac-479e-8362-b72c557fd9a4"
   },
   "outputs": [
    {
     "data": {
      "text/plain": [
       "('Isaac', 'Newton')"
      ]
     },
     "execution_count": 22,
     "metadata": {
      "tags": []
     },
     "output_type": "execute_result"
    }
   ],
   "source": [
    "m.groups()"
   ]
  },
  {
   "cell_type": "markdown",
   "metadata": {
    "colab_type": "text",
    "id": "iAj0pFSkNZnw"
   },
   "source": [
    "In Python regular expressions, you can also name each group in a regular expression using \n",
    "```python\n",
    "    (?P<name>...)\n",
    "```\n",
    "The substring matched by the group is accessible via the symbolic group name 'name'.\n",
    "For example,"
   ]
  },
  {
   "cell_type": "code",
   "execution_count": 0,
   "metadata": {
    "colab": {
     "base_uri": "https://localhost:8080/",
     "height": 35
    },
    "colab_type": "code",
    "executionInfo": {
     "elapsed": 2483,
     "status": "ok",
     "timestamp": 1553224508510,
     "user": {
      "displayName": "LIU ZHI",
      "photoUrl": "",
      "userId": "02817931634636469244"
     },
     "user_tz": -660
    },
    "id": "612bTy2uNZnx",
    "outputId": "a7d8fb25-9f86-4831-a9b6-d64d2fe4ceda"
   },
   "outputs": [
    {
     "data": {
      "text/plain": [
       "{'first_name': 'Isaac', 'last_name': 'Newton'}"
      ]
     },
     "execution_count": 23,
     "metadata": {
      "tags": []
     },
     "output_type": "execute_result"
    }
   ],
   "source": [
    "m = re.match(r\"(?P<first_name>[a-zA-Z]+) (?P<last_name>[a-zA-Z]+)\", \"Isaac Newton\")\n",
    "m.groupdict()"
   ]
  },
  {
   "cell_type": "markdown",
   "metadata": {
    "colab_type": "text",
    "id": "9RtyVz_0NZn0"
   },
   "source": [
    "### 1.3 More on Regular Expression Syntax\n",
    "We have shown you how to match words and digits in the previous two sections. Here we would like to list some meta-characters that are used very often in regular expressions:\n",
    "* \\D: Matches characters that are not digits, which is equivalent to [^0-9] or [^\\d].\n",
    "* \\w: Matches any alphanumeric character, which is equivalent to [a-zA-Z0-9].\n",
    "* \\W: Matches any non-alphanumeric character; which is equivalent to [^a-zA-Z0-9] or [^\\w].\n",
    "* \\s: Matches any whitespace character; which is equivalent to [ \\t\\n\\r\\f\\v], where \\t indicates taps, \\n  line feeds, \\r carriage returns, \\f form feeds and \\v vertical tabs.\n",
    "* \\S: Matches any non-whitespace character; which is equivalent to  [^ \\t\\n\\r\\f\\v]."
   ]
  },
  {
   "cell_type": "markdown",
   "metadata": {
    "colab_type": "text",
    "id": "pB6nGDZaNZn1"
   },
   "source": [
    "### 1.4. Raw Strings in Python Regular Expressions\n",
    "We have been using 'r' in our regular expressions, what does it mean?\n",
    "It is Python's raw string notation for regular expressions.\n",
    "It has been used to work around the backslash plague.\n",
    "\n",
    "In regular expressions the backslash character ('\\')  is often used to escape characters that otherwise have a special meaning, such as newline, backslash itself, or the quote character. For example, to match a literal backslash, one has to write '\\\\\\\\\\\\\\\\' as the regular expression string. This is because the regular expression must be '\\\\\\\\', and each backslash must be expressed as '\\\\\\\\' inside a regular Python string literal. Let's assume that you would like find all the LaTeX commands in a given LaTeX file. Those commands always start with a backslash, like '\\\\usepackage',\n",
    "'\\\\section', '\\\\title', etc. The regular expression without raw string notation is:\n",
    "```python\n",
    "    \\\\\\\\\\\\w+\n",
    "```\n",
    "Refer to the previous section for the meaning of \"\\w\".\n",
    "In contrast, one can prefiex the string literals with a letter 'r' or 'R' to form a raw string notation, which tells \n",
    "the regular expression engine not to handle backslashes in any special way. With the raw string notation, the regular expression above can be simplified to \n",
    "```python\n",
    "    r\"\\\\\\w+\"\n",
    "```\n",
    "Let's try them out:"
   ]
  },
  {
   "cell_type": "code",
   "execution_count": 0,
   "metadata": {
    "colab": {
     "base_uri": "https://localhost:8080/",
     "height": 52
    },
    "colab_type": "code",
    "executionInfo": {
     "elapsed": 2483,
     "status": "ok",
     "timestamp": 1553224508513,
     "user": {
      "displayName": "LIU ZHI",
      "photoUrl": "",
      "userId": "02817931634636469244"
     },
     "user_tz": -660
    },
    "id": "CErpLuLfNZn2",
    "outputId": "2aa24780-0c4e-4904-c33d-8ee3c4ad4c43"
   },
   "outputs": [
    {
     "name": "stdout",
     "output_type": "stream",
     "text": [
      "\\section\n",
      "\\section\n"
     ]
    }
   ],
   "source": [
    "m1 = re.match(\"\\\\\\\\\\w+\", \"\\section\")\n",
    "print (m1.group())\n",
    "\n",
    "m2 = re.match(r\"\\\\\\w+\", \"\\section\")\n",
    "print (m2.group())"
   ]
  },
  {
   "cell_type": "markdown",
   "metadata": {
    "colab_type": "text",
    "id": "Wq04jhGlNZn4"
   },
   "source": [
    "The two lines of matching code above are functionally identical. But it is easy to interpret the regular expression using raw string notation. Therefore, when writing regular expression in Python, it is recommended that you use raw strings instead of regular Python strings. \n",
    "\n",
    "- - -"
   ]
  },
  {
   "cell_type": "markdown",
   "metadata": {
    "colab_type": "text",
    "collapsed": true,
    "id": "fbvCjomTNZn5"
   },
   "source": [
    "## Part 2. Case Study (1) - Parsing Dates with Regular Expressions\n",
    "\n",
    "\n",
    "This section will show you how to parse dates in simple data formats, \n",
    "e.g., mm/dd/yyyy, and dd/mm/yyyy. You might think that something as conceptually trivial as a date should be an easy job for a regular expression. But it isn’t, for reasons like: \n",
    "* The problem of leading zeros: humans are very sloppy with writing dates. Sometimes we omit the leading zeros, and write dates like \"1/1/2016\" and \"1/01/2016\". Therefore, should the regular expression for dates allow leading zeros to be omitted?\n",
    "* Different date delimiters: besides forward slashes, we can also use white spaces, or hyphens to separate day, month and year.\n",
    "* Matching a given range of numbers: regular expressions don't deal directly with numbers and don't understand the numerical meanings that humans assign to strings of digits. They treat numbers, like 123, as strings of characters displayed as digits, 1, 2, and 3. Therefore, we cannot tell a regular expression to match a given range of numbers directly. For instance, to match months that are in a range from 1 to 12 and to match days from 1 to 31.\n",
    "\n",
    "Therefore, you have to choose how simple or how accurate you want your regular expression to be.\n",
    "If you already know your text doesn’t contain any invalid dates, you could use a trivial regex such as\n",
    "```python\n",
    "    r\"\\d{2}/\\d{2}/\\d{4}\"\n",
    "```\n",
    "The fact that this matches things like 00/00/0000 is irrelevant if those don’t occur in your text.\n",
    "In most cases, you won't know whether your text has invalid dates or not. \n",
    "\n",
    "So given that a basic date is day, month and year, and are all digits, which of the three is easiest to parse with regular expressions?\n",
    "Give month a try. First define our own method 'month' which accepts a pattern and a month (both text) as arguments and reports if there is a match:"
   ]
  },
  {
   "cell_type": "code",
   "execution_count": 0,
   "metadata": {
    "colab": {},
    "colab_type": "code",
    "id": "hFgpRi7qNZn6"
   },
   "outputs": [],
   "source": [
    "def month(pattern, m):\n",
    "    if re.match(pattern, m):\n",
    "        print (m + \" is a month\")\n",
    "    else:\n",
    "        print (m + \" is NOT a month\")"
   ]
  },
  {
   "cell_type": "markdown",
   "metadata": {
    "colab_type": "text",
    "id": "1sLQQoi4NZn8"
   },
   "source": [
    "It seems that it is trivial to write a regular expression to match the 12 months from 1 to 12 with or without \n",
    "leading zeros. \n",
    "Let's first assume that all months are represented by two digits. \n",
    "In other words, we append a zero to the left if the month is in between January to September. \n",
    "The simplest regular expression one can think could be\n",
    "```python\n",
    "    r\"\\d\\d\"\n",
    "```\n",
    "Try it out,"
   ]
  },
  {
   "cell_type": "code",
   "execution_count": 0,
   "metadata": {
    "colab": {
     "base_uri": "https://localhost:8080/",
     "height": 104
    },
    "colab_type": "code",
    "executionInfo": {
     "elapsed": 2486,
     "status": "ok",
     "timestamp": 1553224508523,
     "user": {
      "displayName": "LIU ZHI",
      "photoUrl": "",
      "userId": "02817931634636469244"
     },
     "user_tz": -660
    },
    "id": "VaUKF5NMNZn9",
    "outputId": "9a85ddcc-3b28-40a8-b13b-15a75ddfc6a6"
   },
   "outputs": [
    {
     "name": "stdout",
     "output_type": "stream",
     "text": [
      "12 is a month\n",
      "03 is a month\n",
      "00 is a month\n",
      "13 is a month\n",
      "3 is NOT a month\n"
     ]
    }
   ],
   "source": [
    "month(r'\\d\\d', \"12\")\n",
    "month(r\"\\d\\d\", \"03\")\n",
    "month(r\"\\d\\d\", \"00\")\n",
    "month(r\"\\d\\d\", \"13\")\n",
    "month(r\"\\d\\d\", \"3\")"
   ]
  },
  {
   "cell_type": "markdown",
   "metadata": {
    "colab_type": "text",
    "id": "dOEApx5aNZn-"
   },
   "source": [
    "The regular expression we used matches exactly two-digit numbers from 00 to 99. \n",
    "Although it can match all the months represented by two digits, the problems are that \n",
    "* It cannot match months represented by a single digit, e.g., 1 (January), 2 (February), etc.\n",
    "* It matches numbers that do not represent any month. \n",
    "  So one does need to validate the given number to make sure it is in the right range.\n",
    "\n",
    "Tackling the first problem, we can use curly brackets `{m, n}` to specify the minimum and maximum occurrences of digits. A month can have at least one digit and at most two digits. \n",
    "So the regular expression should look like\n",
    "```python\n",
    "    r\"\\d{1,2}\"\n",
    "```"
   ]
  },
  {
   "cell_type": "code",
   "execution_count": 0,
   "metadata": {
    "colab": {
     "base_uri": "https://localhost:8080/",
     "height": 104
    },
    "colab_type": "code",
    "executionInfo": {
     "elapsed": 2487,
     "status": "ok",
     "timestamp": 1553224508527,
     "user": {
      "displayName": "LIU ZHI",
      "photoUrl": "",
      "userId": "02817931634636469244"
     },
     "user_tz": -660
    },
    "id": "TWYEY0gENZoA",
    "outputId": "7e8b9416-4b72-4db6-dcc2-15c4ad020908"
   },
   "outputs": [
    {
     "name": "stdout",
     "output_type": "stream",
     "text": [
      "03 is a month\n",
      "3 is a month\n",
      "00 is a month\n",
      "0 is a month\n",
      "13 is a month\n"
     ]
    }
   ],
   "source": [
    "month(r\"\\d{1,2}\", \"03\") \n",
    "month(r\"\\d{1,2}\", \"3\") \n",
    "month(r\"\\d{1,2}\", \"00\") \n",
    "month(r\"\\d{1,2}\", \"0\")\n",
    "month(r\"\\d{1,2}\", \"13\")"
   ]
  },
  {
   "cell_type": "markdown",
   "metadata": {
    "colab_type": "text",
    "id": "cSNVW1nwNZoD"
   },
   "source": [
    "However, this regular expression still matches invalid months, such as \"00\", \"0\" and \"13\".\n",
    "The months must be restricted to numbers between 1 and 12.\n",
    "We use alternation inside a group to match various pairs of digits to form a range of one- or two-digit numbers."
   ]
  },
  {
   "cell_type": "code",
   "execution_count": 0,
   "metadata": {
    "colab": {
     "base_uri": "https://localhost:8080/",
     "height": 69
    },
    "colab_type": "code",
    "executionInfo": {
     "elapsed": 2490,
     "status": "ok",
     "timestamp": 1553224508533,
     "user": {
      "displayName": "LIU ZHI",
      "photoUrl": "",
      "userId": "02817931634636469244"
     },
     "user_tz": -660
    },
    "id": "CFOouL5CNZoE",
    "outputId": "308798ce-0188-4669-a045-b36d914f3cc2"
   },
   "outputs": [
    {
     "name": "stdout",
     "output_type": "stream",
     "text": [
      "3 is a month\n",
      "0 is NOT a month\n",
      "01 is NOT a month\n"
     ]
    }
   ],
   "source": [
    "month(r\"([1-9]|1[0-2])\", \"3\") \n",
    "month(r\"([1-9]|1[0-2])\", \"0\") \n",
    "month(r\"([1-9]|1[0-2])\", \"01\") "
   ]
  },
  {
   "cell_type": "markdown",
   "metadata": {
    "colab_type": "text",
    "id": "1hLKBfgfNZoG"
   },
   "source": [
    "In the above code `[1-9]` matches months that can be represented by a single digit, and `1[0-2]` matches October, November and December. Let's further update the regular expression to allow leading zeros by adding `0?`:"
   ]
  },
  {
   "cell_type": "code",
   "execution_count": 0,
   "metadata": {
    "colab": {
     "base_uri": "https://localhost:8080/",
     "height": 35
    },
    "colab_type": "code",
    "executionInfo": {
     "elapsed": 2491,
     "status": "ok",
     "timestamp": 1553224508537,
     "user": {
      "displayName": "LIU ZHI",
      "photoUrl": "",
      "userId": "02817931634636469244"
     },
     "user_tz": -660
    },
    "id": "fu7grHuONZoH",
    "outputId": "72033724-30ab-4424-8595-ac15307cf95f"
   },
   "outputs": [
    {
     "name": "stdout",
     "output_type": "stream",
     "text": [
      "03 is a month\n"
     ]
    }
   ],
   "source": [
    "month(r\"(0?[1-9]|1[0-2])\", \"03\")"
   ]
  },
  {
   "cell_type": "markdown",
   "metadata": {
    "colab_type": "text",
    "id": "MOvF3euhNZoK"
   },
   "source": [
    "It seems that we have constructed a regular expression that can handle months represented by either one- or two-digits numbers. But sooner or later you will find the following problem: "
   ]
  },
  {
   "cell_type": "code",
   "execution_count": 0,
   "metadata": {
    "colab": {
     "base_uri": "https://localhost:8080/",
     "height": 52
    },
    "colab_type": "code",
    "executionInfo": {
     "elapsed": 2491,
     "status": "ok",
     "timestamp": 1553224508541,
     "user": {
      "displayName": "LIU ZHI",
      "photoUrl": "",
      "userId": "02817931634636469244"
     },
     "user_tz": -660
    },
    "id": "4khAPeieNZoO",
    "outputId": "e60de199-5a2e-4b74-b363-c89515f09c17"
   },
   "outputs": [
    {
     "name": "stdout",
     "output_type": "stream",
     "text": [
      "13 is a month\n",
      "99 is a month\n"
     ]
    }
   ],
   "source": [
    "month(r\"(0?[1-9]|1[0-2])\", \"13\") \n",
    "month(r\"(0?[1-9]|1[0-2])\", \"99\") "
   ]
  },
  {
   "cell_type": "markdown",
   "metadata": {
    "colab_type": "text",
    "id": "0jPS-W2cNZoW"
   },
   "source": [
    "Why?\n",
    "\n",
    "Some of these patterns seem right but don't always work. \n",
    "Regular expressions are quite specific, like mini programs.\n",
    "You have to get them right and then they will very effectively block everything that doesn't match.\n",
    "We very specifically say what we want, as opposed to listing all the exceptions we don't want.\n",
    "which is easier?\n",
    "For example testing all exceptions, case by case:\n",
    "* is the input empty (and this in itself is trouble, one space or two? ' ', tab, CR, LF etc.)\n",
    "* is the input the correct type (character, number etc.)\n",
    "* the correct format\n",
    "* correct range\n",
    "* positive, negative\n",
    "* uppercase, lowercase, etc.\n",
    "\n",
    "Watch out for the difference between greediness & laziness in regular expressions. \n",
    "Greediness means match longest possible string.\n",
    "Laziness means match shortest possible string. \n",
    "Or, put another way, laziness will stop as soon as the condition is satisfied, \n",
    "but greediness means it will stop only once the condition is not satisfied any more - this is quite different.\n",
    "\n",
    "Consider also Start of String and End of String anchors. The caret ^ matches the position before the first character in the string. Applying \"^a\" to \"abc\" matches the whole string. \"^b\" does not match \"abc\" at all, because the b cannot be matched right after the start of the string, matched by ^. Similarly, $ matches right after the last character in the string.\n",
    "\n",
    "So here's what we want:\n",
    "```python\n",
    "    r\"^(0?[1-9]|1[0-2])$\" \n",
    "```\n",
    "Let's test it now:"
   ]
  },
  {
   "cell_type": "code",
   "execution_count": 0,
   "metadata": {
    "colab": {},
    "colab_type": "code",
    "id": "9vXpHOIxNZoY"
   },
   "outputs": [],
   "source": [
    "pattern =  \"^(0?[1-9]|1[0-2])$\" "
   ]
  },
  {
   "cell_type": "code",
   "execution_count": 0,
   "metadata": {
    "colab": {
     "base_uri": "https://localhost:8080/",
     "height": 121
    },
    "colab_type": "code",
    "executionInfo": {
     "elapsed": 2497,
     "status": "ok",
     "timestamp": 1553224508553,
     "user": {
      "displayName": "LIU ZHI",
      "photoUrl": "",
      "userId": "02817931634636469244"
     },
     "user_tz": -660
    },
    "id": "S8SwUFo-NZoc",
    "outputId": "9ce96618-8826-4fa9-ee19-e1d451507e9e"
   },
   "outputs": [
    {
     "name": "stdout",
     "output_type": "stream",
     "text": [
      "03 is a month\n",
      "0 is NOT a month\n",
      "033 is NOT a month\n",
      "003 is NOT a month\n",
      "99 is NOT a month\n",
      "3 is a month\n"
     ]
    }
   ],
   "source": [
    "month(pattern,\"03\") \n",
    "month(pattern,\"0\")\n",
    "month(pattern,\"033\")\n",
    "month(pattern,\"003\")\n",
    "month(pattern,\"99\")\n",
    "month(pattern,\"3\")"
   ]
  },
  {
   "cell_type": "markdown",
   "metadata": {
    "colab_type": "text",
    "id": "2If5fh1nNZof"
   },
   "source": [
    "Similarly, you can write regular expressions to validate days. \n",
    "We will leave this for you to do as an exercise.\n",
    "Next, we are going to show you the regular expressions for handling years in 20th and 21st centuries. \n",
    "These years are between 1900 and 2099.\n",
    "The first two digits are either 19 or 20, which can be captured by a group alternating between these two numbers\n",
    "```python\n",
    "    (19|20)\n",
    "```\n",
    "Each of the last two digits contains numbers between 0 and 9, which can be easily captured by\n",
    "```\n",
    "    \\d{2}\n",
    "```\n",
    "Put them together and we have\n",
    "```\n",
    "    r\"(19|20)\\d{2}\"\n",
    "```"
   ]
  },
  {
   "cell_type": "code",
   "execution_count": 0,
   "metadata": {
    "colab": {
     "base_uri": "https://localhost:8080/",
     "height": 87
    },
    "colab_type": "code",
    "executionInfo": {
     "elapsed": 2497,
     "status": "ok",
     "timestamp": 1553224508556,
     "user": {
      "displayName": "LIU ZHI",
      "photoUrl": "",
      "userId": "02817931634636469244"
     },
     "user_tz": -660
    },
    "id": "F-UydSDHNZog",
    "outputId": "c4f58d09-710a-4220-fd23-6a1893b7cf1b"
   },
   "outputs": [
    {
     "name": "stdout",
     "output_type": "stream",
     "text": [
      "1800 is NOT a year\n",
      "1900 is a year\n",
      "2099 is a year\n",
      "2100 is NOT a year\n"
     ]
    }
   ],
   "source": [
    "def year(pattern, m):\n",
    "    if re.match(pattern, m):\n",
    "        print (m + \" is a year\")\n",
    "    else:\n",
    "        print (m + \" is NOT a year\")\n",
    "        \n",
    "year(r\"(19|20)\\d{2}\", \"1800\")\n",
    "year(r\"(19|20)\\d{2}\", \"1900\")\n",
    "year(r\"(19|20)\\d{2}\", \"2099\")\n",
    "year(r\"(19|20)\\d{2}\", \"2100\")"
   ]
  },
  {
   "cell_type": "markdown",
   "metadata": {
    "colab_type": "text",
    "id": "i4gSyrgENZoh"
   },
   "source": [
    "Dealing with leap years is not trivial. Can one write a regular expression that can distinguish days in February in either leap years or non-leap years? It is easy to write regular expressions to match February 29th regardless of the year. Allowing February 29th only in leap years would require us to spell out all the years that are leap years, and all the years that aren’t. Therefore, it seems that regular expressions are not a good choice here. Handling leap years require an extra bit of code. Maybe it's better to do it in two stages:\n",
    "1. Does it look like a date? (use regex), then\n",
    "2. is it a date? (code, e.g. convert to numeric then > 0 and < 13)\n",
    "\n",
    "For example, the regular expression we found here:\n",
    "```python\n",
    "    r'(19|20)\\d\\d[- /.](0[1-9]|1[012])[- /.](0[1-9]|[12][0-9]|3[01])'\n",
    "```\n",
    "matches a date in traditional date format from between 1900-01-01 and 2099-12-31, with a choice of four separators.\n",
    "However, there are dates that match the regular expression but aren't valid.\n",
    "For example,"
   ]
  },
  {
   "cell_type": "code",
   "execution_count": 0,
   "metadata": {
    "colab": {
     "base_uri": "https://localhost:8080/",
     "height": 183
    },
    "colab_type": "code",
    "executionInfo": {
     "elapsed": 868,
     "status": "error",
     "timestamp": 1553236890155,
     "user": {
      "displayName": "LIU ZHI",
      "photoUrl": "",
      "userId": "02817931634636469244"
     },
     "user_tz": -660
    },
    "id": "FR90TipwNZoi",
    "outputId": "2570d72c-5897-4b28-8207-91c069dceee4"
   },
   "outputs": [
    {
     "ename": "NameError",
     "evalue": "ignored",
     "output_type": "error",
     "traceback": [
      "\u001b[0;31m---------------------------------------------------------------------------\u001b[0m",
      "\u001b[0;31mNameError\u001b[0m                                 Traceback (most recent call last)",
      "\u001b[0;32m<ipython-input-28-2ff8431bde22>\u001b[0m in \u001b[0;36m<module>\u001b[0;34m()\u001b[0m\n\u001b[1;32m      1\u001b[0m \u001b[0mpattern\u001b[0m \u001b[0;34m=\u001b[0m \u001b[0;34mr'(19|20)\\d\\d[- /.](0[1-9]|1[012])[- /.](0[1-9]|[12][0-9]|3[01])'\u001b[0m\u001b[0;34m\u001b[0m\u001b[0;34m\u001b[0m\u001b[0m\n\u001b[0;32m----> 2\u001b[0;31m \u001b[0myear\u001b[0m\u001b[0;34m(\u001b[0m\u001b[0mpattern\u001b[0m\u001b[0;34m,\u001b[0m \u001b[0;34m\"2016-02-31\"\u001b[0m\u001b[0;34m)\u001b[0m\u001b[0;34m\u001b[0m\u001b[0;34m\u001b[0m\u001b[0m\n\u001b[0m",
      "\u001b[0;31mNameError\u001b[0m: name 'year' is not defined"
     ]
    }
   ],
   "source": [
    "pattern = r'(19|20)\\d\\d[- /.](0[1-9]|1[012])[- /.](0[1-9]|[12][0-9]|3[01])'\n",
    "year(pattern, \"2016-02-31\") "
   ]
  },
  {
   "cell_type": "markdown",
   "metadata": {
    "colab_type": "text",
    "id": "p9Zu8ocXNZol"
   },
   "source": [
    "It is impossible for February in any year can have more than 29 days. Instead of using regular expressions to validate \n",
    "dates, you can also use Python's `datatime` module. If a given date string cannot be converted to a Python Date object, then the date wouldn't be valid."
   ]
  },
  {
   "cell_type": "code",
   "execution_count": 0,
   "metadata": {
    "colab": {
     "base_uri": "https://localhost:8080/",
     "height": 443
    },
    "colab_type": "code",
    "executionInfo": {
     "elapsed": 2577,
     "status": "error",
     "timestamp": 1553224508646,
     "user": {
      "displayName": "LIU ZHI",
      "photoUrl": "",
      "userId": "02817931634636469244"
     },
     "user_tz": -660
    },
    "id": "p8rkMoIfNZol",
    "outputId": "7b33db6d-0eaf-4ade-c82e-c34485aaf1e5"
   },
   "outputs": [
    {
     "ename": "ValueError",
     "evalue": "ignored",
     "output_type": "error",
     "traceback": [
      "\u001b[0;31m---------------------------------------------------------------------------\u001b[0m",
      "\u001b[0;31mValueError\u001b[0m                                Traceback (most recent call last)",
      "\u001b[0;32m<ipython-input-35-6bde0d3c31cc>\u001b[0m in \u001b[0;36m<module>\u001b[0;34m()\u001b[0m\n\u001b[1;32m      1\u001b[0m \u001b[0;32mimport\u001b[0m \u001b[0mdatetime\u001b[0m \u001b[0;32mas\u001b[0m \u001b[0mdt\u001b[0m\u001b[0;34m\u001b[0m\u001b[0;34m\u001b[0m\u001b[0m\n\u001b[1;32m      2\u001b[0m \u001b[0mtoday\u001b[0m \u001b[0;34m=\u001b[0m \u001b[0;34m\"2016-02-31\"\u001b[0m\u001b[0;34m\u001b[0m\u001b[0;34m\u001b[0m\u001b[0m\n\u001b[0;32m----> 3\u001b[0;31m \u001b[0mmydt\u001b[0m \u001b[0;34m=\u001b[0m \u001b[0mdt\u001b[0m\u001b[0;34m.\u001b[0m\u001b[0mdatetime\u001b[0m\u001b[0;34m.\u001b[0m\u001b[0mstrptime\u001b[0m\u001b[0;34m(\u001b[0m\u001b[0mtoday\u001b[0m\u001b[0;34m,\u001b[0m \u001b[0;34m'%Y-%m-%d'\u001b[0m\u001b[0;34m)\u001b[0m\u001b[0;34m\u001b[0m\u001b[0;34m\u001b[0m\u001b[0m\n\u001b[0m",
      "\u001b[0;32m/usr/lib/python3.6/_strptime.py\u001b[0m in \u001b[0;36m_strptime_datetime\u001b[0;34m(cls, data_string, format)\u001b[0m\n\u001b[1;32m    563\u001b[0m     \"\"\"Return a class cls instance based on the input string and the\n\u001b[1;32m    564\u001b[0m     format string.\"\"\"\n\u001b[0;32m--> 565\u001b[0;31m     \u001b[0mtt\u001b[0m\u001b[0;34m,\u001b[0m \u001b[0mfraction\u001b[0m \u001b[0;34m=\u001b[0m \u001b[0m_strptime\u001b[0m\u001b[0;34m(\u001b[0m\u001b[0mdata_string\u001b[0m\u001b[0;34m,\u001b[0m \u001b[0mformat\u001b[0m\u001b[0;34m)\u001b[0m\u001b[0;34m\u001b[0m\u001b[0;34m\u001b[0m\u001b[0m\n\u001b[0m\u001b[1;32m    566\u001b[0m     \u001b[0mtzname\u001b[0m\u001b[0;34m,\u001b[0m \u001b[0mgmtoff\u001b[0m \u001b[0;34m=\u001b[0m \u001b[0mtt\u001b[0m\u001b[0;34m[\u001b[0m\u001b[0;34m-\u001b[0m\u001b[0;36m2\u001b[0m\u001b[0;34m:\u001b[0m\u001b[0;34m]\u001b[0m\u001b[0;34m\u001b[0m\u001b[0;34m\u001b[0m\u001b[0m\n\u001b[1;32m    567\u001b[0m     \u001b[0margs\u001b[0m \u001b[0;34m=\u001b[0m \u001b[0mtt\u001b[0m\u001b[0;34m[\u001b[0m\u001b[0;34m:\u001b[0m\u001b[0;36m6\u001b[0m\u001b[0;34m]\u001b[0m \u001b[0;34m+\u001b[0m \u001b[0;34m(\u001b[0m\u001b[0mfraction\u001b[0m\u001b[0;34m,\u001b[0m\u001b[0;34m)\u001b[0m\u001b[0;34m\u001b[0m\u001b[0;34m\u001b[0m\u001b[0m\n",
      "\u001b[0;32m/usr/lib/python3.6/_strptime.py\u001b[0m in \u001b[0;36m_strptime\u001b[0;34m(data_string, format)\u001b[0m\n\u001b[1;32m    526\u001b[0m         \u001b[0;31m# Need to add 1 to result since first day of the year is 1, not 0.\u001b[0m\u001b[0;34m\u001b[0m\u001b[0;34m\u001b[0m\u001b[0;34m\u001b[0m\u001b[0m\n\u001b[1;32m    527\u001b[0m         \u001b[0mjulian\u001b[0m \u001b[0;34m=\u001b[0m \u001b[0mdatetime_date\u001b[0m\u001b[0;34m(\u001b[0m\u001b[0myear\u001b[0m\u001b[0;34m,\u001b[0m \u001b[0mmonth\u001b[0m\u001b[0;34m,\u001b[0m \u001b[0mday\u001b[0m\u001b[0;34m)\u001b[0m\u001b[0;34m.\u001b[0m\u001b[0mtoordinal\u001b[0m\u001b[0;34m(\u001b[0m\u001b[0;34m)\u001b[0m \u001b[0;34m-\u001b[0m\u001b[0;31m \u001b[0m\u001b[0;31m\\\u001b[0m\u001b[0;34m\u001b[0m\u001b[0;34m\u001b[0m\u001b[0m\n\u001b[0;32m--> 528\u001b[0;31m                   \u001b[0mdatetime_date\u001b[0m\u001b[0;34m(\u001b[0m\u001b[0myear\u001b[0m\u001b[0;34m,\u001b[0m \u001b[0;36m1\u001b[0m\u001b[0;34m,\u001b[0m \u001b[0;36m1\u001b[0m\u001b[0;34m)\u001b[0m\u001b[0;34m.\u001b[0m\u001b[0mtoordinal\u001b[0m\u001b[0;34m(\u001b[0m\u001b[0;34m)\u001b[0m \u001b[0;34m+\u001b[0m \u001b[0;36m1\u001b[0m\u001b[0;34m\u001b[0m\u001b[0;34m\u001b[0m\u001b[0m\n\u001b[0m\u001b[1;32m    529\u001b[0m     \u001b[0;32melse\u001b[0m\u001b[0;34m:\u001b[0m  \u001b[0;31m# Assume that if they bothered to include Julian day (or if it was\u001b[0m\u001b[0;34m\u001b[0m\u001b[0;34m\u001b[0m\u001b[0m\n\u001b[1;32m    530\u001b[0m            \u001b[0;31m# calculated above with year/week/weekday) it will be accurate.\u001b[0m\u001b[0;34m\u001b[0m\u001b[0;34m\u001b[0m\u001b[0;34m\u001b[0m\u001b[0m\n",
      "\u001b[0;31mValueError\u001b[0m: day is out of range for month"
     ]
    }
   ],
   "source": [
    "# use python datetime libraries\n",
    "import datetime as dt\n",
    "today = \"2016-02-31\"\n",
    "\n",
    "#Due to it is impossible for February in any year can have more than 29 days\n",
    "#It should show a error \n",
    "mydt = dt.datetime.strptime(today, '%Y-%m-%d') "
   ]
  },
  {
   "cell_type": "markdown",
   "metadata": {
    "colab_type": "text",
    "id": "JAEeD_KpNZon"
   },
   "source": [
    "Therefore, \n",
    "if you get regular expressions right, they can be very useful as anything that doesn't match the pattern will get blocked. However, getting them wrong will result in many problems.\n",
    "- - -"
   ]
  },
  {
   "cell_type": "markdown",
   "metadata": {
    "colab_type": "text",
    "id": "vQy1X5SPNZoo"
   },
   "source": [
    "## Part 3. Case Study (2) - Extract IPs, dates, and email address with regular expressions\n",
    "\n",
    "With following tasks we will use the mail box data ([mbox-short.txt](http://www.pythonlearn.com/code3/mbox-short.txt)) provided by the book [Python for Informatics: Exploring Information](http://www.pythonlearn.com/book.php#python-for-informatics). \n",
    "\n"
   ]
  },
  {
   "cell_type": "code",
   "execution_count": 0,
   "metadata": {
    "colab": {
     "base_uri": "https://localhost:8080/",
     "height": 35
    },
    "colab_type": "code",
    "executionInfo": {
     "elapsed": 4551,
     "status": "ok",
     "timestamp": 1553224729653,
     "user": {
      "displayName": "LIU ZHI",
      "photoUrl": "",
      "userId": "02817931634636469244"
     },
     "user_tz": -660
    },
    "id": "XyWvkUuCNZoo",
    "outputId": "14aa667c-7ad5-4b5b-ad58-ea6cb65e6d72"
   },
   "outputs": [
    {
     "name": "stdout",
     "output_type": "stream",
     "text": [
      "Requirement already satisfied: wget in /usr/local/lib/python3.6/dist-packages (3.2)\n"
     ]
    }
   ],
   "source": [
    "!pip install wget"
   ]
  },
  {
   "cell_type": "code",
   "execution_count": 0,
   "metadata": {
    "colab": {
     "base_uri": "https://localhost:8080/",
     "height": 87
    },
    "colab_type": "code",
    "executionInfo": {
     "elapsed": 7422,
     "status": "ok",
     "timestamp": 1553224732616,
     "user": {
      "displayName": "LIU ZHI",
      "photoUrl": "",
      "userId": "02817931634636469244"
     },
     "user_tz": -660
    },
    "id": "p11bcTPsNZoq",
    "outputId": "8c0c48dc-07b2-4465-89d5-6a18a231d188"
   },
   "outputs": [
    {
     "name": "stdout",
     "output_type": "stream",
     "text": [
      " mbox-short.txt      'reuters_2 (1).txt'  'stopwords_en (1).txt'\n",
      "'reuters_1 (1).txt'  'reuters_2 (2).txt'   stopwords_en.txt\n",
      "'reuters_1 (2).txt'   reuters_2.txt\n",
      " reuters_1.txt\t      sample_data\n"
     ]
    }
   ],
   "source": [
    "import wget\n",
    "\n",
    "link_to_data = 'https://github.com/tulip-lab/sit742/raw/master/Jupyter/data/mbox-short.txt'\n",
    "\n",
    "DataSet = wget.download(link_to_data)\n",
    "\n",
    "!ls"
   ]
  },
  {
   "cell_type": "code",
   "execution_count": 0,
   "metadata": {
    "colab": {},
    "colab_type": "code",
    "id": "khpJceJONZor"
   },
   "outputs": [],
   "source": [
    "with open('mbox-short.txt','r') as infile:\n",
    "    text = infile.read()"
   ]
  },
  {
   "cell_type": "markdown",
   "metadata": {
    "colab_type": "text",
    "id": "69PeZ1DdNZot"
   },
   "source": [
    "### 3.1 Find IP addresses \n",
    "\n",
    "In this task we will need to \n",
    "1. find all IP addresses in the mbox-short dataset.\n",
    "2. print unique IP addresses \n",
    "\n",
    "Let's have a try first: "
   ]
  },
  {
   "cell_type": "code",
   "execution_count": 0,
   "metadata": {
    "colab": {
     "base_uri": "https://localhost:8080/",
     "height": 35
    },
    "colab_type": "code",
    "executionInfo": {
     "elapsed": 1071,
     "status": "ok",
     "timestamp": 1553224741095,
     "user": {
      "displayName": "LIU ZHI",
      "photoUrl": "",
      "userId": "02817931634636469244"
     },
     "user_tz": -660
    },
    "id": "00LuT4HgNZov",
    "outputId": "a8a2b03f-2e3c-4a2d-dc0d-786b2c20eff6"
   },
   "outputs": [
    {
     "data": {
      "text/plain": [
       "['111.23.39.99']"
      ]
     },
     "execution_count": 47,
     "metadata": {
      "tags": []
     },
     "output_type": "execute_result"
    }
   ],
   "source": [
    "str1 = re.findall(r'\\b(?:\\d{1,3}\\.){3}\\d{1,3}\\b', \"This is a IP address 111.23.39.99\")\n",
    "str1"
   ]
  },
  {
   "cell_type": "markdown",
   "metadata": {
    "colab_type": "text",
    "id": "po05SUV4NZow"
   },
   "source": [
    "![](https://github.com/tulip-lab/sit742/raw/master/Jupyter/image/regeximg3.png)\n",
    "\n",
    "From https://regexper.com/"
   ]
  },
  {
   "cell_type": "code",
   "execution_count": 0,
   "metadata": {
    "colab": {
     "base_uri": "https://localhost:8080/",
     "height": 55
    },
    "colab_type": "code",
    "executionInfo": {
     "elapsed": 887,
     "status": "ok",
     "timestamp": 1553224744287,
     "user": {
      "displayName": "LIU ZHI",
      "photoUrl": "",
      "userId": "02817931634636469244"
     },
     "user_tz": -660
    },
    "id": "vV8yTh-4NZo1",
    "outputId": "8d515916-0d6c-4832-fc8a-d9b05c72211f"
   },
   "outputs": [
    {
     "name": "stdout",
     "output_type": "stream",
     "text": [
      "['141.211.14.90', '141.211.14.79', '194.35.219.184', '127.0.0.1', '194.35.219.182', '134.68.220.122', '127.0.0.1', '8.12.11.200', '8.12.11.200', '141.211.14.97', '141.211.93.149', '194.35.219.184', '127.0.0.1', '194.35.219.182', '134.68.220.122', '127.0.0.1', '8.12.11.200', '8.12.11.200', '141.211.14.25', '141.211.93.144', '194.35.219.184', '127.0.0.1', '194.35.219.182', '134.68.220.122', '127.0.0.1', '8.12.11.200', '8.12.11.200', '141.211.14.25', '141.211.14.43', '194.35.219.184', '127.0.0.1', '194.35.219.182', '134.68.220.122', '127.0.0.1', '8.12.11.200', '8.12.11.200', '141.211.14.46', '141.211.14.83', '194.35.219.184', '127.0.0.1', '194.35.219.182', '134.68.220.122', '127.0.0.1', '8.12.11.200', '8.12.11.200', '141.211.14.93', '141.211.93.142', '194.35.219.184', '127.0.0.1', '194.35.219.182', '134.68.220.122', '127.0.0.1', '8.12.11.200', '8.12.11.200', '141.211.14.46', '141.211.14.72', '194.35.219.184', '127.0.0.1', '194.35.219.182', '134.68.220.122', '127.0.0.1', '8.12.11.200', '8.12.11.200', '141.211.14.46', '141.211.93.151', '194.35.219.184', '127.0.0.1', '194.35.219.182', '134.68.220.122', '127.0.0.1', '8.12.11.200', '8.12.11.200', '141.211.14.25', '141.211.14.79', '194.35.219.184', '127.0.0.1', '194.35.219.182', '134.68.220.122', '127.0.0.1', '8.12.11.200', '8.12.11.200', '141.211.14.36', '141.211.14.84', '194.35.219.184', '127.0.0.1', '194.35.219.182', '134.68.220.122', '127.0.0.1', '8.12.11.200', '8.12.11.200', '141.211.14.97', '141.211.93.152', '194.35.219.184', '127.0.0.1', '194.35.219.182', '134.68.220.122', '127.0.0.1', '8.12.11.200', '8.12.11.200', '141.211.14.39', '141.211.14.79', '194.35.219.184', '127.0.0.1', '194.35.219.182', '134.68.220.122', '127.0.0.1', '8.12.11.200', '8.12.11.200', '141.211.14.90', '141.211.93.153', '194.35.219.184', '127.0.0.1', '194.35.219.182', '134.68.220.122', '127.0.0.1', '8.12.11.200', '8.12.11.200', '141.211.14.97', '141.211.14.84', '194.35.219.184', '127.0.0.1', '194.35.219.182', '134.68.220.122', '127.0.0.1', '8.12.11.200', '8.12.11.200', '141.211.14.25', '141.211.14.79', '194.35.219.184', '127.0.0.1', '194.35.219.182', '134.68.220.122', '127.0.0.1', '8.12.11.200', '8.12.11.200', '141.211.14.90', '141.211.14.76', '194.35.219.184', '127.0.0.1', '194.35.219.182', '134.68.220.122', '127.0.0.1', '8.12.11.200', '8.12.11.200', '141.211.14.39', '141.211.14.76', '194.35.219.184', '127.0.0.1', '194.35.219.182', '134.68.220.122', '127.0.0.1', '8.12.11.200', '8.12.11.200', '141.211.14.98', '141.211.14.83', '194.35.219.184', '127.0.0.1', '194.35.219.182', '134.68.220.122', '127.0.0.1', '8.12.11.200', '8.12.11.200', '141.211.14.92', '141.211.93.145', '194.35.219.184', '127.0.0.1', '194.35.219.182', '134.68.220.122', '127.0.0.1', '8.12.11.200', '8.12.11.200', '141.211.14.46', '141.211.93.143', '194.35.219.184', '127.0.0.1', '194.35.219.182', '134.68.220.122', '127.0.0.1', '8.12.11.200', '8.12.11.200', '141.211.14.25', '141.211.14.58', '194.35.219.184', '127.0.0.1', '194.35.219.182', '134.68.220.122', '127.0.0.1', '8.12.11.200', '8.12.11.200', '141.211.14.91', '141.211.93.142', '194.35.219.184', '127.0.0.1', '194.35.219.182', '134.68.220.122', '127.0.0.1', '8.12.11.200', '8.12.11.200', '141.211.14.91', '141.211.14.58', '194.35.219.184', '127.0.0.1', '194.35.219.182', '134.68.220.122', '127.0.0.1', '8.12.11.200', '8.12.11.200', '141.211.14.39', '141.211.93.141', '194.35.219.184', '127.0.0.1', '194.35.219.182', '134.68.220.122', '127.0.0.1', '8.12.11.200', '8.12.11.200', '141.211.14.34', '141.211.93.149', '194.35.219.184', '127.0.0.1', '194.35.219.182', '134.68.220.122', '127.0.0.1', '8.12.11.200', '8.12.11.200', '141.211.14.46', '141.211.93.145', '194.35.219.184', '127.0.0.1', '194.35.219.182', '134.68.220.122', '127.0.0.1', '8.12.11.200', '8.12.11.200', '141.211.14.91', '141.211.14.58', '194.35.219.184', '127.0.0.1', '194.35.219.182', '134.68.220.122', '127.0.0.1', '8.12.11.200', '8.12.11.200']\n"
     ]
    }
   ],
   "source": [
    "str1= re.findall(r'(?:[0-9]{1,3}\\.){3}[0-9]{1,3}', text)\n",
    "if len(str1)>0:\n",
    "    print(str1)"
   ]
  },
  {
   "cell_type": "markdown",
   "metadata": {
    "colab_type": "text",
    "id": "gYKN9-8ZNZo2"
   },
   "source": [
    "By running the code above, we are able to print all IP addresses. \n",
    "\n",
    "Next can we save all unique IP address in a list? We will need to read the whole txt file in to 'text', and then apply re.findall function. set() function returns the unique values."
   ]
  },
  {
   "cell_type": "code",
   "execution_count": 0,
   "metadata": {
    "colab": {
     "base_uri": "https://localhost:8080/",
     "height": 572
    },
    "colab_type": "code",
    "executionInfo": {
     "elapsed": 921,
     "status": "ok",
     "timestamp": 1553224747274,
     "user": {
      "displayName": "LIU ZHI",
      "photoUrl": "",
      "userId": "02817931634636469244"
     },
     "user_tz": -660
    },
    "id": "_6c_H56CNZo4",
    "outputId": "28b73ff8-dc61-4f38-95db-15c03f77d82d"
   },
   "outputs": [
    {
     "data": {
      "text/plain": [
       "{'127.0.0.1',\n",
       " '134.68.220.122',\n",
       " '141.211.14.25',\n",
       " '141.211.14.34',\n",
       " '141.211.14.36',\n",
       " '141.211.14.39',\n",
       " '141.211.14.43',\n",
       " '141.211.14.46',\n",
       " '141.211.14.58',\n",
       " '141.211.14.72',\n",
       " '141.211.14.76',\n",
       " '141.211.14.79',\n",
       " '141.211.14.83',\n",
       " '141.211.14.84',\n",
       " '141.211.14.90',\n",
       " '141.211.14.91',\n",
       " '141.211.14.92',\n",
       " '141.211.14.93',\n",
       " '141.211.14.97',\n",
       " '141.211.14.98',\n",
       " '141.211.93.141',\n",
       " '141.211.93.142',\n",
       " '141.211.93.143',\n",
       " '141.211.93.144',\n",
       " '141.211.93.145',\n",
       " '141.211.93.149',\n",
       " '141.211.93.151',\n",
       " '141.211.93.152',\n",
       " '141.211.93.153',\n",
       " '194.35.219.182',\n",
       " '194.35.219.184',\n",
       " '8.12.11.200'}"
      ]
     },
     "execution_count": 49,
     "metadata": {
      "tags": []
     },
     "output_type": "execute_result"
    }
   ],
   "source": [
    "str1=re.findall(r'(?:[0-9]{1,3}\\.){3}[0-9]{1,3}', text)\n",
    "set(str1)"
   ]
  },
  {
   "cell_type": "markdown",
   "metadata": {
    "colab_type": "text",
    "id": "3dSsWoQwNZo6"
   },
   "source": [
    "### 3.2 Extract All date time \n",
    "\n",
    "\n",
    "In the next task, we need to extract all date time from the file. We trust that all date time are valid for now. \n",
    "\n"
   ]
  },
  {
   "cell_type": "code",
   "execution_count": 0,
   "metadata": {
    "colab": {
     "base_uri": "https://localhost:8080/",
     "height": 607
    },
    "colab_type": "code",
    "executionInfo": {
     "elapsed": 915,
     "status": "ok",
     "timestamp": 1553224752215,
     "user": {
      "displayName": "LIU ZHI",
      "photoUrl": "",
      "userId": "02817931634636469244"
     },
     "user_tz": -660
    },
    "id": "97aofmaWNZo7",
    "outputId": "512afbea-5b28-41be-cd1c-c2ecbb9c012d"
   },
   "outputs": [
    {
     "data": {
      "text/plain": [
       "{'2007-09-12 16:17:59',\n",
       " '2007-12-12 21:40:33',\n",
       " '2007-12-17 17:11:08',\n",
       " '2007-12-20 15:25:38',\n",
       " '2007-12-20 21:26:28',\n",
       " '2007-12-28 23:44:24',\n",
       " '2008-01-03 16:22:14',\n",
       " '2008-01-03 16:27:29',\n",
       " '2008-01-03 16:33:02',\n",
       " '2008-01-03 17:05:11',\n",
       " '2008-01-03 17:16:39',\n",
       " '2008-01-03 19:23:46',\n",
       " '2008-01-04 04:05:43',\n",
       " '2008-01-04 04:31:35',\n",
       " '2008-01-04 04:47:16',\n",
       " '2008-01-04 06:05:51',\n",
       " '2008-01-04 07:00:10',\n",
       " '2008-01-04 09:02:54',\n",
       " '2008-01-04 10:01:40',\n",
       " '2008-01-04 10:15:54',\n",
       " '2008-01-04 10:37:04',\n",
       " '2008-01-04 11:08:38',\n",
       " '2008-01-04 11:09:12',\n",
       " '2008-01-04 11:10:04',\n",
       " '2008-01-04 11:11:00',\n",
       " '2008-01-04 11:33:05',\n",
       " '2008-01-04 11:35:25',\n",
       " '2008-01-04 13:05:51',\n",
       " '2008-01-04 14:48:37',\n",
       " '2008-01-04 15:01:37',\n",
       " '2008-01-04 15:44:39',\n",
       " '2008-01-04 16:09:01',\n",
       " '2008-01-04 18:08:50',\n",
       " '2008-01-05 09:12:07'}"
      ]
     },
     "execution_count": 50,
     "metadata": {
      "tags": []
     },
     "output_type": "execute_result"
    }
   ],
   "source": [
    "str1=re.findall(r'(\\d{4}-\\d{2}-\\d{2} \\d{2}:\\d{2}:\\d{2})', text)\n",
    "set(str1)"
   ]
  },
  {
   "cell_type": "markdown",
   "metadata": {
    "colab_type": "text",
    "id": "TL-sWNt9NZo-"
   },
   "source": [
    "From the extract datetime string, extract date and hour information by using nested group"
   ]
  },
  {
   "cell_type": "code",
   "execution_count": 0,
   "metadata": {
    "colab": {
     "base_uri": "https://localhost:8080/",
     "height": 607
    },
    "colab_type": "code",
    "executionInfo": {
     "elapsed": 905,
     "status": "ok",
     "timestamp": 1553224756000,
     "user": {
      "displayName": "LIU ZHI",
      "photoUrl": "",
      "userId": "02817931634636469244"
     },
     "user_tz": -660
    },
    "id": "ALzROKjWNZo-",
    "outputId": "535c16ef-720c-4c01-c0a6-e1dd17b04599"
   },
   "outputs": [
    {
     "data": {
      "text/plain": [
       "{('2007-09-12 16:17:59', '2007-09-12 16'),\n",
       " ('2007-12-12 21:40:33', '2007-12-12 21'),\n",
       " ('2007-12-17 17:11:08', '2007-12-17 17'),\n",
       " ('2007-12-20 15:25:38', '2007-12-20 15'),\n",
       " ('2007-12-20 21:26:28', '2007-12-20 21'),\n",
       " ('2007-12-28 23:44:24', '2007-12-28 23'),\n",
       " ('2008-01-03 16:22:14', '2008-01-03 16'),\n",
       " ('2008-01-03 16:27:29', '2008-01-03 16'),\n",
       " ('2008-01-03 16:33:02', '2008-01-03 16'),\n",
       " ('2008-01-03 17:05:11', '2008-01-03 17'),\n",
       " ('2008-01-03 17:16:39', '2008-01-03 17'),\n",
       " ('2008-01-03 19:23:46', '2008-01-03 19'),\n",
       " ('2008-01-04 04:05:43', '2008-01-04 04'),\n",
       " ('2008-01-04 04:31:35', '2008-01-04 04'),\n",
       " ('2008-01-04 04:47:16', '2008-01-04 04'),\n",
       " ('2008-01-04 06:05:51', '2008-01-04 06'),\n",
       " ('2008-01-04 07:00:10', '2008-01-04 07'),\n",
       " ('2008-01-04 09:02:54', '2008-01-04 09'),\n",
       " ('2008-01-04 10:01:40', '2008-01-04 10'),\n",
       " ('2008-01-04 10:15:54', '2008-01-04 10'),\n",
       " ('2008-01-04 10:37:04', '2008-01-04 10'),\n",
       " ('2008-01-04 11:08:38', '2008-01-04 11'),\n",
       " ('2008-01-04 11:09:12', '2008-01-04 11'),\n",
       " ('2008-01-04 11:10:04', '2008-01-04 11'),\n",
       " ('2008-01-04 11:11:00', '2008-01-04 11'),\n",
       " ('2008-01-04 11:33:05', '2008-01-04 11'),\n",
       " ('2008-01-04 11:35:25', '2008-01-04 11'),\n",
       " ('2008-01-04 13:05:51', '2008-01-04 13'),\n",
       " ('2008-01-04 14:48:37', '2008-01-04 14'),\n",
       " ('2008-01-04 15:01:37', '2008-01-04 15'),\n",
       " ('2008-01-04 15:44:39', '2008-01-04 15'),\n",
       " ('2008-01-04 16:09:01', '2008-01-04 16'),\n",
       " ('2008-01-04 18:08:50', '2008-01-04 18'),\n",
       " ('2008-01-05 09:12:07', '2008-01-05 09')}"
      ]
     },
     "execution_count": 51,
     "metadata": {
      "tags": []
     },
     "output_type": "execute_result"
    }
   ],
   "source": [
    "str2=re.findall(r'((\\d{4}-\\d{2}-\\d{2} \\d{2}):\\d{2}:\\d{2})', text)\n",
    "set(str2)"
   ]
  },
  {
   "cell_type": "markdown",
   "metadata": {
    "colab_type": "text",
    "id": "USMziUFANZpA"
   },
   "source": [
    "### 3.3 Extract author's email address\n",
    "\n",
    "\n",
    "There are many email addresses included in the file. We would like to extract email addresses from the Author the format is normally:\n",
    "\n",
    "\"Author: stephen.marquard@uct.ac.za\"\n",
    "\n",
    "Now lets see if we can use the following regular expression:\n",
    "```python\n",
    "r\"[a-zA-Z0-9_.+-]+@[a-zA-Z0-9-]+\\.[a-zA-Z0-9-.]+\"\n",
    "```\n",
    "which was copied and pasted from http://emailregex.com/\n",
    "\n",
    "Does it work in the task?"
   ]
  },
  {
   "cell_type": "code",
   "execution_count": 0,
   "metadata": {
    "colab": {
     "base_uri": "https://localhost:8080/",
     "height": 745
    },
    "colab_type": "code",
    "executionInfo": {
     "elapsed": 842,
     "status": "ok",
     "timestamp": 1553224761525,
     "user": {
      "displayName": "LIU ZHI",
      "photoUrl": "",
      "userId": "02817931634636469244"
     },
     "user_tz": -660
    },
    "id": "MSCg5mWSNZpA",
    "outputId": "3a29493b-415a-4c32-c3ee-46adb459591b"
   },
   "outputs": [
    {
     "data": {
      "text/plain": [
       "{'200801032122.m03LMFo4005148@nakamura.uits.iupui.edu',\n",
       " '200801032127.m03LRUqH005177@nakamura.uits.iupui.edu',\n",
       " '200801032133.m03LX3gG005191@nakamura.uits.iupui.edu',\n",
       " '200801032205.m03M5Ea7005273@nakamura.uits.iupui.edu',\n",
       " '200801032216.m03MGhDa005292@nakamura.uits.iupui.edu',\n",
       " '200801040023.m040NpCc005473@nakamura.uits.iupui.edu',\n",
       " '200801040905.m0495rWB006420@nakamura.uits.iupui.edu',\n",
       " '200801040932.m049W2i5006493@nakamura.uits.iupui.edu',\n",
       " '200801040947.m049lUxo006517@nakamura.uits.iupui.edu',\n",
       " '200801041106.m04B6lK3006677@nakamura.uits.iupui.edu',\n",
       " '200801041200.m04C0gfK006793@nakamura.uits.iupui.edu',\n",
       " '200801041403.m04E3psW006926@nakamura.uits.iupui.edu',\n",
       " '200801041502.m04F21Jo007031@nakamura.uits.iupui.edu',\n",
       " '200801041515.m04FFv42007050@nakamura.uits.iupui.edu',\n",
       " '200801041537.m04Fb6Ci007092@nakamura.uits.iupui.edu',\n",
       " '200801041608.m04G8d7w007184@nakamura.uits.iupui.edu',\n",
       " '200801041609.m04G9EuX007197@nakamura.uits.iupui.edu',\n",
       " '200801041610.m04GA5KP007209@nakamura.uits.iupui.edu',\n",
       " '200801041611.m04GB1Lb007221@nakamura.uits.iupui.edu',\n",
       " '200801041633.m04GX6eG007292@nakamura.uits.iupui.edu',\n",
       " '200801041635.m04GZQGZ007313@nakamura.uits.iupui.edu',\n",
       " '200801041948.m04JmdwO007705@nakamura.uits.iupui.edu',\n",
       " '200801042001.m04K1cO0007738@nakamura.uits.iupui.edu',\n",
       " '200801042044.m04Kiem3007881@nakamura.uits.iupui.edu',\n",
       " '200801042109.m04L92hb007923@nakamura.uits.iupui.edu',\n",
       " '200801042308.m04N8v6O008125@nakamura.uits.iupui.edu',\n",
       " '200801051412.m05ECIaH010327@nakamura.uits.iupui.edu',\n",
       " 'antranig@caret.cam.ac.uk',\n",
       " 'cwen@iupui.edu',\n",
       " 'david.horwitz@uct.ac.za',\n",
       " 'gopal.ramasammycook@gmail.com',\n",
       " 'gsilver@umich.edu',\n",
       " 'hu2@iupui.edu',\n",
       " 'josrodri@iupui.edu',\n",
       " 'louis@media.berkeley.edu',\n",
       " 'postmaster@collab.sakaiproject.org',\n",
       " 'ray@media.berkeley.edu',\n",
       " 'rjlowe@iupui.edu',\n",
       " 'source@collab.sakaiproject.org',\n",
       " 'stephen.marquard@uct.ac.za',\n",
       " 'wagnermr@iupui.edu',\n",
       " 'zqian@umich.edu'}"
      ]
     },
     "execution_count": 52,
     "metadata": {
      "tags": []
     },
     "output_type": "execute_result"
    }
   ],
   "source": [
    "str1=re.findall(r\"[a-zA-Z0-9_.+-]+@[a-zA-Z0-9-]+\\.[a-zA-Z0-9-.]+\", text)\n",
    "set(str1)"
   ]
  },
  {
   "cell_type": "markdown",
   "metadata": {
    "colab_type": "text",
    "id": "EUSXReMPNZpC"
   },
   "source": [
    "What if I only want email address after Author ? "
   ]
  },
  {
   "cell_type": "code",
   "execution_count": 0,
   "metadata": {
    "colab": {
     "base_uri": "https://localhost:8080/",
     "height": 485
    },
    "colab_type": "code",
    "executionInfo": {
     "elapsed": 795,
     "status": "ok",
     "timestamp": 1553224765724,
     "user": {
      "displayName": "LIU ZHI",
      "photoUrl": "",
      "userId": "02817931634636469244"
     },
     "user_tz": -660
    },
    "id": "q5OhZqsaNZpD",
    "outputId": "e7e0b745-0ffd-418c-fff8-af1c62b82069"
   },
   "outputs": [
    {
     "data": {
      "text/plain": [
       "['stephen.marquard@uct.ac.za',\n",
       " 'louis@media.berkeley.edu',\n",
       " 'zqian@umich.edu',\n",
       " 'rjlowe@iupui.edu',\n",
       " 'zqian@umich.edu',\n",
       " 'rjlowe@iupui.edu',\n",
       " 'cwen@iupui.edu',\n",
       " 'cwen@iupui.edu',\n",
       " 'gsilver@umich.edu',\n",
       " 'gsilver@umich.edu',\n",
       " 'zqian@umich.edu',\n",
       " 'gsilver@umich.edu',\n",
       " 'wagnermr@iupui.edu',\n",
       " 'zqian@umich.edu',\n",
       " 'antranig@caret.cam.ac.uk',\n",
       " 'gopal.ramasammycook@gmail.com',\n",
       " 'david.horwitz@uct.ac.za',\n",
       " 'david.horwitz@uct.ac.za',\n",
       " 'david.horwitz@uct.ac.za',\n",
       " 'david.horwitz@uct.ac.za',\n",
       " 'stephen.marquard@uct.ac.za',\n",
       " 'louis@media.berkeley.edu',\n",
       " 'louis@media.berkeley.edu',\n",
       " 'ray@media.berkeley.edu',\n",
       " 'cwen@iupui.edu',\n",
       " 'cwen@iupui.edu',\n",
       " 'cwen@iupui.edu']"
      ]
     },
     "execution_count": 53,
     "metadata": {
      "tags": []
     },
     "output_type": "execute_result"
    }
   ],
   "source": [
    "str1=re.findall(r'Author: ([a-zA-Z0-9_.+-]+@[a-zA-Z0-9-]+\\.[a-zA-Z0-9-.]+)', text)\n",
    "str1"
   ]
  },
  {
   "cell_type": "markdown",
   "metadata": {
    "colab_type": "text",
    "collapsed": true,
    "id": "4WXoZvqHNZpG"
   },
   "source": [
    "## Part 4. Summary\n",
    "\n",
    "This chapter has discussed the fundamentals of regular expressions.\n",
    "You have learnt how to develop regular expressions for handling street addresses, Roman numerals, phone numbers, and dates. Regular expressions may not be suitable for dealing with complex XML files but the basic idea that a regular expression can block anything that doesn't match is both useful and powerful. You might use regular expressions, for example, as the basis for a short program that filters incoming spam in your email. In this case, the program might use a regular expression to determine whether the name of a known spammer appeared in the \"From:\" line of the email. Email filtering programs, in fact, very often use regular expressions for exactly this type of operation. You will further learn regular expressions in Module 6 on text pre-processing. It is worth noting that regular expressions are not specific to Python. Many other programming languages also provide regular expression capabilities, for example, Perl, Java, Ruby, etc. Finally, do you think it's possibly to do Data Wrangling without regular expressions?\n",
    "\n",
    "---\n",
    "\n",
    "Watch the Software Carpentry lecture on regular expressions, if you need more helps.\n",
    "\n",
    "https://www.youtube.com/playlist?list=PL7C1EB31127AB8A0B\n",
    "\n",
    "- - -\n",
    "\n",
    "## Part 5. Exercises\n",
    "\n",
    "1.  Write a regular expression to match negative numbers and real-valued numbers, such as -1,023, -10.00, 10.393, and 0.234.\n",
    "1.  Write and test regular expressions for validating days. \n",
    "    1. Just worry about 0 to 31 by assuming all the months can have 31 days\n",
    "    2. Deal with 29, 30 or 31 days, where we distinguish months having 30 days, those having 31 days and assume February always has 29 by treating every year as a leap year.\n",
    "2.  Write regular expressions that can handle date format dd/mm/yyyy, deal with 29, 30, and 31 (as in Exercise 2), \n",
    "    and make the matched day, month and year accessible with group names.\n",
    "- - -\n",
    "\n",
    "<details><summary><u><b><font color=\"Blue\">Click here for the solution to Exercise</font></b></u></summary>\n",
    "```python\n",
    "    #Question 1\n",
    "    import re\n",
    "    test_string  = 'HIHIDJOPJ PO 1.22222 -1023 -10.00 10.393 0.234 Hi HiHDIHDIQWHDIQWO #@#$!#!@'\n",
    "    stringresult=re.findall(r\"[-+]?\\d+[\\.]?\\d*\", test_string)\n",
    "    stringresult\n",
    "```\n",
    "\n",
    "```python\n",
    "    #Question 2\n",
    "    import re\n",
    "    def vailddays(day):\n",
    "        pattern = r\"^(1[0-9]|[2-9][0-9])\\d\\d[- /.](0?[1-9]|1[012])[- /.](0?[1-9]|[12][0-9]|3[01])$\"\n",
    "        daylist=re.split(r'[- /.]', day)\n",
    "        shortmonth= [4,6,9,11]    \n",
    "    if re.match(pattern, day):\n",
    "        print (day + \" is a vaild day format\")        \n",
    "        if int(daylist[1]) in shortmonth and int(daylist[1])>30:\n",
    "            print (day + \" is not a vaild day format\")            \n",
    "        elif int(daylist[1]) == 2 and int(daylist[2]) > 29:   \n",
    "            print (day + \" is not a vaild day format\")  \n",
    "    else:\n",
    "        print (day + \" is not a vaild day format\")\n",
    "    #Testcases        \n",
    "    vailddays('2012-4-31')\n",
    "    vailddays('2012-2-30')\n",
    "    vailddays('2012-1-32')\n",
    "    vailddays('2012-1-1')\n",
    "    vailddays('2012-01-01')\n",
    "    vailddays('2012-01-1')\n",
    "    vailddays('2012-1-01')\n",
    "    vailddays('2999-2-22')\n",
    "    vailddays('1000-2-22')\n",
    "    vailddays('9999-2-22')\n",
    "    vailddays('9999.2.22')\n",
    "    vailddays('9999/2/22')\n",
    "    vailddays('9999 2 22')\n",
    "```\n",
    "    \n",
    "```python\n",
    "    #Question 3\n",
    "    import re\n",
    "    def vailddays(day):\n",
    "        pattern = r\"^(0?[1-9]|[12][0-9]|3[01])[/](0?[1-9]|1[012])[/](1[0-9]|[2-9][0-9])\\d\\d$\"    \n",
    "        processedday=re.match(pattern, day)   \n",
    "        shortmonth= [4,6,9,11]\n",
    "     \n",
    "        try:    \n",
    "            if int(processedday.group(2)) in shortmonth and int(processedday.group(1))>30:\n",
    "                print (day + \" is not a vaild day format\")            \n",
    "            elif int(processedday.group(2)) == 2 and int(processedday.group(1)) > 29:   \n",
    "                print (day + \" is not a vaild day format\")  \n",
    "            else:\n",
    "                print (day + \" is a vaild day format\")\n",
    "        except AttributeError as error:\n",
    "            print(day + ' format is not matching the dd/mm/yyyy. \\n It will show a error which  ', error,'\\n')\n",
    "\n",
    "#Testcases        \n",
    "vailddays('31/04/2012')\n",
    "vailddays('31/4/2012')\n",
    "vailddays('30/2/2012')\n",
    "vailddays('31-12-2012')\n",
    "vailddays('1/1/1111')\n",
    "```"
   ]
  }
 ],
 "metadata": {
  "colab": {
   "name": "SIT742P04C-MoreRegEx.ipynb",
   "provenance": [
    {
     "file_id": "https://github.com/tulip-lab/sit742/blob/master/Jupyter/SIT742P04C-MoreRegEx.ipynb",
     "timestamp": 1553171064316
    }
   ],
   "version": "0.3.2"
  },
  "kernelspec": {
   "display_name": "Python 3",
   "language": "python",
   "name": "python3"
  },
  "language_info": {
   "codemirror_mode": {
    "name": "ipython",
    "version": 3
   },
   "file_extension": ".py",
   "mimetype": "text/x-python",
   "name": "python",
   "nbconvert_exporter": "python",
   "pygments_lexer": "ipython3",
   "version": "3.9.2"
  }
 },
 "nbformat": 4,
 "nbformat_minor": 1
}
