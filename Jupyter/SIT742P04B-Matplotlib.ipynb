{
 "cells": [
  {
   "cell_type": "markdown",
   "metadata": {
    "colab_type": "text",
    "id": "c0ES8ZbPaK4_"
   },
   "source": [
    "# SIT742: Modern Data Science \n",
    "**(Module 04: Data Visualization)**\n",
    "\n",
    "\n",
    "---\n",
    "- Materials in this module include resources collected from various open-source online repositories.\n",
    "- You are free to use, change and distribute this package.\n",
    "- If you found any issue/bug for this document, please submit an issue at [tulip-lab/sit742](https://github.com/tulip-lab/sit742/issues)\n",
    "\n",
    "Prepared by **SIT742 Teaching Team**\n",
    "\n",
    "---\n",
    "\n",
    "\n",
    "## Session 4B - Matplotlib (Optional)\n",
    "\n",
    "`matplotlib` is probably the single most used Python package for 2D-graphics. It provides both a very quick way to visualize data from Python and publication-quality figures in many formats. We are going to explore `matplotlib` in interactive mode covering most common cases.\n"
   ]
  },
  {
   "cell_type": "code",
   "execution_count": 0,
   "metadata": {
    "colab": {},
    "colab_type": "code",
    "id": "OnOM1U8VaK5D"
   },
   "outputs": [],
   "source": [
    "%matplotlib inline\n",
    "# ignore this \"magic\" command -- it's only necessary to setup this notebook... "
   ]
  },
  {
   "cell_type": "markdown",
   "metadata": {
    "colab_type": "text",
    "id": "B6ZoIeQ5aK5M"
   },
   "source": [
    "## 1.Introduction to the basics of matplotlib visualizations\n",
    "\n",
    "Further reading: \n",
    "\n",
    "http://matplotlib.org/users/pyplot_tutorial.html\n",
    "\n",
    "http://www.labri.fr/perso/nrougier/teaching/matplotlib/matplotlib.html"
   ]
  },
  {
   "cell_type": "markdown",
   "metadata": {
    "colab_type": "text",
    "id": "jt3f90bTaK5O"
   },
   "source": [
    "### 1.1.Importing Matplotlib\n",
    "\n",
    "The popular convention is to import \n",
    "the `matplotlib.pyplot` module and alias it to `plt` for easier typing:\n"
   ]
  },
  {
   "cell_type": "code",
   "execution_count": 0,
   "metadata": {
    "colab": {},
    "colab_type": "code",
    "id": "26mjkbV0aK5R"
   },
   "outputs": [],
   "source": [
    "import matplotlib.pyplot as plt"
   ]
  },
  {
   "cell_type": "markdown",
   "metadata": {
    "colab_type": "text",
    "id": "8ABZlU2ZaK5Y"
   },
   "source": [
    "### 1.2.Interactively plotting\n",
    "\n",
    "Note: the following instructions only apply if you are trying things out in ipython -- which you _should_ be doing when trying out matplotlib.\n",
    "\n",
    "When testing things out in iPython, if you want to see the chart images pop-up as you execute the charting commands, begin your iPython session by [running the `%matplotlib` magic command](https://ipython.org/ipython-doc/3/interactive/magics.html#magic-matplotlib) (however, _don't_ include it in any standalone Python scripts):\n",
    "\n",
    "\n",
    "```py\n",
    "%matplotlib\n",
    "import matplotlib.pyplot as plt\n",
    "```\n",
    "\n",
    "### Getting unstuck out of a stuck iPython prompt\n",
    "\n",
    "In current versions of matplotlib, iPython, OSX, you may run into an error where the prompt just freezes. [This is a known bug](https://github.com/ipython/ipython/issues/9128). Just hit Ctrl-C a couple of times and then Enter to break out of whatever command you were stuck in (you'll have to retype the command).\n",
    "\n",
    "\n",
    "\n",
    "\n"
   ]
  },
  {
   "cell_type": "markdown",
   "metadata": {
    "colab_type": "text",
    "id": "yKwi6MbPaK5a"
   },
   "source": [
    "### 1.3.The simplest plot\n",
    "\n",
    "The following snippet is all you need to get a chart going in matplotlib. We actually won't be using this convention going forward, but it's worth seeing the minimal amount of code needed to make a graph:"
   ]
  },
  {
   "cell_type": "code",
   "execution_count": 0,
   "metadata": {
    "colab": {},
    "colab_type": "code",
    "id": "D-ihDCPkaK5b"
   },
   "outputs": [],
   "source": [
    "xvals = [0, 1, 2, 3]\n",
    "yvals = [20, 10, 50, -15]\n",
    "plt.bar(xvals, yvals)"
   ]
  },
  {
   "cell_type": "markdown",
   "metadata": {
    "colab_type": "text",
    "id": "9VTD0B9gaK5i"
   },
   "source": [
    "### 1.4.Saving the simplest plot to disk\n",
    "\n",
    "To save to file, use the `savefig()` method:\n",
    "\n",
    "```py\n",
    "plt.savefig('hello.png')\n",
    "```\n",
    "\n",
    "\n",
    "\n",
    "\n"
   ]
  },
  {
   "cell_type": "code",
   "execution_count": 0,
   "metadata": {
    "colab": {},
    "colab_type": "code",
    "id": "U1D_U4RsI7wC"
   },
   "outputs": [],
   "source": [
    "%matplotlib inline\n",
    "xvals = [0, 1, 2, 3]\n",
    "yvals = [20, 10, 50, -15]\n",
    "plt.bar(xvals, yvals)\n",
    "plt.savefig('hello.png',dpi=100)"
   ]
  },
  {
   "cell_type": "markdown",
   "metadata": {
    "colab_type": "text",
    "id": "LkEMQMbGI7ZC"
   },
   "source": [
    "\n",
    "### 1.5.Removing the active chart (while interactively plotting)\n",
    "\n",
    "If you are doing these commands in iPython, then a chart window will have popped up with the rendered-chart image as as soon as you executed the `plt.bar()` method. To clear the space, call the `plt.close()` method:\n",
    "\n",
    "```py\n",
    "plt.close()\n",
    "```"
   ]
  },
  {
   "cell_type": "code",
   "execution_count": 0,
   "metadata": {
    "colab": {},
    "colab_type": "code",
    "id": "_CjVgD6iI7IG"
   },
   "outputs": [],
   "source": [
    "plt.close()"
   ]
  },
  {
   "cell_type": "markdown",
   "metadata": {
    "colab_type": "text",
    "id": "MYe_Pk83aK5k"
   },
   "source": [
    "## 2.Making \"subplots\" and using `fig` and `ax`\n",
    "\n",
    "While the invocation of methods on the global `plt` object will produce charts quick and easy, we'll be following this general convention (note that `plot()` is a method for drawing line charts):"
   ]
  },
  {
   "cell_type": "code",
   "execution_count": 0,
   "metadata": {
    "colab": {},
    "colab_type": "code",
    "id": "-on6J2eraK5n"
   },
   "outputs": [],
   "source": [
    "fig, ax = plt.subplots()\n",
    "ax.plot([1,2,3], [40, 20, 33])"
   ]
  },
  {
   "cell_type": "markdown",
   "metadata": {
    "colab_type": "text",
    "id": "Z06VUMRRaK5t"
   },
   "source": [
    "What's `fig`? What's `ax`? And what exactly is `plt.subplots()` doing? It's not worth explaining in these simple examples, but it's a convention worth getting into the habit of as it allows us to be more flexible in the future. And it's not too hard to memorize.\n",
    "\n",
    "Here's another example, this time using the `scatter()` chart method:"
   ]
  },
  {
   "cell_type": "code",
   "execution_count": 0,
   "metadata": {
    "colab": {},
    "colab_type": "code",
    "id": "IncMS5CxaK5w"
   },
   "outputs": [],
   "source": [
    "fig, ax = plt.subplots()\n",
    "xvals = [42, 8, 33, 25, 39]\n",
    "yvals = [30, 22, 42, 9, 16]\n",
    "ax.scatter(xvals, yvals)\n"
   ]
  },
  {
   "cell_type": "markdown",
   "metadata": {
    "colab_type": "text",
    "id": "hP9lOU3LaK52"
   },
   "source": [
    "### 2.1.Saving figures\n",
    "\n",
    "Using the `fig, ax = plt.subplots()` convention, saving to disk is slightly different: call the `savefig()` method via the `fig` object:\n",
    "\n",
    "```py\n",
    "fig.savefig('helloagain.jpg')\n",
    "```\n"
   ]
  },
  {
   "cell_type": "markdown",
   "metadata": {
    "colab_type": "text",
    "id": "OmO08Tt2aK53"
   },
   "source": [
    "### 2.2.Charting multiple data series\n",
    "\n",
    "To chart more than one series of data on a single set of axes, simply invoke the charting methods of the given axes multiple times:"
   ]
  },
  {
   "cell_type": "code",
   "execution_count": 0,
   "metadata": {
    "colab": {},
    "colab_type": "code",
    "id": "GURAH5hyaK56"
   },
   "outputs": [],
   "source": [
    "fig, ax = plt.subplots()\n",
    "xvals = [0, 1, 2, 3, 4]\n",
    "y1 = [20, 8, 12, 24, 18]\n",
    "y2 = [9, 1, 8, 15, 26]\n",
    "ax.plot(xvals, y1)\n",
    "ax.plot(xvals, y2)\n",
    "ax"
   ]
  },
  {
   "cell_type": "markdown",
   "metadata": {
    "colab_type": "text",
    "id": "nGSdV8rSaK6B"
   },
   "source": [
    "Want multiple _types_ of charts on a single set of axes? Just call different types of charts on a single axes:"
   ]
  },
  {
   "cell_type": "code",
   "execution_count": 0,
   "metadata": {
    "colab": {},
    "colab_type": "code",
    "id": "3kqQOkYjaK6E"
   },
   "outputs": [],
   "source": [
    "fig, ax = plt.subplots()\n",
    "xvals = [0, 1, 2, 3, 4]\n",
    "y1 = [20, 8, 12, 24, 18]\n",
    "y2 = [9, 1, 8, 15, 26]\n",
    "ax.scatter(xvals, y1)\n",
    "ax.plot(xvals, y2)\n",
    "ax"
   ]
  },
  {
   "cell_type": "markdown",
   "metadata": {
    "colab_type": "text",
    "id": "9G_LWBooaK6I"
   },
   "source": [
    "### 2.3.The importance of data structure\n",
    "\n",
    "We've only scratched the surface of Matplotlib's visualization methods, but the main constraint we'll face is having correctly-structured data. \n",
    "\n",
    "For instance, matplotlib will throw an error if we attempt to chart x-values and y-values in which the relationship is not 1-to-1:\n",
    "\n",
    "\n",
    "```py\n",
    "xvals = [0, 1, 2]\n",
    "yvals = [42]\n",
    "ax.bar(xvals, yvals)\n",
    "\n",
    "# ValueError: incompatible sizes: argument 'height' must be length 3 or scalar\n",
    "```\n",
    "\n",
    "\n",
    "And certain data structures don't make sense for certain charts. Here's a valid pie chart:\n"
   ]
  },
  {
   "cell_type": "code",
   "execution_count": 0,
   "metadata": {
    "colab": {},
    "colab_type": "code",
    "id": "5f9eLINNaK6J"
   },
   "outputs": [],
   "source": [
    "yvals = [10, 20, 30]\n",
    "fig, ax = plt.subplots()\n",
    "ax.pie(yvals)"
   ]
  },
  {
   "cell_type": "markdown",
   "metadata": {
    "colab_type": "text",
    "id": "151MwrHhaK6P"
   },
   "source": [
    "However, the `pie()` call doesn't take in x- and y- parameters -- instead, the second argument is the `explode` value, easier shown than explained:"
   ]
  },
  {
   "cell_type": "code",
   "execution_count": 0,
   "metadata": {
    "colab": {},
    "colab_type": "code",
    "id": "9amjpcZjaK6Q"
   },
   "outputs": [],
   "source": [
    "a = [10, 20, 30]\n",
    "b = [0.2, 2, 1]\n",
    "\n",
    "fig, ax = plt.subplots()\n",
    "ax.pie(a, b)\n"
   ]
  },
  {
   "cell_type": "markdown",
   "metadata": {
    "colab_type": "text",
    "id": "IVhvSFPSaK6V"
   },
   "source": [
    "### 2.4.Stacked bar charts\n",
    "\n",
    "Matplotlib offers a variety of ways to arrange multiple-series data. It's worth looking at the logic behind how a stacked bar chart is created.\n",
    "\n",
    "First, start with a single bar chart:"
   ]
  },
  {
   "cell_type": "code",
   "execution_count": 0,
   "metadata": {
    "colab": {},
    "colab_type": "code",
    "id": "2sOGha79aK6Y"
   },
   "outputs": [],
   "source": [
    "xvals = [0, 1, 2, 3, 4]\n",
    "y1 = [50, 40, 30, 20, 10]\n",
    "fig, ax = plt.subplots()\n",
    "ax.bar(xvals, y1)"
   ]
  },
  {
   "cell_type": "markdown",
   "metadata": {
    "colab_type": "text",
    "id": "lsJWOs9yaK6e"
   },
   "source": [
    "What is the structure of data of a stacked bar chart? It's when two data series share the same independent variable (i.e. x-axis). \n",
    "\n",
    "However, simply calling `bar()` twice creates overlapping bars...which is not quite what we want:\n",
    "\n",
    "(note that I've added the `color` argument to the second call to make the different charts stand out):\n"
   ]
  },
  {
   "cell_type": "code",
   "execution_count": 0,
   "metadata": {
    "colab": {},
    "colab_type": "code",
    "id": "cZDrv4bnaK6f"
   },
   "outputs": [],
   "source": [
    "xvals = [0, 1, 2, 3, 4]\n",
    "y1 = [50, 40, 30, 20, 10]\n",
    "y2 = [10, 18, 23, 7, 26]\n",
    "fig, ax = plt.subplots()\n",
    "ax.bar(xvals, y1)\n",
    "ax.bar(xvals, y2, color='orange')"
   ]
  },
  {
   "cell_type": "markdown",
   "metadata": {
    "colab_type": "text",
    "id": "MIx6oeUmaK6j"
   },
   "source": [
    "To get the grouped effect, we need to pass the `bottom` argument to the second call of `bar()`. What do we pass into that argument? The list of y-values that are in the _first_ call of `bar()`:"
   ]
  },
  {
   "cell_type": "code",
   "execution_count": 0,
   "metadata": {
    "colab": {},
    "colab_type": "code",
    "id": "qpI6IbSgaK6m"
   },
   "outputs": [],
   "source": [
    "xvals = [0, 1, 2, 3, 4]\n",
    "y1 = [50, 40, 30, 20, 10]\n",
    "y2 = [10, 18, 23, 7, 26]\n",
    "fig, ax = plt.subplots()\n",
    "ax.bar(xvals, y1)\n",
    "ax.bar(xvals, y2, color='orange', bottom=y1)"
   ]
  },
  {
   "cell_type": "markdown",
   "metadata": {
    "colab_type": "text",
    "id": "zWMufNrNaK6s"
   },
   "source": [
    "In effect, we've told the matplotlib plotter that we want to start the `y2` values from where each corresponding `y1` value left off, i.e. stack `y2` on top of `y1`.\n",
    "\n",
    "\n",
    "What happens when the `y1` and `y2` values have _different_ x-values? Something weird...which is why you shouldn't be stacking non-aligning data series: "
   ]
  },
  {
   "cell_type": "code",
   "execution_count": 0,
   "metadata": {
    "colab": {},
    "colab_type": "code",
    "id": "l2T4HqzmaK6t"
   },
   "outputs": [],
   "source": [
    "x1 = [0, 1, 2, 3, 4]\n",
    "y1 = [50, 40, 30, 20, 10]\n",
    "x2 = [ 10, 11, 12, 13, 14]\n",
    "y2 = [10, 18, 23, 7, 26]\n",
    "fig, ax = plt.subplots()\n",
    "ax.bar(x1, y1)\n",
    "ax.bar(x2, y2, color='orange', bottom=y1)"
   ]
  },
  {
   "cell_type": "markdown",
   "metadata": {
    "colab_type": "text",
    "id": "1k7NKxEGaK6y"
   },
   "source": [
    "### 2.5.Plotting categorical data\n",
    "\n",
    "One more example to show how picky matplotlib is about data structure.\n",
    "\n",
    "Pretend we have two _things_, e.g. 'apples' and 'orranges', with two corresponding y-values, e.g. `42` and `25`, to represent `42 apples` and `25 oranges`. \n",
    "\n",
    "Unfortunately, we can't plot the __categories__ of `apples` and `oranges` along the x-axis so easily:\n",
    "\n",
    "\n",
    "```py\n",
    "xvals - ['apples', 'oranges']\n",
    "yvals = [42, 25]\n",
    "fig, ax = plt.subplots()\n",
    "ax.bar(xvals, yvals)\n",
    "```\n",
    "\n",
    "We get this arcane error:\n",
    "\n",
    "```\n",
    "---------------------------------------------------------------------------\n",
    "TypeError                                 Traceback (most recent call last)\n",
    "<ipython-input-51-368b1dcacfa1> in <module>()\n",
    "----> 1 xvals - ['apples', 'oranges']\n",
    "      2 yvals = [42, 25]\n",
    "      3 fig, ax = plt.subplots()\n",
    "      4 ax.bar(xvals, yvals)\n",
    "\n",
    "TypeError: unsupported operand type(s) for -: 'list' and 'list'\n",
    "```\n",
    "\n",
    "Basically, matplotlib won't deal with anything but numerical values -- integers, floats, or datetimes -- when plotting a chart. It just simply doesn't know where `apples` and `oranges` -- which we refer to as __categorical__ (as opposed to _continuous_) values -- should be positioned along the x-axis. \n",
    "\n",
    "So we have to hold matplotlib by the hand and tell it:\n",
    "\n",
    "1. For the y-values of `42` and `25`, plot them against the x-values of `0` and `1` -- for now.\n",
    "2. Then, label the x-axis with 0 and 1, using `ax.set_xticks()`\n",
    "3. OK, where the `0` and `1` x-axis labels currently exist, replace them with `apples` and `oranges`, respectively, using `ax.set_xticklabels()`\n",
    "\n",
    "\n",
    "\n",
    "Here's the code to do that:\n"
   ]
  },
  {
   "cell_type": "code",
   "execution_count": 0,
   "metadata": {
    "colab": {},
    "colab_type": "code",
    "id": "VouJD4I5aK6z"
   },
   "outputs": [],
   "source": [
    "# Step 1\n",
    "\n",
    "xvals = [0, 1]\n",
    "yvals = [42, 25]\n",
    "\n",
    "fig, ax = plt.subplots()\n",
    "ax.bar(xvals, yvals)\n"
   ]
  },
  {
   "cell_type": "code",
   "execution_count": 0,
   "metadata": {
    "colab": {},
    "colab_type": "code",
    "id": "QcC9TCZoaK63"
   },
   "outputs": [],
   "source": [
    "# Step 1 & 2\n",
    "\n",
    "xvals = [0, 1]\n",
    "yvals = [42, 25]\n",
    "\n",
    "fig, ax = plt.subplots()\n",
    "# note that I specify the `align` argument in the `bar()` call:\n",
    "ax.bar(xvals, yvals, align='center')\n",
    "ax.set_xticks(xvals)\n"
   ]
  },
  {
   "cell_type": "code",
   "execution_count": 0,
   "metadata": {
    "colab": {},
    "colab_type": "code",
    "id": "S7W5f5d8aK7B"
   },
   "outputs": [],
   "source": [
    "# Steps 1,2,3\n",
    "# Step 1 & 2\n",
    "\n",
    "xlabels = ['apples', 'oranges']\n",
    "xvals = [0, 1]\n",
    "yvals = [42, 25]\n",
    "\n",
    "fig, ax = plt.subplots()\n",
    "# note that I specify the `align` argument in the `bar()` call:\n",
    "ax.bar(xvals, yvals, align='center')\n",
    "ax.set_xticks(xvals)\n",
    "ax.set_xticklabels(xlabels)"
   ]
  },
  {
   "cell_type": "markdown",
   "metadata": {
    "colab_type": "text",
    "id": "Mujv71PDaK7G"
   },
   "source": [
    "It'd be nice if matplotlib just \"knew\" how to deal with a set of human-readable labels for a simple bar chart. But just like most parts of Python programming, explicitness over ambiguity is required."
   ]
  },
  {
   "cell_type": "markdown",
   "metadata": {
    "colab_type": "text",
    "collapsed": true,
    "id": "oZ4piN0FaK7I"
   },
   "source": [
    "---\n",
    "## 3.Animation\n",
    "\n",
    "The easiest way to make a live animation in matplotlib is to use one of the Animation classes.\n",
    "\n",
    "See the following link for more examples and configurations\n",
    "\n",
    "https://matplotlib.org/2.0.0/api/animation_api.html"
   ]
  },
  {
   "cell_type": "code",
   "execution_count": 0,
   "metadata": {
    "colab": {},
    "colab_type": "code",
    "id": "9e1hNNaiaK7J"
   },
   "outputs": [],
   "source": [
    "#\n",
    "#Author: Navjot Singh\n",
    "#Source code:https://colab.research.google.com/drive/131wXGA8h8d7llSZxZJ6R4e8nz0ih1WPG#scrollTo=5zVG8JcR4CS2\n",
    "\n",
    "import numpy as np\n",
    "import matplotlib.pyplot as plt\n",
    "\n",
    "from matplotlib import animation, rc\n",
    "from IPython.display import HTML\n",
    "\n",
    "# First set up the figure, the axis, and the plot element we want to animate\n",
    "fig, ax = plt.subplots()\n",
    "plt.close()\n",
    "\n",
    "\n",
    "ax.set_xlim(( 0, 2))\n",
    "ax.set_ylim((-2, 2))\n",
    "\n",
    "line, = ax.plot([], [], lw=2)\n",
    "\n",
    "# initialization function: plot the background of each frame\n",
    "def init():\n",
    "    line.set_data([], [])\n",
    "    return (line,)\n",
    "\n",
    "# animation function. This is called sequentially  \n",
    "def animate(i):\n",
    "    x = np.linspace(0, 2, 1000)\n",
    "    y = np.sin(2 * np.pi * (x - 0.01 * i))\n",
    "    line.set_data(x, y)\n",
    "    return (line,)\n",
    "  \n",
    "\n",
    "anim = animation.FuncAnimation(fig, animate, init_func=init,\n",
    "                             frames=100, interval=100, blit=True)\n",
    "\n",
    "# Note: below is the part which makes it work on Colab\n",
    "rc('animation', html='jshtml')\n",
    "anim\n",
    "---"
   ]
  },
  {
   "cell_type": "markdown",
   "metadata": {
    "colab_type": "text",
    "id": "NWjZMk3EP7Y1"
   },
   "source": [
    "---\n",
    "## Exercise \n",
    "In addition, the matplotlib offical website provided some Animation examples can run on the Anaconda Jupyter. If you would like to run them on the Google colab, you should follow the above Navjot Singh sample to modify the below codes for matching with the Google colab python compiling enviroment.\n",
    "\n",
    "[Decay](https://matplotlib.org/gallery/animation/animate_decay.html)\n",
    "\n",
    "[The Bayes update](https://matplotlib.org/gallery/animation/bayes_update.html)\n",
    "\n",
    "[The double pendulum problem](https://matplotlib.org/gallery/animation/double_pendulum_sgskip.html)\n",
    "\n",
    "[Animated histogram](https://matplotlib.org/gallery/animation/random_walk.html)\n",
    "\n",
    "[Rain simulation](https://matplotlib.org/gallery/animation/rain.html)\n",
    "\n",
    "[Animated 3D random walk](https://matplotlib.org/gallery/animation/random_walk.html)\n",
    "\n",
    "[Animated line plot](https://matplotlib.org/gallery/animation/simple_anim.html)\n",
    "\n",
    "[Oscilloscope](https://matplotlib.org/gallery/animation/strip_chart.html)\n",
    "\n",
    "[MATPLOTLIB UNCHAINED](https://matplotlib.org/gallery/animation/unchained.html)"
   ]
  }
 ],
 "metadata": {
  "colab": {
   "name": "SIT742P05B-Matplotlib.ipynb",
   "provenance": [
    {
     "file_id": "https://github.com/tulip-lab/sit742/blob/master/Jupyter/SIT742P05B-Matplotlib.ipynb",
     "timestamp": 1553560299459
    }
   ],
   "toc_visible": true,
   "version": "0.3.2"
  },
  "kernelspec": {
   "display_name": "Python 3",
   "language": "python",
   "name": "python3"
  },
  "language_info": {
   "codemirror_mode": {
    "name": "ipython",
    "version": 3
   },
   "file_extension": ".py",
   "mimetype": "text/x-python",
   "name": "python",
   "nbconvert_exporter": "python",
   "pygments_lexer": "ipython3",
   "version": "3.9.2"
  }
 },
 "nbformat": 4,
 "nbformat_minor": 1
}
