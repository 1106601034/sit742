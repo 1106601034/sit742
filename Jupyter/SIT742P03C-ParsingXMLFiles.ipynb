{
    "nbformat_minor": 1, 
    "cells": [
        {
            "source": "# SIT742: Modern Data Science \n**(Week 03: Data Wrangling)**\n\n---\n- Materials in this module include resources collected from various open-source online repositories.\n- You are free to use, change and distribute this package.\n- If you found any issue/bug for this document, please submit an issue at [tulip-lab/sit742](https://github.com/tulip-lab/sit742/issues)\n\nPrepared by **SIT742 Teaching Team**\n\n---\n\n# Session 3C - Parsing XML Files \n\n## Table of Content\n\n* Part 1. Loading and Exploring an XML file\n* Part 2. Extracting XML data into DataFrame\n* Part 3. Summary\n\n\n---\n\n\n[XML](https://www.w3.org/XML/), Extensible Markup Language, is a markup language much like HTML.\nIt is a simple and flexible data format that defines a set of rules for encoding documents in a way that \nis both human and machine readable. As a self-descriptive markup language, XML plays an important role in many information systems. It stores data in plain text format, which provides a platform-independent way of storing, transporting, and sharing data. In this chapter we are going to learn how to parse and extract data from XML files with Python.\n\n\nFirst and foremost, you will need to have some basic understanding about XML.\nThere are a lot of good introductory materials freely available online. \nWe suggest the following two sections of Chapter 12 in \"**Dive Into Python 3**\":\n* [12.2 A 5-Minute Crash Course in XML](http://www.diveintopython3.net/xml.html#xml-intro) \ud83d\udcd6\n* [12.3 The Structure Of An Atom Feed](http://www.diveintopython3.net/xml.html#xml-structure) \ud83d\udcd6\n\nIf you are quite familiar with XML, you can skip the above materials and jump directly into the parsing sections.\n\nXML files are not as easy as the CSV or JSON files to preview and understand.\nThe data we are going to parse is the XML version for the \"Melbourne bike share\" dataset downloaded from\n[data.gov.au](https://data.melbourne.vic.gov.au/Transport-Movement/Melbourne-bike-share/tdvh-n9dv).\n\nLet's first open the file in your favorite editor to preview it. Note that it is always necessary to inspect the file before we parse it, as the inspection can give an idea of what the format of the file is, what information it stores, etc. If you scroll through the opened file, you will find that the data has been encompassed in XML syntax, using things called tags. The following figure shows a snippet of the data.\n\n![XML](https://github.com/tulip-lab/sit742/raw/master/Jupyter/image/xml_example.png \"XML File\")\n\n\nAfter inspecting the file, you should find that data values can be stored in two places in an XML file, which are:\n* in between two tags, for example, \n    ```html\n        <featurename>Harbour Town - Docklands Dve - Docklands</featurename>\n    ```\n    where the value is \"Harbour Town - Docklands Dve - Docklands\" for the <featurename> tag.\n* as an attribute of a tag, for example\n    ```html\n        <coordinates human_address=\"{&quot;address&quot;:&quot;&quot;,&quot;city&quot;:&quot;&quot;\n        ,&quot;state&quot;:&quot;&quot;,&quot;zip&quot;:&quot;&quot;}\" \n        latitude=\"-37.814022\" longitude=\"144.939521\" needs_recoding=\"false\"/>\n    ```\n    where the value of latitude is -37.814022 and longitude is 144.939521. \n\nThe attributes in XML store rich information about a specific tag.\nComparing XML with JSON, you will find that the XML tags and attributes hold data in \na similar way to the JSON keys. \nThe advantage of XML is that each tag in XML can hold more than one attribute, and\nmore values can be stored in one node. See the \"coordinate\" tag above.\n\nNow, how can we extract data stored either in between tags or as attributes?\nThe goal is to parse the XML file, extract relevant information, and store the information in Pandas DataFrame that looks like\n\n![XML](https://github.com/tulip-lab/sit742/raw/master/Jupyter/image/parsed_xml.png \"XML File\")\n\n\nIn the following sections, we will demonstrate the process of loading and exploring a XML file, extracting\ndata from the XML file and storing the data in Pandas DataFrame.\n* * * ", 
            "cell_type": "markdown", 
            "metadata": {
                "collapsed": true
            }
        }, 
        {
            "source": "## 1. Loading and Exploring an XML file\n\nPython can parse XML files in many ways.\nYou can find several Python libraries for parsing XML from \n[\" XML Processing Modules\"](https://docs.python.org/2/library/xml.html).\nHere we will show you how to use the following Python libraries\nto parse our XML file.\n* ElementTree\n* lxml\n* beautifulsoup\n\nThere are a couple of good materials worth reading\n* The office ElementTree [API](https://docs.python.org/2/library/xml.etree.elementtree.html#module-xml.etree.ElementTree) documentation, which provides not only the API reference but also a short tutorial on using ElementTree. \ud83d\udcd6\n* [Parsing XML](http://www.diveintopython3.net/xml.html#xml-parse), Section 12.4 in Chapter 12 of \"**Dive into Python**\" does a good job on elaborating the process of parsing an example XML file with ElementsTree. \ud83d\udcd6\n\nIf you are a visual learner, we suggest the following YouTube video\n* [Parsing XML files in Python](https://www.youtube.com/watch?v=c2qlCZhkwtE)\n\nWe strongly suggest that you read these materials, although we are going to reproduce some of their content\nalong with our own XML file.\n\nLet's start with ElementTree. \nThere are several ways to import the data, which depends on how the data is stored.\nHere we will read the file from disk.", 
            "cell_type": "markdown", 
            "metadata": {}
        }, 
        {
            "source": "!pip install wget\n", 
            "cell_type": "code", 
            "metadata": {}, 
            "outputs": [
                {
                    "output_type": "stream", 
                    "name": "stdout", 
                    "text": "Requirement not upgraded as not directly required: wget in /opt/conda/envs/DSX-Python35/lib/python3.5/site-packages\r\n"
                }
            ], 
            "execution_count": 2
        }, 
        {
            "source": "import wget\n\nlink_to_data = 'https://github.com/tulip-lab/sit742/raw/master/Jupyter/data/Melbourne_bike_share.xml'\n\nDataSet = wget.download(link_to_data)\n!ls", 
            "cell_type": "code", 
            "metadata": {}, 
            "outputs": [
                {
                    "output_type": "stream", 
                    "name": "stdout", 
                    "text": "elevations (1).json  Melbourne_bike_share (1).xml  Melbourne_bike_share.json\r\nelevations.json      Melbourne_bike_share.csv\t   Melbourne_bike_share.xml\r\n"
                }
            ], 
            "execution_count": 3
        }, 
        {
            "source": "import xml.etree.ElementTree as etree    \ntree = etree.parse(\"Melbourne_bike_share.xml\")  ", 
            "cell_type": "code", 
            "metadata": {}, 
            "outputs": [], 
            "execution_count": 4
        }, 
        {
            "source": "In the ElementTree API, an element object is designed to store data in a hierarchical structure according to the XML tag structure.\nEach element has a number of properties associated with it, for example, a tag, a text string,\na set of attributes and a set of child elements.\nThe <font color=\"blue\">parse()</font> function is one of the entry points of the ElementTree library.\nIt parses the entire XML document at once into an ElementTree object that contains a hierarchy of Element objects. \nsee [\"How ElementTree represents XML\"](http://infohost.nmt.edu/tcc/help/pubs/pylxml/web/etree-view.html). \ud83d\udcd6\n\nThe first element in every XML document is called the root element,\nand an XML document can only have one root.\nHowever, the returning ElementTree object is not the root element. \nInstead, it represents the entire document.\nTo get a reference to the root element, call <font color=\"blue\">getroot()</font> method.", 
            "cell_type": "markdown", 
            "metadata": {}
        }, 
        {
            "source": "root = tree.getroot()     \nroot.tag", 
            "cell_type": "code", 
            "metadata": {}, 
            "outputs": [], 
            "execution_count": null
        }, 
        {
            "source": "As expected, the root element is the <font color='orange'>response</font> element. See the original XML file.\nYou can also check the number of children of the root element by typing\n```python\n    len(root)\n```\nIt will give you one. To get the only child, one can use the <font color=\"blue\">getchildren()</font> method.\nBut it will result in a warning message\nthat looks like \n```python\n    /Users/land/anaconda/lib/python2.7/site-packages/ipykernel/__main__.py:2: DeprecationWarning: This method \n    will be removed in future versions.  Use 'list(elem)' or iteration over elem instead.\n    from ipykernel import kernelapp as app.\n```\nThis is because the method has already been deprecated in Python 2.7.\nIndeed, an element acts like a list in the ElementTree API.\nThe items of the list are the element\u2019s children.", 
            "cell_type": "markdown", 
            "metadata": {}
        }, 
        {
            "source": "for child in root:           \n    print (child)", 
            "cell_type": "code", 
            "metadata": {}, 
            "outputs": [], 
            "execution_count": null
        }, 
        {
            "source": "The <font color='orange'>root</font> list only contains its direct children elements. The children elements of each entry in the list are not included. \n\nEach element can also have its own set of attributes. The <font color=\"orange\">attrib</font> property of an element is a mutable \nPython dictionary. \nDoes the root have attributes? Let's check it out.", 
            "cell_type": "markdown", 
            "metadata": {}
        }, 
        {
            "source": "root.attrib", 
            "cell_type": "code", 
            "metadata": {}, 
            "outputs": [], 
            "execution_count": null
        }, 
        {
            "source": "It returns a empty dictionary. \nSo far, the element tree seems to be empty.\nNow you need to <font color='red'>either examine the original xml to discover the structure,\nor further traverse the element hierarchy by iteratively printing out all the elements and \ndata contained therein </font>.\nThe <font color='orange'>root</font> element has only one child.\nIt can be accessed by index, for example:\n```python\n    root[0]\n```\nA FOR loop can be used to print out all the children of <font color='orange'>root[0]</font>.", 
            "cell_type": "markdown", 
            "metadata": {}
        }, 
        {
            "source": "print (\"the total number of rows: \", len(root[0]))", 
            "cell_type": "code", 
            "metadata": {}, 
            "outputs": [], 
            "execution_count": null
        }, 
        {
            "source": "for child in root[0]:\n    print (child)", 
            "cell_type": "code", 
            "metadata": {
                "scrolled": true
            }, 
            "outputs": [], 
            "execution_count": null
        }, 
        {
            "source": "The tag of each child is the same, called 'row', which stores information about one bike station.\nLet's keep on retrieving the children of these rows. Instead of doing that for \nall the rows, we retrieve the children of <font color=\"orange\">root[0][0]</font> and that should correspond to the first record.", 
            "cell_type": "markdown", 
            "metadata": {}
        }, 
        {
            "source": "for child in  root[0][0]:\n    print (child)", 
            "cell_type": "code", 
            "metadata": {}, 
            "outputs": [], 
            "execution_count": null
        }, 
        {
            "source": "Fortunately, the tags of the retrieved child elements correspond to the column names in the DataFrame.\nThus, all the tags storing the data we want have been found. \nTo confirm it you can inspect the original XML file \nor simply look at the figure shown in Section 1. \nAnother way of exploring the element hierarchy is to use the iteration function of ElementTree, `iter()`.\nThe iterator loops over all elements in the tree, in section order.\nEach element is represented as a Python tuple, where the first entry is a tag,\nthe second is the text, and the last is a dictionary of attributes.", 
            "cell_type": "markdown", 
            "metadata": {}
        }, 
        {
            "source": "for elem in tree.iter():\n    print (elem.tag, elem.text, elem.attrib)", 
            "cell_type": "code", 
            "metadata": {}, 
            "outputs": [], 
            "execution_count": null
        }, 
        {
            "source": "Besides ElementTree, there are other Python libraries that can be used to parse XML files.\nHere we show two of them, which are **`lxml`** and **`BeautifulSoup`**.\n\n### 1.1 The lxml package\n[**`lxml`**](http://lxml.de) is an open source third-party library that builds on top of two C libraries \nlibxml2 and libxslt.\nIt is mostly compatible but superior to the well-known ElementTree API.\nTo study **`lxml`** in detail, you should refer to:\n* [the lxml.etree tutorial](http://lxml.de/tutorial.html), a tutorial on XML processing with lxml.etree.\n* and [Going Further With lxml](http://www.diveintopython3.net/xml.html#xml-lxml), Section 12.6 in Chapter 12 of \"**Dive into Python 3**\". \ud83d\udcd6 \n\nHere we are going to briefly show you how to extract the text content of an element tree\nusing **XPath**.\n**XPath** allows you to extract the separate text chunks into a list:", 
            "cell_type": "markdown", 
            "metadata": {}
        }, 
        {
            "source": "from lxml import etree\nltree = etree.parse(\"Melbourne_bike_share.xml\")\nfor el in ltree.xpath('descendant-or-self::text()'):\n    print (el)", 
            "cell_type": "code", 
            "metadata": {
                "scrolled": true
            }, 
            "outputs": [], 
            "execution_count": null
        }, 
        {
            "source": "In the <font color='blue'>xpath()</font> function,\nthe <font color='orange'>descendant-or-self::</font> is an axis selector that limits the search to the context node, its children, their children, and so on out to the leaves of the tree. The <font color = 'blue'>text()</font> function selects only text nodes, discarding any elements, comments, and other non-textual content. The return value is a list of strings.\nRead [XPath processing](http://infohost.nmt.edu/tcc/help/pubs/pylxml/web/xpath.html) \ud83d\udcd6 for a short introduction\nto `xpath` and [W3C's website on Xpath](http://www.w3.org/TR/xpath/) for a detailed introduction to XPath.\nNote that <font color='blue'>lxml</font> is significantly faster than the built-in <font color='blue'>ElementTree</font> library on parsing large xml documents.\nIf your XML files are very large, you should consider using <font color='blue'>lxml</font>.\n\n### 1.2 The Beautiful Soup Pacakge\n[Beautiful Soup](http://www.crummy.com/software/BeautifulSoup/) is an another Python library for pulling data out of HTML and XML files. It provides Pythonic idioms for iterating, searching, and modifying the parsed tree.\nWe begin by reading in our XML file and creating a Beautiful Soup object with the BeautifulSoup function. In regard to the assessment, we suggest the use of beautiful soup.", 
            "cell_type": "markdown", 
            "metadata": {}
        }, 
        {
            "source": "from bs4 import BeautifulSoup\nbtree = BeautifulSoup(open(\"Melbourne_bike_share.xml\"),\"lxml-xml\") ", 
            "cell_type": "code", 
            "metadata": {}, 
            "outputs": [], 
            "execution_count": null
        }, 
        {
            "source": "There are two different ways of passing an XML document into the BeautifulSoup constructor.\nOne is to pass in a string, another is to parse an open filehandle. the above example follows the second approach.\nThe second argument is the parser to be used to parse the document.\nBeautiful Soup presents the same interface to a number of different parsers, but each parser is different. Different parsers will create different parsed trees from the same document.", 
            "cell_type": "markdown", 
            "metadata": {}
        }, 
        {
            "source": "print(btree.prettify())", 
            "cell_type": "code", 
            "metadata": {}, 
            "outputs": [], 
            "execution_count": null
        }, 
        {
            "source": "The soup object contains all of the XML content in the original document.\nThe XML tags contained in the angled brackets provide structural information (and sometimes formatting).\nIf you were to take a moment to print out the parsed tree, you would find Beautiful Soup did a good job.\nIt provides a structural representation of the original XML document. \nNow it is easy for you to eyeball the document and the tags or attributes containing the data we want. <font color=\"red\">We will stop here and leave the extraction of the data with Beautiful Soup as a simple exercise for you.</font>\nThe documentation of how to use Beautiful Soup can be found [here](https://www.crummy.com/software/BeautifulSoup/bs4/doc/).\n\n* * *", 
            "cell_type": "markdown", 
            "metadata": {}
        }, 
        {
            "source": "## 2. Extracting XML data into DataFrame\nSo far we have loaded XML into an element tree and have also found all the tags that contain the data we want. \nWe have worked with our XML file in a top-down fashion, starting with the root element, \nthen getting its child elements, and so on. \nWe have also gained a brief idea of **lxml** and **beautiful soup**.\nThis section will show you how to extract the data from all the tags and put it into Pandas DataFrame, a common\nand standard storage structure we used in the previous chapter. \nThis structure will also be used in the following chapters. \nBefore we walk through the extracting process, please read: \n* [Searching For Nodes Within An XML Document](http://www.diveintopython3.net/xml.html#xml-find) Section 12.5 in Chapter 12 of \"**Dive into Python 3**\". \ud83d\udcd6 \n\nLet's first just look at one tag, i.e., '*featurename*'.\nSince we don't know where it is, the code should loop over all the elements in the tree.\nTo produce a simple list of the featurenames, the logic could be simplified using \n`findall()` to look for all the elements with tag name '*featurename*'.\nBoth the ElementTree and the Element classes implement `findall(match)` function.\nThe one implemented by the ElementTree class finds all the matched subelements starting from root.\nThe other implemented by the Element finds those sub-elements starting from a given Element in the tree.\nAll the matched elements returned by the function are stored in a list.\nThe `match` argument should take values on either tag names or paths to specific tags.\nTry \n```python\n    tree.findall('featurename')\n```\nand \n```python\n    tree.findall('row/featurename')\n```\nWhat did you get?\n\nThe '*featurename*' tag is not the child or grandchild of the root element.\nIn order to get all the '*featurename*', \nwe should first figure out the path from the root to the '*featurename*' tag.\nBy looking at the original file or basing on what we learnt from the previous section, we know the path is\n```html\n    row/row/featurename\n```\nThus,", 
            "cell_type": "markdown", 
            "metadata": {}
        }, 
        {
            "source": "elements = tree.findall('row/row/featurename')\nelements", 
            "cell_type": "code", 
            "metadata": {
                "scrolled": true
            }, 
            "outputs": [], 
            "execution_count": null
        }, 
        {
            "source": "The above list should contain 50 Elements corresponding to '*featurename*'.\nAs you may notice, the items returned by <font color=\"blue\">findall()</font> are Element objects, each representing a node in the\nXML parse tree. \nWhat we want is the data stored in those objects.\nTo pull out the data, we can access the element properpties: tag, attrib and text.", 
            "cell_type": "markdown", 
            "metadata": {}
        }, 
        {
            "source": "featurename = [elem.text for elem in elements]\nfeaturename", 
            "cell_type": "code", 
            "metadata": {
                "scrolled": true
            }, 
            "outputs": [], 
            "execution_count": null
        }, 
        {
            "source": "You might wonder whether there is another way to extract the text stored in the '*featurename*' tag.\nIt might be possible that the structure of an XML file is quite complex (more complex that our example XML file) \nand it is not easy to figure out the path. \nThere are other ways to search for descendant elements, i.e., children, grandchildrens, \nand any element at any nesting level. \nUsing the same function, <font color = 'blue'>findall()</font>, we can construct an XPath argument to look for all\n'*featurename*' elements.", 
            "cell_type": "markdown", 
            "metadata": {}
        }, 
        {
            "source": "tree.findall('.//featurename')", 
            "cell_type": "code", 
            "metadata": {
                "scrolled": true
            }, 
            "outputs": [], 
            "execution_count": null
        }, 
        {
            "source": "It is very similar to the previous example, except for the two forward slashes at the beginning of the query.\nThe two forward slashes are short for <font color='orange'>/descendant-or-self::node()/</font>. \nHere <font color='orange'>.//featurename</font> selects any 'featurename' element in the XML document. \nSimilarly, we can extract the text with <font color='orange'>Element.text</font>.\n\nRemember that to visit the elements in the XML document in order, \nyou can use <font color='blue'>iter()</font> to create an iterator that iterates over all the ElementTree instances in a tree.\nWe have shown you how to explore the element hierarchy with this iteration fucntion.\nHere you are going to learn how to find specifc elements.\n[ElementTree's API](https://docs.python.org/2/library/xml.etree.elementtree.html#xml.etree.ElementTree.Element.findall)\nshows that <font color='blue'>iter()</font> function can take an argument <font color='blue'>tag</font>.\nIf the tag is specified, the iterator loops over all elements in the tree and returns \na list of elements having the specified tag.", 
            "cell_type": "markdown", 
            "metadata": {}
        }, 
        {
            "source": "featurename = [] \nfor elem in tree.iter(tag = 'featurename'):\n   featurename.append(elem.text) \nfeaturename", 
            "cell_type": "code", 
            "metadata": {
                "scrolled": true
            }, 
            "outputs": [], 
            "execution_count": null
        }, 
        {
            "source": "The code pulls out data from all elements with a tag equal to '*featurename*', and stores the text in a list.\nSimilarly, you can retrieve data from elements having the following tags: 'id', 'terminalname', 'nbbikes',\n'nbemptydoc', and 'uploaddate' as follows. Note that we only print out the first 10 records of the retrieved data.", 
            "cell_type": "markdown", 
            "metadata": {}
        }, 
        {
            "source": "id = [] \nfor elem in tree.iter(tag='id'):\n       id.append(elem.text) \nid[:10]", 
            "cell_type": "code", 
            "metadata": {}, 
            "outputs": [], 
            "execution_count": null
        }, 
        {
            "source": "terminalname = []\nfor elem in tree.iter(tag='terminalname'):\n       terminalname.append(elem.text) \nterminalname[:10]", 
            "cell_type": "code", 
            "metadata": {}, 
            "outputs": [], 
            "execution_count": null
        }, 
        {
            "source": "nbbikes = []\nfor elem in tree.iter(tag='nbbikes'):\n       nbbikes.append(elem.text)  \nnbbikes[:10]", 
            "cell_type": "code", 
            "metadata": {}, 
            "outputs": [], 
            "execution_count": null
        }, 
        {
            "source": "nbemptydoc  = []\nfor elem in tree.iter(tag='nbemptydoc'):\n       nbemptydoc.append(elem.text) \nnbemptydoc[:10]", 
            "cell_type": "code", 
            "metadata": {}, 
            "outputs": [], 
            "execution_count": null
        }, 
        {
            "source": "uploaddate = []\nfor elem in tree.iter(tag='uploaddate'):\n       uploaddate.append(elem.text)  \nuploaddate[:10]", 
            "cell_type": "code", 
            "metadata": {}, 
            "outputs": [], 
            "execution_count": null
        }, 
        {
            "source": "As mentioned in the introduction section, latitudes and longitudes\nare stored as attributes in 'coordinates' elements. \nExtracting them needs to access specific attributes that corresponds\nto latitude and longitude.\nRecall that attributes are dictionaries. \nTo extract a specific attribute value, you can use the \nsquare brackets along with the attribute name as the key to obtain\nits value.\nLet's first extract all the latitudes and longitudes and store them in two lists,\n\"lat\" and \"lon\" respectively.", 
            "cell_type": "markdown", 
            "metadata": {}
        }, 
        {
            "source": "lat = []\nlon = []\nfor elem in tree.iter(tag='coordinates'):\n    lat.append(elem.attrib['latitude'])\n    lon.append(elem.attrib['longitude'])\nprint (lat[0:10])\nprint (lon[0:10])", 
            "cell_type": "code", 
            "metadata": {}, 
            "outputs": [], 
            "execution_count": null
        }, 
        {
            "source": "The last step is to store the extracted data into Pandas DataFrame.\nThere are multiple ways of constructing a DataFrame object. \nHere you are going to generate a DataFrame by passing a Python dictionary to DataFrame's constructor\nand setting the index to IDs.", 
            "cell_type": "markdown", 
            "metadata": {}
        }, 
        {
            "source": "import pandas as pd \ndataDict = {}\ndataDict['Featurename'] = featurename\ndataDict['TerminalName'] = terminalname\ndataDict['NBBikes'] = nbbikes\ndataDict['NBEmptydoc'] = nbemptydoc\ndataDict['UploadDate'] = uploaddate\ndataDict['lat'] = lat\ndataDict['lon'] = lon\ndf = pd.DataFrame(dataDict, index = id)\ndf.index.name = 'ID'\ndf.head()", 
            "cell_type": "code", 
            "metadata": {}, 
            "outputs": [], 
            "execution_count": null
        }, 
        {
            "source": "Pandas DataFrame has automatically sorted the columns according the alphabetic order of column names. \nYou can change the order and make the dataframe look exactly the same as the one you got in Chapter 2. It can be easily done by specifying the value of the `columns` argument in the DataFrame constructor.\nAs a simple exercise, you are going to tidy up the dates, as we have done in Chapter 2.\n* * *", 
            "cell_type": "markdown", 
            "metadata": {}
        }, 
        {
            "source": "## 3. Summary\n\nIn this chapter we have shown you the process of extracting data from XML files with Python built-in libraries and briefly introduced two open source third-party libraries, i.e., lxml and Beautiful Soup. Together with the previous\nchapter, you have learnt how to extract data from CSV, JSON and XML files, \nthe three common machine-readable formats. \nBeing able to handle these formats with Python and related libraries is one of the must-have skills for a \ndata wrangler. \n* * *", 
            "cell_type": "markdown", 
            "metadata": {
                "collapsed": true
            }
        }, 
        {
            "source": "", 
            "cell_type": "code", 
            "metadata": {}, 
            "outputs": [], 
            "execution_count": null
        }
    ], 
    "metadata": {
        "kernelspec": {
            "display_name": "Python 3.5", 
            "name": "python3", 
            "language": "python"
        }, 
        "language_info": {
            "mimetype": "text/x-python", 
            "nbconvert_exporter": "python", 
            "version": "3.5.5", 
            "name": "python", 
            "pygments_lexer": "ipython3", 
            "file_extension": ".py", 
            "codemirror_mode": {
                "version": 3, 
                "name": "ipython"
            }
        }, 
        "name": "3. Parsing XML files.ipynb"
    }, 
    "nbformat": 4
}