{
  "nbformat": 4,
  "nbformat_minor": 0,
  "metadata": {
    "colab": {
      "name": "SIT742P08A-SciPyScikit.ipynb",
      "version": "0.3.2",
      "provenance": [],
      "toc_visible": true
    },
    "language_info": {
      "mimetype": "text/x-python",
      "nbconvert_exporter": "python",
      "version": "3.5.5",
      "name": "python",
      "pygments_lexer": "ipython3",
      "file_extension": ".py",
      "codemirror_mode": {
        "version": 3,
        "name": "ipython"
      }
    },
    "kernelspec": {
      "display_name": "Python 3.5",
      "name": "python3",
      "language": "python"
    }
  },
  "cells": [
    {
      "metadata": {
        "id": "70U7CIj7J8uF",
        "colab_type": "text"
      },
      "cell_type": "markdown",
      "source": [
        "# SIT742: Modern Data Science \n",
        "**(Week 08: Data Analytics (I))**\n",
        "\n",
        "---\n",
        "- Materials in this module include resources collected from various open-source online repositories.\n",
        "- You are free to use, change and distribute this package.\n",
        "- If you found any issue/bug for this document, please submit an issue at [tulip-lab/sit742](https://github.com/tulip-lab/sit742/issues)\n",
        "\n",
        "Prepared by **SIT742 Teaching Team**\n",
        "\n",
        "---\n",
        "\n",
        "\n",
        "## Session 8A - SciPy and Scikit-Learn\n",
        "\n",
        "**The purpose of this session is to illustrate**\n",
        "\n",
        "1. How to test installed Numpy and Scikit-Learn packages\n",
        "2. How to use scikit-lean to load datasets and examine their properties, getting ready for ML tasks.\n",
        "\n",
        "** References and additional reading and resources**\n",
        "- [Installing scikit-learn](http://scikit-learn.org/stable/install.html)\n",
        "- [Lectures on scientific computing with Python](https://github.com/jrjohansson/scientific-python-lectures)\n"
      ]
    },
    {
      "metadata": {
        "id": "f1Z7-1G6J8uL",
        "colab_type": "text"
      },
      "cell_type": "markdown",
      "source": [
        "##  Scipy: Scientific Computing Tools for Python\n",
        "\n",
        "<!--span style=\"color:#0b486b\">3. Scipy: Scientific Computing Tools for Python</span-->"
      ]
    },
    {
      "metadata": {
        "id": "XnJDSzuVJ8uP",
        "colab_type": "text"
      },
      "cell_type": "markdown",
      "source": [
        "[SciPy](https://www.scipy.org) (pronounced “Sigh Pie”) is a Python-based ecosystem of open-source software for mathematics, science, and engineering. In particular, the SciPy ecosystem these are some of the core packages:\n",
        "\n",
        "- Numpy: a base N-dimensional array package\n",
        "- Matplotlib: a package that allows you to create charts and plots from data.\n",
        "- Pandas: tools and data structures to organize and analyze your data.\n",
        "- SciPy library: a fundamental library for scientific computing such as optimization.\n",
        "\n",
        "All of these packages are pre-installed when you install the Anaconda. You can check the availibility and versions of above packages as follows:"
      ]
    },
    {
      "metadata": {
        "id": "u16dCGzEJ8uS",
        "colab_type": "code",
        "colab": {}
      },
      "cell_type": "code",
      "source": [
        "# scipy\n",
        "import scipy\n",
        "print('The scipy version is {}'.format(scipy.__version__))\n",
        "\n",
        "# numpy\n",
        "import numpy\n",
        "print(\"The numpy version is {}.\".format(numpy.__version__))\n",
        "\n",
        "# matplotlib\n",
        "import matplotlib\n",
        "print('The matplotlib version is {}'.format(matplotlib.__version__))\n",
        "\n",
        "# pandas\n",
        "import pandas\n",
        "print('The pandas version is {}'.format(pandas.__version__))"
      ],
      "execution_count": 0,
      "outputs": []
    },
    {
      "metadata": {
        "id": "eiWM9K-3J8ul",
        "colab_type": "text"
      },
      "cell_type": "markdown",
      "source": [
        "We now briefly go through these packages to know NumPy, Matplotlib and Pandas to read and write machine learning Python\n",
        "scripts."
      ]
    },
    {
      "metadata": {
        "id": "5Xx--pS1J8uo",
        "colab_type": "text"
      },
      "cell_type": "markdown",
      "source": [
        "## Numpy<!--3.1 Numpy-->"
      ]
    },
    {
      "metadata": {
        "id": "5ONjjO1kJ8ur",
        "colab_type": "text"
      },
      "cell_type": "markdown",
      "source": [
        "[Numpy](http://www.numpy.org/) is the core library for scientific computing in Python. It provides a high-performance multidimensional array object, and tools for working with these arrays. Numpy is a pre-built package included in Anaconda 3. You only need to import to use the package."
      ]
    },
    {
      "metadata": {
        "id": "zXksMPjqJ8uu",
        "colab_type": "text"
      },
      "cell_type": "markdown",
      "source": [
        "\n",
        "###  Arrays<!--3.1.1 Arrays-->\n",
        "A numpy array is a grid of values, all of the same type, and is indexed by a tuple of nonnegative integers. The number of dimensions is the <em>rank</em> of the array; the <em>shape</em> of an array is a tuple of integers giving the size of the array along each dimension.\n",
        "You can initialize numpy arrays from nested Python lists or use pre-defined functions to create arrays"
      ]
    },
    {
      "metadata": {
        "id": "5D0K1U4WJ8ux",
        "colab_type": "code",
        "colab": {}
      },
      "cell_type": "code",
      "source": [
        "import numpy as np\n",
        "\n",
        "\n",
        "a = np.array([1, 2, 3])   # Create a rank 1 array\n",
        "b = np.array([[1,2,3],[4,5,6]])    # Create a rank 2 array\n",
        "\n",
        "print(\"Arrays are created from nested Python lists\\n\")\n",
        "\n",
        "print(\"The data type of a is {}\".format(type(a)))          \n",
        "print(\"The shape of a is {}.\".format(a.shape))    \n",
        "\n",
        "print(\"The shape of a is {}.\".format(b.shape))               \n",
        "\n",
        "print(\"\\nArrays are created with pre-defined functions\\n\")\n",
        "\n",
        "c = np.zeros((3,2))   # Create an array of all zeros\n",
        "print(\"An all-zero array\\n\")\n",
        "print(c)           \n",
        "\n",
        "d = np.ones((3,2))    # Create an array of all ones\n",
        "print(\"\\nAn all ones array\\n\")\n",
        "print(d)\n",
        "\n",
        "e = np.full((2,2), 7)  # Create a constant array\n",
        "print(\"\\nA constant \\n\")\n",
        "print(e)\n",
        "\n",
        "f = np.eye(2)         # Create a 2x2 identity matrix\n",
        "print(\"\\nA 2x2 identity  array\\n\")\n",
        "print(f)      "
      ],
      "execution_count": 0,
      "outputs": []
    },
    {
      "metadata": {
        "id": "XkEaKvvJJ8vE",
        "colab_type": "text"
      },
      "cell_type": "markdown",
      "source": [
        "###  Array indexing<!--3.1.2  Array indexing-->\n",
        "Numpy offers several ways to index into arrays.\n",
        "\n",
        "<strong>Slicing:</strong>Numpy arrays can be sliced. Since arrays may be multidimensional, you must specify a slice for each dimension of the array:"
      ]
    },
    {
      "metadata": {
        "id": "DfQ_LSTiJ8vI",
        "colab_type": "code",
        "colab": {}
      },
      "cell_type": "code",
      "source": [
        "import numpy as np\n",
        "\n",
        "a = np.array([[1,2,3,4], [5,6,7,8], [9,10,11,12]])\n",
        "\n",
        "# Slice the subarray consisting of the first 2 rows and columns 1 and 2; \n",
        "b = a[:2, 1:3]\n",
        "\n",
        "# A slice of an array is a view into the same data, so modifying it\n",
        "# will modify the original array.\n",
        "\n",
        "print(a[0, 1])   \n",
        "b[0, 0] = 77     # b[0, 0] is the same piece of data as a[0, 1]\n",
        "print(a[0, 1])   "
      ],
      "execution_count": 0,
      "outputs": []
    },
    {
      "metadata": {
        "id": "ejo6pSt-J8vT",
        "colab_type": "text"
      },
      "cell_type": "markdown",
      "source": [
        "You can also mix integer indexing with slice indexing to  yield an array of lower rank than the original array."
      ]
    },
    {
      "metadata": {
        "id": "dRJFY0fnJ8vW",
        "colab_type": "code",
        "colab": {}
      },
      "cell_type": "code",
      "source": [
        "row_r1 = a[1, :]    # Rank 1 view of the second row of a\n",
        "print(row_r1, row_r1.shape) \n",
        "\n",
        "# We can make the same distinction when accessing columns of an array:\n",
        "col_r1 = a[:, 1]\n",
        "print(col_r1, col_r1.shape)  \n"
      ],
      "execution_count": 0,
      "outputs": []
    },
    {
      "metadata": {
        "id": "A3ux3XQlJ8vh",
        "colab_type": "text"
      },
      "cell_type": "markdown",
      "source": [
        "<strong>Integer array indexing:</strong> When you index into numpy arrays using slicing, the resulting array view will always be a subarray of the original array. In contrast, integer array indexing allows you to construct arbitrary arrays using the data from another array. Here is an example:"
      ]
    },
    {
      "metadata": {
        "id": "or7evsDyJ8vj",
        "colab_type": "code",
        "colab": {}
      },
      "cell_type": "code",
      "source": [
        "print(a) \n",
        "\n",
        "\n",
        "# The returned array will have shape (3,) by choosing elements \n",
        "# at [0,1],[1,1], and [2,0]\n",
        "print(a[[0, 1, 2], [0, 1, 0]])\n",
        "\n",
        "# The above example of integer array indexing is equivalent to this:\n",
        "print(np.array([a[0, 0], a[1, 1], a[2, 0]]))\n",
        "\n",
        "# When using integer array indexing, you can reuse the same\n",
        "# element from the source array:\n",
        "print(a[[0, 0], [1, 1]])  # Prints \"[2 2]\"\n",
        "\n",
        "# Equivalent to the previous integer array indexing example\n",
        "print(np.array([a[0, 1], a[0, 1]])) "
      ],
      "execution_count": 0,
      "outputs": []
    },
    {
      "metadata": {
        "id": "ZhCo6jIjJ8vw",
        "colab_type": "text"
      },
      "cell_type": "markdown",
      "source": [
        "<strong>Boolean array indexing:</strong> Boolean array indexing lets you pick out arbitrary elements of an array. Frequently this type of indexing is used to select the elements of an array that satisfy some condition. Here is an example:"
      ]
    },
    {
      "metadata": {
        "id": "0rxZn01NJ8vz",
        "colab_type": "code",
        "colab": {}
      },
      "cell_type": "code",
      "source": [
        "# Find the elements of a that are bigger than 2;this returns a \n",
        "# numpy array of Booleans of the same shape as a, where each \n",
        "# slot of bool_idx tells whether that element of a is > 5.\n",
        "\n",
        "bool_idx = (a > 5)  \n",
        "print(bool_idx)     \n",
        "\n",
        "# We use boolean array indexing to construct a rank 1 array consisting \n",
        "# of the elements of a corresponding to the True values of bool_idx\n",
        "print(a[bool_idx])  \n",
        "\n",
        "# We can do all of the above in a single concise statement:\n",
        "print(a[a > 5])"
      ],
      "execution_count": 0,
      "outputs": []
    },
    {
      "metadata": {
        "id": "QKgJSaiAJ8wA",
        "colab_type": "text"
      },
      "cell_type": "markdown",
      "source": [
        "You can refer to [indexing documentation](https://docs.scipy.org/doc/numpy/reference/arrays.indexing.html) for further details about numpy array indexing."
      ]
    },
    {
      "metadata": {
        "id": "MFX7l512J8wD",
        "colab_type": "text"
      },
      "cell_type": "markdown",
      "source": [
        "### Array math operations <!--3.1.3  Array math operations-->\n",
        "\n",
        "Basic mathematical functions operate elementwise on arrays, and are available both as operator overloads and as functions in the numpy module:\n",
        "\n"
      ]
    },
    {
      "metadata": {
        "id": "brt2rEwRJ8wG",
        "colab_type": "code",
        "colab": {}
      },
      "cell_type": "code",
      "source": [
        "x = np.array([[1,2],[3,4]], dtype=np.float64)\n",
        "y = np.array([[5,6],[7,8]], dtype=np.float64)\n",
        "\n",
        "print(\"Elementwise sum; both produce the array\")\n",
        "print(x + y)\n",
        "print(np.add(x, y))\n",
        "\n",
        "print(\"Elementwise difference; both produce the array\")\n",
        "print(x - y)\n",
        "print(np.subtract(x, y))\n",
        "\n",
        "print(\"Elementwise product; both produce the array\")\n",
        "print(x * y)\n",
        "print(np.multiply(x, y))\n",
        "\n",
        "print(\"Elementwise division; both produce the array\")\n",
        "print(x / y)\n",
        "print(np.divide(x, y))\n",
        "\n",
        "print(\"Elementwise square root; produces the array\")\n",
        "print(np.sqrt(x))"
      ],
      "execution_count": 0,
      "outputs": []
    },
    {
      "metadata": {
        "id": "g9wvJdJDJ8wZ",
        "colab_type": "text"
      },
      "cell_type": "markdown",
      "source": [
        "To execute matrix multiplication,  We instead use the <kbd>dot</kbd> function to compute inner products of vectors, to multiply a vector by a matrix, and to multiply matrices. <kbd>dot</kbd> is available both as a function in the numpy module and as an instance method of array objects: "
      ]
    },
    {
      "metadata": {
        "scrolled": true,
        "id": "SobaTEGoJ8wc",
        "colab_type": "code",
        "colab": {}
      },
      "cell_type": "code",
      "source": [
        "v = np.array([9,10])\n",
        "w = np.array([11, 12])\n",
        "\n",
        "# Inner product of vectors; both produce 219\n",
        "print(v.dot(w))\n",
        "print(np.dot(v, w))\n",
        "\n",
        "# Matrix / vector product; both produce the rank 1 array [29 67]\n",
        "print(x.dot(v))\n",
        "\n",
        "# print(np.dot(x, v))\n",
        "\n",
        "# Matrix / matrix product; both produce the rank 2 array\n",
        "print(x.dot(y))\n",
        "#print(np.dot(x, y))"
      ],
      "execution_count": 0,
      "outputs": []
    },
    {
      "metadata": {
        "id": "-jtwbO7oJ8wt",
        "colab_type": "text"
      },
      "cell_type": "markdown",
      "source": [
        "Numpy provides many useful functions for performing computations on arrays; Some useful function are <kbd>sum</kbd>, transpose <kbd>T</kbd>. The full list of mathematical functions provided by numpy in [the documentation](https://docs.scipy.org/doc/numpy/reference/routines.math.html). More functions for manipulating arrays can be found in [the documentation](https://docs.scipy.org/doc/numpy/reference/routines.array-manipulation.html)."
      ]
    },
    {
      "metadata": {
        "scrolled": true,
        "id": "fbWPKUrwJ8wv",
        "colab_type": "code",
        "colab": {}
      },
      "cell_type": "code",
      "source": [
        "x = np.array([[1,2],[3,4]])\n",
        "print(np.sum(x))  # Compute sum of all elements\n",
        "print(np.sum(x, axis=0))  # Compute sum of each column\n",
        "print(np.sum(x, axis=1))  # Compute sum of each row\n",
        "\n",
        "print(x.T)  "
      ],
      "execution_count": 0,
      "outputs": []
    },
    {
      "metadata": {
        "id": "D-1Zs6KYJ8w5",
        "colab_type": "text"
      },
      "cell_type": "markdown",
      "source": [
        "### Broadcasting <!--3.1.4 Broadcasting-->\n",
        "Broadcasting is a powerful mechanism that allows numpy to work with arrays of different shapes when performing arithmetic operations. Frequently we have a smaller array and a larger array, and we want to use the smaller array multiple times to perform some operation on the larger array.\n",
        "For example, suppose that we want to add a constant vector to each row of a matrix. We could do it like this:\n",
        "\n"
      ]
    },
    {
      "metadata": {
        "scrolled": true,
        "id": "kuU-mXuHJ8w7",
        "colab_type": "code",
        "colab": {}
      },
      "cell_type": "code",
      "source": [
        "x = np.array([[1,2,3], [4,5,6], [7,8,9], [10, 11, 12]])\n",
        "v = np.array([1, 0, 1])\n",
        "\n",
        "y=x+v\n",
        "print(y)"
      ],
      "execution_count": 0,
      "outputs": []
    },
    {
      "metadata": {
        "id": "3Fww4C_BJ8xK",
        "colab_type": "text"
      },
      "cell_type": "markdown",
      "source": [
        "Broadcasting two arrays together follows these rules:\n",
        "\n",
        "1. If the arrays do not have the same rank, prepend the shape of the lower rank array with 1s until both shapes have the same length.\n",
        "2. The two arrays are said to be compatible in a dimension if they have the same size in the dimension, or if one of the arrays has size 1 in that dimension.\n",
        "3. The arrays can be broadcast together if they are compatible in all dimensions.\n",
        "4. After broadcasting, each array behaves as if it had shape equal to the elementwise maximum of shapes of the two input arrays.\n",
        "5. In any dimension where one array had size 1 and the other array had size greater than 1, the first array behaves as if it were copied along that dimension\n",
        "\n",
        "More explanation for broadcasting arrays can be found in [the documentation](https://docs.scipy.org/doc/numpy/user/basics.broadcasting.html)."
      ]
    },
    {
      "metadata": {
        "id": "8hXIFhXyJ8xP",
        "colab_type": "text"
      },
      "cell_type": "markdown",
      "source": [
        "### Numpy Excercises"
      ]
    },
    {
      "metadata": {
        "id": "gUAfXBcdJ8xU",
        "colab_type": "text"
      },
      "cell_type": "markdown",
      "source": [
        "**<span style=\"color:red\"> Exercise 1: </span>** : *<span style=\"color:#0b486b\"> Create a vector with values ranging from 10 to 20 (inclusive) then reverse that vector (the first element becomes the last)  </span>*.\n"
      ]
    },
    {
      "metadata": {
        "id": "VKur1AuOJ8xX",
        "colab_type": "code",
        "colab": {}
      },
      "cell_type": "code",
      "source": [
        "# enter your own codes here\n"
      ],
      "execution_count": 0,
      "outputs": []
    },
    {
      "metadata": {
        "id": "j9gP49tVJ8xf",
        "colab_type": "text"
      },
      "cell_type": "markdown",
      "source": [
        "<details><summary><font color=\"blue\"><b>Click here for solutions to exercise</b></font></summary>\n",
        "```\n",
        "import numpy as np\n",
        "x = np.arange(10,50) \n",
        "print(x)  \n",
        "x = np.arange(50) \n",
        "x = x[::-1] \n",
        "print(x)\n",
        "```"
      ]
    },
    {
      "metadata": {
        "id": "kcoBNHymJ8xh",
        "colab_type": "text"
      },
      "cell_type": "markdown",
      "source": [
        "**<span style=\"color:red\"> Exercise 2: </span>** : *<span style=\"color:#0b486b\"> Create random vector of size 10, print the maximum value and its index, and replace that value by 0  </span>*.\n",
        "Hint: Using *max* and *argmax* functions"
      ]
    },
    {
      "metadata": {
        "id": "nc6s-M1lJ8xj",
        "colab_type": "code",
        "colab": {}
      },
      "cell_type": "code",
      "source": [
        "# enter your own codes here\n"
      ],
      "execution_count": 0,
      "outputs": []
    },
    {
      "metadata": {
        "id": "nmMfHls-J8xs",
        "colab_type": "text"
      },
      "cell_type": "markdown",
      "source": [
        "<details><summary><font color=\"blue\"><b>Click here for solutions to exercise</b></font></summary>\n",
        "```\n",
        "x = np.random.random(10) \n",
        "print(x.max()) \n",
        "print(x.argmax()) \n",
        "x[x.argmax()] = 0 \n",
        "print(x) \n",
        "```"
      ]
    },
    {
      "metadata": {
        "id": "UYaFlYM_J8xv",
        "colab_type": "text"
      },
      "cell_type": "markdown",
      "source": [
        "**<span style=\"color:red\"> Exercise 3: </span>** : *<span style=\"color:#0b486b\"> Given two vectors: ages and heights as follows:   </span>*"
      ]
    },
    {
      "metadata": {
        "id": "C_XZsnhOJ8xx",
        "colab_type": "code",
        "colab": {}
      },
      "cell_type": "code",
      "source": [
        "ages = np.random.randint(low=20, high=60, size=10)\n",
        "heights = np.random.randint(low=150, high=200, size=10)\n",
        "print(ages)\n",
        "print(heights)"
      ],
      "execution_count": 0,
      "outputs": []
    },
    {
      "metadata": {
        "id": "7-UzgDreJ8x_",
        "colab_type": "text"
      },
      "cell_type": "markdown",
      "source": [
        "*<span style=\"color:#0b486b\"> Order(ascendingly) the people according to their age and print their corresponding heights. </span>* Hints: using *argsort* function."
      ]
    },
    {
      "metadata": {
        "id": "VzGT1tPCJ8yC",
        "colab_type": "code",
        "colab": {}
      },
      "cell_type": "code",
      "source": [
        "# enter your own codes here\n"
      ],
      "execution_count": 0,
      "outputs": []
    },
    {
      "metadata": {
        "id": "zkZAV75iJ8yK",
        "colab_type": "text"
      },
      "cell_type": "markdown",
      "source": [
        "<details><summary><font color=\"blue\"><b>Click here for solutions to exercise</b></font></summary>\n",
        "```\n",
        "ages = np.random.randint(low=20, high=60, size=10)\n",
        "heights = np.random.randint(low=150, high=200, size=10)\n",
        "print(ages)\n",
        "print(heights)\n",
        "```"
      ]
    },
    {
      "metadata": {
        "id": "K6_XWDTwJ8yR",
        "colab_type": "text"
      },
      "cell_type": "markdown",
      "source": [
        "## Matplotlib <!--3.2 Matplotlib-->"
      ]
    },
    {
      "metadata": {
        "id": "R2VdcrCEJ8yU",
        "colab_type": "text"
      },
      "cell_type": "markdown",
      "source": [
        "Matplotlib can be used for creating plots and charts. The library is generally used as follows:\n",
        "- Call a plotting function with some data (e.g. .plot()).\n",
        "- Call many functions to setup the properties of the plot (e.g. labels and colors).\n",
        "- Make the plot visible (e.g. .show()).\n",
        "\n",
        "You can create a simple line plot from one dimensional data as follows:"
      ]
    },
    {
      "metadata": {
        "id": "X-gMyXbdJ8yX",
        "colab_type": "code",
        "colab": {}
      },
      "cell_type": "code",
      "source": [
        "# basic line plot\n",
        "import matplotlib.pyplot as plt\n",
        "import numpy\n",
        "myarray = numpy.array([1, 2, 3])\n",
        "plt.plot(myarray)\n",
        "plt.xlabel('X axis')\n",
        "plt.ylabel('Y axis')\n",
        "plt.show()"
      ],
      "execution_count": 0,
      "outputs": []
    },
    {
      "metadata": {
        "id": "ZxuiUelRJ8yn",
        "colab_type": "text"
      },
      "cell_type": "markdown",
      "source": [
        "You also can creat a scatter plot from two dimensional data."
      ]
    },
    {
      "metadata": {
        "id": "gTr6EelgJ8yt",
        "colab_type": "code",
        "colab": {}
      },
      "cell_type": "code",
      "source": [
        "# basic scatter plot\n",
        "import matplotlib.pyplot as plt\n",
        "import numpy\n",
        "x = numpy.array([1, 2, 3])\n",
        "y = numpy.array([2, 4, 6])\n",
        "plt.scatter(x,y)\n",
        "plt.xlabel('X axis')\n",
        "plt.ylabel('Y axis')\n",
        "plt.show()"
      ],
      "execution_count": 0,
      "outputs": []
    },
    {
      "metadata": {
        "id": "wUCwjlBVJ8y5",
        "colab_type": "text"
      },
      "cell_type": "markdown",
      "source": [
        "There are many more plot types and many more properties that can be set on a plot. See [matplotlib for beginner](http://matplotlib.org/users/beginner.html) and [examples](https://matplotlib.org/examples/index.html) to learn more about the Matplotlib API."
      ]
    },
    {
      "metadata": {
        "id": "xYUYYUC3J8y8",
        "colab_type": "text"
      },
      "cell_type": "markdown",
      "source": [
        "### Matplotlib Excercises"
      ]
    },
    {
      "metadata": {
        "id": "qBoXoTdQJ8y_",
        "colab_type": "text"
      },
      "cell_type": "markdown",
      "source": [
        "**<span style=\"color:red\"> Exercise 1: </span>** : *<span style=\"color:#0b486b\"> Create a plot of  [sigmoid function](https://en.wikipedia.org/wiki/Sigmoid_function) on the interval  [−6,6]  using 256 points. Remember to label the axes! In the following code, we give you the code for sigmoid function.\n",
        "</span>*. Hint: using the *linspace* function in numpy to create array values for x axis.\n"
      ]
    },
    {
      "metadata": {
        "scrolled": true,
        "id": "0GP1UIEsJ8zC",
        "colab_type": "code",
        "colab": {}
      },
      "cell_type": "code",
      "source": [
        "import numpy as np\n",
        "import matplotlib.pyplot as plt\n",
        "\n",
        "# def sigmoid(x,a,b):\n",
        "# # sigmoid function with parameters a = center; b = width\n",
        "#     return 1/(1+np.exp(-(x-a)/b))\n",
        "\n",
        "def sigmoid(x):\n",
        "    return 1/(1+np.exp(-x))\n"
      ],
      "execution_count": 0,
      "outputs": []
    },
    {
      "metadata": {
        "id": "P2rq7emCJ8zK",
        "colab_type": "code",
        "colab": {}
      },
      "cell_type": "code",
      "source": [
        "# Enter you code here           \n"
      ],
      "execution_count": 0,
      "outputs": []
    },
    {
      "metadata": {
        "id": "IMl0RO0oJ8zU",
        "colab_type": "text"
      },
      "cell_type": "markdown",
      "source": [
        "<details><summary><font color=\"blue\"><b>Click here for solutions to exercise</b></font></summary>\n",
        "```\n",
        "x = np.linspace(-6,6,256) \n",
        "y = sigmoid(x)  \n",
        "plt.plot(x,y) \n",
        "plt.xlabel('X') \n",
        "plt.ylabel('Y') \n",
        "plt.show() \n",
        "```"
      ]
    },
    {
      "metadata": {
        "id": "BK8YynnNJ8zY",
        "colab_type": "text"
      },
      "cell_type": "markdown",
      "source": [
        "## Pandas <!--3.3 Pandas-->"
      ]
    },
    {
      "metadata": {
        "id": "l25iTz3dJ8zb",
        "colab_type": "text"
      },
      "cell_type": "markdown",
      "source": [
        "Pandas provides data structures and functionality to quickly manipulate and analyze data. The\n",
        "key to understanding Pandas for machine learning is understanding the **Series** and **DataFrame**\n",
        "data structures."
      ]
    },
    {
      "metadata": {
        "id": "PoKPi0MDJ8ze",
        "colab_type": "text"
      },
      "cell_type": "markdown",
      "source": [
        "### Series <!--3.3.1 Series-->\n",
        "A series is a one dimensional array of data where the rows are labeled using a time axis. You can access the data in a series like a NumPy array or like a dictionary.\n"
      ]
    },
    {
      "metadata": {
        "id": "M91zOlmiJ8zh",
        "colab_type": "code",
        "colab": {}
      },
      "cell_type": "code",
      "source": [
        "# series\n",
        "import numpy\n",
        "import pandas\n",
        "myarray = numpy.array([1, 2, 3])\n",
        "rownames = ['a', 'b', 'c']\n",
        "myseries = pandas.Series(myarray, index=rownames)\n",
        "print(myseries)\n",
        "\n",
        "print(myseries[0])\n",
        "print(myseries['a'])"
      ],
      "execution_count": 0,
      "outputs": []
    },
    {
      "metadata": {
        "id": "Jje_CQKFJ8zs",
        "colab_type": "text"
      },
      "cell_type": "markdown",
      "source": [
        "### DataFrame <!--3.3.2 DataFrame-->\n",
        "A data frame is a multi-dimensional array where the rows and the columns can be labeled.A data frame can be indexed using column names."
      ]
    },
    {
      "metadata": {
        "id": "V0u4dcgiJ8zu",
        "colab_type": "code",
        "colab": {}
      },
      "cell_type": "code",
      "source": [
        "# dataframe\n",
        "import numpy\n",
        "import pandas\n",
        "myarray = numpy.array([[1, 2, 3], [4, 5, 6]])\n",
        "rownames = ['a', 'b']\n",
        "colnames = ['one', 'two', 'three']\n",
        "mydataframe = pandas.DataFrame(myarray, index=rownames, columns=colnames)\n",
        "print(mydataframe)\n",
        "\n",
        "print(\"method 1:\")\n",
        "print(\"one column:\\n%s\" % mydataframe['one'])\n",
        "\n",
        "print(\"method 2:\")\n",
        "print(\"one column:\\n%s\" % mydataframe.one)"
      ],
      "execution_count": 0,
      "outputs": []
    },
    {
      "metadata": {
        "id": "RkB0HnCnJ8z4",
        "colab_type": "text"
      },
      "cell_type": "markdown",
      "source": [
        "Examples for manipulation with data using can be found at [Pandas cookbook](http://pandas.pydata.org/pandas-docs/stable/cookbook.html) which provides many short and nice examples."
      ]
    },
    {
      "metadata": {
        "id": "5BvbbikMJ8z7",
        "colab_type": "text"
      },
      "cell_type": "markdown",
      "source": [
        "## Scipy <!--3.4 Scipy-->"
      ]
    },
    {
      "metadata": {
        "id": "Mw63sJ7jJ8z9",
        "colab_type": "text"
      },
      "cell_type": "markdown",
      "source": [
        "Optimization (finding minima or maxima of a function) is a package which is usual used in machine learning. Here we will only look at a few very simple cases.\n",
        "\n",
        "To use the optimization module in scipy first include the optimize module:"
      ]
    },
    {
      "metadata": {
        "id": "s3PvRhUoJ80A",
        "colab_type": "code",
        "colab": {}
      },
      "cell_type": "code",
      "source": [
        "from scipy import optimize\n"
      ],
      "execution_count": 0,
      "outputs": []
    },
    {
      "metadata": {
        "id": "EJyONTi-J80N",
        "colab_type": "text"
      },
      "cell_type": "markdown",
      "source": [
        "Let's first look at how to find the minima of a simple function of a single variable:"
      ]
    },
    {
      "metadata": {
        "id": "pXm49wqDJ80Q",
        "colab_type": "code",
        "colab": {}
      },
      "cell_type": "code",
      "source": [
        "def f(x):\n",
        "    return 4*x**3 + (x-2)**2 + x**4"
      ],
      "execution_count": 0,
      "outputs": []
    },
    {
      "metadata": {
        "id": "um4jO2VtJ80b",
        "colab_type": "text"
      },
      "cell_type": "markdown",
      "source": [
        "which can be plotted as "
      ]
    },
    {
      "metadata": {
        "id": "0Mq8UO-QJ80t",
        "colab_type": "code",
        "colab": {}
      },
      "cell_type": "code",
      "source": [
        "import numpy as np\n",
        "import matplotlib.pyplot as plt\n",
        "\n",
        "fig, ax  = plt.subplots()\n",
        "x = np.linspace(-5, 3, 100)\n",
        "ax.plot(x, f(x))\n",
        "plt.show()\n"
      ],
      "execution_count": 0,
      "outputs": []
    },
    {
      "metadata": {
        "id": "L0SDB1j4J807",
        "colab_type": "text"
      },
      "cell_type": "markdown",
      "source": [
        "We can use the *fmin_bfgs* function to find the minima of a function:\n",
        "\n"
      ]
    },
    {
      "metadata": {
        "id": "YzLOdfc-J80_",
        "colab_type": "code",
        "colab": {}
      },
      "cell_type": "code",
      "source": [
        "x_min = optimize.fmin_bfgs(f, -2)\n",
        "print(x_min )"
      ],
      "execution_count": 0,
      "outputs": []
    },
    {
      "metadata": {
        "id": "9mnKwVS9J81M",
        "colab_type": "text"
      },
      "cell_type": "markdown",
      "source": [
        "For a more detailed introduction to optimization with SciPy see: [Scipy Optimization](http://scipy-lectures.github.com/advanced/mathematical_optimization/index.html)"
      ]
    },
    {
      "metadata": {
        "id": "n0zaOb_0J81Q",
        "colab_type": "text"
      },
      "cell_type": "markdown",
      "source": [
        "---\n",
        "# Install and Get Started with Scikit-Learn<!--span style=\"color:#0b486b\">4. Install and Get Started with Scikit-Learn</span-->"
      ]
    },
    {
      "metadata": {
        "id": "Ck11FLXcJ81W",
        "colab_type": "code",
        "colab": {}
      },
      "cell_type": "code",
      "source": [
        "import sklearn\n",
        "\n",
        "print(\"The scikit-learn version is {}.\".format(sklearn.__version__))\n"
      ],
      "execution_count": 0,
      "outputs": []
    },
    {
      "metadata": {
        "id": "JgcMnIL0J81m",
        "colab_type": "text"
      },
      "cell_type": "markdown",
      "source": [
        "## A brief introduction Scikit-Learn<!--4.3 A brief introduction Scikit-Learn-->\n",
        "\n",
        "\n",
        "[Scikit-Learn](http://github.com/scikit-learn/scikit-learn) is a Python package designed to give access to **well-known** machine learning algorithms within Python code, through a **clean, well-thought-out API**. It has been built by hundreds of contributors from around the world, and is used across industry and academia.\n",
        "\n",
        "Scikit-Learn is built upon Python's [NumPy (Numerical Python)](http://numpy.org) and [SciPy (Scientific Python)](http://scipy.org) libraries, which enable efficient in-core numerical and scientific computation within Python. As such, scikit-learn is not specifically designed for extremely large datasets, though there is [some works](https://github.com/ogrisel/parallel_ml_tutorial) in this area.\n",
        "\n",
        "###  Dataset in Scikit-learn <!--span style=\"color:#0b486b\">Dataset in Scikit-learn</span-->\n",
        "\n",
        "Machine learning is about creating models from data: for that reason, we'll start by\n",
        "discussing how data can be represented in order to be understood by the computer.  Along\n",
        "with this, we'll build on our matplotlib examples from the previous section and show some\n",
        "examples of how to visualize data.\n",
        "\n",
        "Most machine learning algorithms implemented in scikit-learn expect data to be stored in a\n",
        "**two-dimensional array or matrix**.  The arrays can be\n",
        "either ``numpy`` arrays, or in some cases ``scipy.sparse`` matrices.\n",
        "The size of the array is expected to be `[n_samples, n_features]`\n",
        "\n",
        "- **n_samples:**   The number of samples: each sample is an item to process (e.g. classify).\n",
        "  A sample can be a document, a picture, a sound, a video, an astronomical object,\n",
        "  a row in database or CSV file,\n",
        "  or whatever you can describe with a fixed set of quantitative traits.\n",
        "- **n_features:**  The number of features or distinct traits that can be used to describe each\n",
        "  item in a quantitative manner.  Features are generally real-valued, but may be boolean or\n",
        "  discrete-valued in some cases.\n",
        "\n",
        "The number of features must be fixed in advance. However it can be very high dimensional\n",
        "(e.g. millions of features) with most of them being zeros for a given sample. This is a case\n",
        "where `scipy.sparse` matrices can be useful, in that they are\n",
        "much more memory-efficient than numpy arrays.\n",
        "\n",
        "Scikit-Learn package include several datasets that you can load and start playing with them. You can consult with the documentation for details of the provided datasets. "
      ]
    },
    {
      "metadata": {
        "id": "vkFLzOa7J81o",
        "colab_type": "text"
      },
      "cell_type": "markdown",
      "source": [
        "---\n",
        "**For example, let's look at the [iris dataset.](http://scikit-learn.org/stable/auto_examples/datasets/plot_iris_dataset.html) whose description and historical context can further be found [here](https://en.wikipedia.org/wiki/Iris_flower_data_set)**\n",
        "\n",
        "*<span style=\"color:#0b486b\">First, we use the command `from sklearn import datasets` to import existing datasets which have been prepared in advance from scikit-learn package as well its loading utilities. </span>*"
      ]
    },
    {
      "metadata": {
        "id": "e-fKnkYjJ81q",
        "colab_type": "code",
        "colab": {}
      },
      "cell_type": "code",
      "source": [
        "from sklearn import datasets"
      ],
      "execution_count": 0,
      "outputs": []
    },
    {
      "metadata": {
        "id": "zBBzDYDWJ81y",
        "colab_type": "text"
      },
      "cell_type": "markdown",
      "source": [
        "*<span style=\"color:#0b486b\"> The following commands then load the iris dataset, examine its structure, description, data and so forth. You are highly encouraged to spend time to get familiar with the syntax and properties of the data, such as examining the values of 'target_names', 'data', etc. </span>*"
      ]
    },
    {
      "metadata": {
        "id": "ktfjYCZaJ811",
        "colab_type": "code",
        "colab": {}
      },
      "cell_type": "code",
      "source": [
        "# load iris dataset\n",
        "iris = datasets.load_iris()\n",
        "\n",
        "# examine its keys\n",
        "iris.keys()"
      ],
      "execution_count": 0,
      "outputs": []
    },
    {
      "metadata": {
        "id": "auBns4-VJ82A",
        "colab_type": "code",
        "colab": {}
      },
      "cell_type": "code",
      "source": [
        "# print out its description\n",
        "print(iris['DESCR'])"
      ],
      "execution_count": 0,
      "outputs": []
    },
    {
      "metadata": {
        "id": "joiiM2nlJ82J",
        "colab_type": "code",
        "colab": {}
      },
      "cell_type": "code",
      "source": [
        "X = iris['data']\n",
        "X.shape"
      ],
      "execution_count": 0,
      "outputs": []
    },
    {
      "metadata": {
        "id": "qcsGPxAKJ82d",
        "colab_type": "text"
      },
      "cell_type": "markdown",
      "source": [
        "### Excercises"
      ]
    },
    {
      "metadata": {
        "id": "gScnxXiSJ82g",
        "colab_type": "text"
      },
      "cell_type": "markdown",
      "source": [
        "**<span style=\"color:red\"> Exercise 1: </span>** : *<span style=\"color:#0b486b\"> The the following sandbox cell, or create your own, to explore and build your understanding  </span>*."
      ]
    },
    {
      "metadata": {
        "id": "S3eTNpXtJ82i",
        "colab_type": "code",
        "colab": {}
      },
      "cell_type": "code",
      "source": [
        "# sand box cell -- enter your various commands here to explore and build your understanding,\n",
        "# e.g., try \"print(iris.target_names)\"\n"
      ],
      "execution_count": 0,
      "outputs": []
    },
    {
      "metadata": {
        "id": "KGPK0G7pJ82p",
        "colab_type": "text"
      },
      "cell_type": "markdown",
      "source": [
        "<details><summary><font color=\"blue\"><b>Click here for solutions to exercise</b></font></summary>\n",
        "```\n",
        "# sand box cell -- enter your various commands here to explore and build your understanding,\n",
        "# e.g., try \"print(iris.target_names)\"\n",
        "print(iris.target_names)\n",
        "\n",
        "print(iris.feature_names)\n",
        "\n",
        "print(iris.target)\n",
        "\n",
        "print(iris.data[:5,:])\n",
        "```"
      ]
    },
    {
      "metadata": {
        "id": "bm4LICBiJ82s",
        "colab_type": "text"
      },
      "cell_type": "markdown",
      "source": [
        "**<span style=\"color:red\"> Exercise 2: </span>** : *<span style=\"color:#0b486b\"> The documentation from scikit-learn [here](http://scikit-learn.org/stable/datasets/index.html) describes several other avaiable datasets. Write your own codes to load and examine the digits recognition dataset with the load_digits() command  </span>*."
      ]
    },
    {
      "metadata": {
        "id": "EHp_Rny7J82x",
        "colab_type": "code",
        "colab": {}
      },
      "cell_type": "code",
      "source": [
        "# enter your own codes here\n"
      ],
      "execution_count": 0,
      "outputs": []
    },
    {
      "metadata": {
        "id": "vHvd8CobJ823",
        "colab_type": "text"
      },
      "cell_type": "markdown",
      "source": [
        "<details><summary><font color=\"blue\"><b>Click here for solutions to exercise</b></font></summary>\n",
        "```\n",
        "# enter your own codes here\n",
        "# load digits dataset\n",
        "from sklearn import datasets\n",
        "digits = datasets.load_digits()\n",
        "\n",
        "# examine its keys\n",
        "print(digits.keys())\n",
        "\n",
        "print(digits['DESCR'])\n",
        "\n",
        "X = digits['data']\n",
        "print(X.shape)\n",
        "```"
      ]
    },
    {
      "metadata": {
        "id": "ZC51IWGIJ825",
        "colab_type": "text"
      },
      "cell_type": "markdown",
      "source": [
        "## Further reading <!--4.4 Further reading-->\n",
        "* More tutorials, videos on machine learning with scikit-learn can be found at [Introduction to machine learning with scikit-learn](https://github.com/justmarkham/scikit-learn-videos).\n",
        "\n",
        "* Short and concise introduction to Python 3 is introduced in the [Python For Data Science Cheat Sheet For Beginners](https://www.datacamp.com/community/data-science-cheatsheets)\n"
      ]
    }
  ]
}