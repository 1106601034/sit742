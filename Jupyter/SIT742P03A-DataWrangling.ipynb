{
  "nbformat": 4,
  "nbformat_minor": 0,
  "metadata": {
    "colab": {
      "name": "SIT742P03A-DataWrangling.ipynb",
      "version": "0.3.2",
      "provenance": [],
      "collapsed_sections": [
        "s5P7FONd_3CR",
        "5kjxc5gJ_3E-"
      ]
    },
    "kernelspec": {
      "display_name": "Python 3",
      "language": "python",
      "name": "python3"
    }
  },
  "cells": [
    {
      "metadata": {
        "id": "kbeZa7WS_2-s",
        "colab_type": "text"
      },
      "cell_type": "markdown",
      "source": [
        "# SIT742: Modern Data Science \n",
        "**(Week 03: Data Wrangling)**\n",
        "\n",
        "---\n",
        "- Materials in this module include resources collected from various open-source online repositories.\n",
        "- You are free to use, change and distribute this package.\n",
        "- If you found any issue/bug for this document, please submit an issue at [tulip-lab/sit742](https://github.com/tulip-lab/sit742/issues)\n",
        "\n",
        "Prepared by **SIT742 Teaching Team**\n",
        "\n",
        "---\n",
        "\n",
        "# Session 3A - Data Wrangling with Pandas \n",
        "\n",
        "## Table of Content\n",
        "\n",
        "* Part 1. Scraping data from the web\n",
        "* Part 2. States and Territories of Australia\n",
        "* Part 3. Parsing XML files with BeautifulSoup\n",
        "\n",
        "\n",
        "\n",
        "---"
      ]
    },
    {
      "metadata": {
        "id": "rdDCBCLn_2-1",
        "colab_type": "text"
      },
      "cell_type": "markdown",
      "source": [
        "## Part 1. Scraping data from the web"
      ]
    },
    {
      "metadata": {
        "id": "TkOmnCyu_2-5",
        "colab_type": "text"
      },
      "cell_type": "markdown",
      "source": [
        "Many of you will probably be interested in scraping data from the web for your projects. For example, what if we were interested in working with some historical Canadian weather data? Well, we can get that from: http://climate.weather.gc.ca using their API. Requests are going to be formatted like this:\n"
      ]
    },
    {
      "metadata": {
        "id": "NaOZOhi0_2-8",
        "colab_type": "code",
        "colab": {}
      },
      "cell_type": "code",
      "source": [
        "import pandas as pd\n",
        "\n",
        "url_template = \"http://climate.weather.gc.ca/climate_data/bulk_data_e.html?format=csv&stationID=5415&Year={year}&Month={month}&timeframe=1&submit=Download+Data\""
      ],
      "execution_count": 0,
      "outputs": []
    },
    {
      "metadata": {
        "id": "04ZKvRtM_2_J",
        "colab_type": "text"
      },
      "cell_type": "markdown",
      "source": [
        "Note that we've requested the data be returned as a csv, and that we're going to supply the month and year as inputs when we fire off the query. To get the data for March 2012, we need to format it with month=3, year=2012:\n"
      ]
    },
    {
      "metadata": {
        "id": "W_bhAPpd_2_M",
        "colab_type": "code",
        "colab": {}
      },
      "cell_type": "code",
      "source": [
        "url = url_template.format(month=3, year=2012)\n",
        "url"
      ],
      "execution_count": 0,
      "outputs": []
    },
    {
      "metadata": {
        "id": "o76kkUME_2_V",
        "colab_type": "text"
      },
      "cell_type": "markdown",
      "source": [
        "This is great! We can just use the same read_csv function as before, and just give it a URL as a filename. Awesome.\n",
        "\n",
        "Upon inspection, we find out that there are 16 rows of metadata at the top of this CSV, but pandas knows CSVs are weird, so there's a skiprows options. We parse the dates again, and set 'Date/Time' to be the index column. Here's the resulting dataframe."
      ]
    },
    {
      "metadata": {
        "id": "N5lP8CF9_2_Y",
        "colab_type": "code",
        "colab": {}
      },
      "cell_type": "code",
      "source": [
        "weather_mar2012 = pd.read_csv(url, skiprows=15, index_col='Date/Time', parse_dates=True, encoding='latin1')"
      ],
      "execution_count": 0,
      "outputs": []
    },
    {
      "metadata": {
        "id": "u-uWpzab_2_g",
        "colab_type": "code",
        "colab": {}
      },
      "cell_type": "code",
      "source": [
        "weather_mar2012.head()"
      ],
      "execution_count": 0,
      "outputs": []
    },
    {
      "metadata": {
        "id": "M32ynyCR_2_p",
        "colab_type": "text"
      },
      "cell_type": "markdown",
      "source": [
        "As before, we can get rid of any comlumns that don't contain real data using ${\\tt .dropna()}$"
      ]
    },
    {
      "metadata": {
        "id": "czOBl_A8_2_s",
        "colab_type": "code",
        "colab": {}
      },
      "cell_type": "code",
      "source": [
        "weather_mar2012 = weather_mar2012.dropna(axis=1, how='any')"
      ],
      "execution_count": 0,
      "outputs": []
    },
    {
      "metadata": {
        "id": "O4270mD1_2_1",
        "colab_type": "code",
        "colab": {}
      },
      "cell_type": "code",
      "source": [
        "weather_mar2012.head()"
      ],
      "execution_count": 0,
      "outputs": []
    },
    {
      "metadata": {
        "id": "O74UiyU4_3AA",
        "colab_type": "text"
      },
      "cell_type": "markdown",
      "source": [
        "Getting better! The Year/Month/Day/Time columns are redundant, though, and the Data Quality column doesn't look too useful. Let's get rid of those."
      ]
    },
    {
      "metadata": {
        "id": "nybBYbyH_3AG",
        "colab_type": "code",
        "colab": {}
      },
      "cell_type": "code",
      "source": [
        "weather_mar2012 = weather_mar2012.drop(['Year', 'Month', 'Day', 'Time'], axis=1)\n",
        "weather_mar2012[:5]"
      ],
      "execution_count": 0,
      "outputs": []
    },
    {
      "metadata": {
        "id": "fERnSYxB_3AQ",
        "colab_type": "text"
      },
      "cell_type": "markdown",
      "source": [
        "Great! Now let's figure out how to download the whole year? It would be nice if we could just send that as a single request, but like many APIs this one is limited to prevent people from hogging bandwidth. No problem: we can write a function!"
      ]
    },
    {
      "metadata": {
        "id": "f_cCjj05_3AT",
        "colab_type": "code",
        "colab": {}
      },
      "cell_type": "code",
      "source": [
        "def download_weather_month(year, month):\n",
        "    url = url_template.format(year=year, month=month)\n",
        "    weather_data = pd.read_csv(url, skiprows=15, index_col='Date/Time', parse_dates=True)\n",
        "    weather_data = weather_data.dropna(axis=1)\n",
        "    weather_data.columns = [col.replace('\\xb0', '') for col in weather_data.columns]\n",
        "    weather_data = weather_data.drop(['Year', 'Day', 'Month', 'Time'], axis=1)\n",
        "    return weather_data"
      ],
      "execution_count": 0,
      "outputs": []
    },
    {
      "metadata": {
        "id": "9icj3vwY_3Ab",
        "colab_type": "text"
      },
      "cell_type": "markdown",
      "source": [
        "Now to test that this function does the right thing:"
      ]
    },
    {
      "metadata": {
        "id": "xZT66AAk_3Ae",
        "colab_type": "code",
        "colab": {}
      },
      "cell_type": "code",
      "source": [
        "download_weather_month(2012, 1).head()"
      ],
      "execution_count": 0,
      "outputs": []
    },
    {
      "metadata": {
        "id": "2wax-OUr_3Am",
        "colab_type": "text"
      },
      "cell_type": "markdown",
      "source": [
        "Woohoo! Now we can iteratively request all the months using a single line. This will take a little while to run."
      ]
    },
    {
      "metadata": {
        "id": "-s22hxtp_3Ao",
        "colab_type": "code",
        "colab": {}
      },
      "cell_type": "code",
      "source": [
        "data_by_month = [download_weather_month(2012, i) for i in range(1, 12)]"
      ],
      "execution_count": 0,
      "outputs": []
    },
    {
      "metadata": {
        "id": "R4S-Wk3j_3Ax",
        "colab_type": "text"
      },
      "cell_type": "markdown",
      "source": [
        "Once that's done, it's easy to concatenate all the dataframes together into one big dataframe using ${\\tt pandas.concat()}$. And now we have the whole year's data!"
      ]
    },
    {
      "metadata": {
        "id": "PJCpxgx6_3A1",
        "colab_type": "code",
        "colab": {}
      },
      "cell_type": "code",
      "source": [
        "weather_2012 = pd.concat(data_by_month)"
      ],
      "execution_count": 0,
      "outputs": []
    },
    {
      "metadata": {
        "id": "tFEUd8lF_3A9",
        "colab_type": "text"
      },
      "cell_type": "markdown",
      "source": [
        "This thing is long, so instead of printing out the whole thing, I'm just going to print a quick summary of the ${\\tt DataFrame}$ by calling ${\\tt .info()}$:"
      ]
    },
    {
      "metadata": {
        "id": "zQyvC2MG_3BA",
        "colab_type": "code",
        "colab": {}
      },
      "cell_type": "code",
      "source": [
        "weather_2012.info()"
      ],
      "execution_count": 0,
      "outputs": []
    },
    {
      "metadata": {
        "id": "ckItOLd__3BJ",
        "colab_type": "text"
      },
      "cell_type": "markdown",
      "source": [
        "And a quick reminder, if we wanted to save that data to a file:"
      ]
    },
    {
      "metadata": {
        "id": "KLWc_X5h_3BM",
        "colab_type": "code",
        "colab": {}
      },
      "cell_type": "code",
      "source": [
        "weather_2012.to_csv('weather_2012.csv')"
      ],
      "execution_count": 0,
      "outputs": []
    },
    {
      "metadata": {
        "id": "pxaDCOS1_3BY",
        "colab_type": "code",
        "colab": {}
      },
      "cell_type": "code",
      "source": [
        "!ls"
      ],
      "execution_count": 0,
      "outputs": []
    },
    {
      "metadata": {
        "id": "jbZfj5eH_3Bl",
        "colab_type": "text"
      },
      "cell_type": "markdown",
      "source": [
        "And finally, something you should do early on in the wrangling process, plot data:"
      ]
    },
    {
      "metadata": {
        "id": "mv6HNBvW_3Br",
        "colab_type": "code",
        "colab": {}
      },
      "cell_type": "code",
      "source": [
        "# plot that data\n",
        "import matplotlib.pyplot as plt \n",
        "# so now 'plt' means matplotlib.pyplot\n",
        "dateRange = weather_2012.index\n",
        "temperature = weather_2012['Temp (C)']\n",
        "\n",
        "df1 = pd.DataFrame({'Temperature' : temperature}, index=dateRange)\n",
        "      \n",
        "plt.plot(df1.index.to_pydatetime(), df1.Temperature)\n",
        "plt.title(\"The 2012 annual temperature in Canada\")\n",
        "plt.xlabel(\"Month\")\n",
        "plt.ylabel(\"Temperature\")"
      ],
      "execution_count": 0,
      "outputs": []
    },
    {
      "metadata": {
        "id": "y9ansQSO_3B8",
        "colab_type": "code",
        "colab": {}
      },
      "cell_type": "code",
      "source": [
        "# nothing to see... in iPython you need to specify where the chart will display, usually it's in a new window\n",
        "# to see them 'inline' use:\n",
        "%matplotlib inline\n",
        "#If you add the %matplotlib inline, then you can skip the plt.show() function.\n",
        "#How to close python warnings\n",
        "import warnings\n",
        "warnings.filterwarnings('ignore')"
      ],
      "execution_count": 0,
      "outputs": []
    },
    {
      "metadata": {
        "id": "4Tfyd2Hf_3CJ",
        "colab_type": "code",
        "colab": {}
      },
      "cell_type": "code",
      "source": [
        "# that's better, try other plots, scatter is popular, also boxplot\n",
        "df1 = pd.read_csv('weather_2012.csv', low_memory=False)\n",
        "df1.plot(kind='scatter',x='Dew Point Temp (C)',y='Rel Hum (%)',color='red')\n",
        "df1.plot(kind='scatter',x='Temp (C)',y='Wind Spd (km/h)',color='yellow')"
      ],
      "execution_count": 0,
      "outputs": []
    },
    {
      "metadata": {
        "id": "RZdrp7EAH6eM",
        "colab_type": "code",
        "colab": {}
      },
      "cell_type": "code",
      "source": [
        "#show first several 'weather' columns vaule\n",
        "weather_2012['Weather'].head()"
      ],
      "execution_count": 0,
      "outputs": []
    },
    {
      "metadata": {
        "id": "pVlfon_bEr60",
        "colab_type": "code",
        "colab": {}
      },
      "cell_type": "code",
      "source": [
        "\n",
        "#Boxplot sample\n",
        "climategroup1 = df1[df1['Weather']=='Fog']['Temp (C)']\n",
        "climategroup2 = df1[df1['Weather']=='Rain']['Temp (C)']\n",
        "climategroup3 = df1[df1['Weather']=='Clear']['Temp (C)']\n",
        "climategroup4 = df1[df1['Weather']=='Cloudy']['Temp (C)']\n",
        "\n",
        "data =[climategroup1,climategroup2,climategroup3,climategroup4]\n",
        "\n",
        "\n",
        "fig1, ax1 = plt.subplots()\n",
        "ax1.set_title('Temperature Boxplot based on the Climate group')\n",
        "ax1.set_ylabel('Temperature')\n",
        "ax1.set_xlabel('Climate Group')\n",
        "\n",
        "boxplot=ax1.boxplot(data, \n",
        "                    notch=True,\n",
        "                    patch_artist=True,\n",
        "                    labels=['For','Rain','Clear','Cloudy'],\n",
        "                   boxprops=dict(linestyle='--', linewidth=2, color='black'))\n",
        "\n",
        "colors = ['cyan', 'pink', 'lightgreen', 'tan', 'pink']\n",
        "for patch, color in zip(boxplot['boxes'], colors):\n",
        "    patch.set_facecolor(color)\n",
        "\n",
        "plt.show()"
      ],
      "execution_count": 0,
      "outputs": []
    },
    {
      "metadata": {
        "id": "s5P7FONd_3CR",
        "colab_type": "text"
      },
      "cell_type": "markdown",
      "source": [
        "## Part 2. States and Territories of Australia \n",
        "\n",
        "We are interested in getting  State and Territory information from Wikipedia, however we do not want to copy and paste the table : )\n",
        "\n",
        "Here is the URL\n",
        "https://en.wikipedia.org/wiki/States_and_territories_of_Australia   \n",
        "\n",
        "We need two libraries to do the task:\n",
        "\n",
        "Check documentations here:\n",
        "* [urllib](https://docs.python.org/2/library/urllib.html)\n",
        "* [BeautifulSoup](https://www.crummy.com/software/BeautifulSoup/bs4/doc/)\n"
      ]
    },
    {
      "metadata": {
        "id": "QYlnsbPr_3CV",
        "colab_type": "code",
        "colab": {}
      },
      "cell_type": "code",
      "source": [
        "import sys\n",
        "if sys.version_info[0] == 3:\n",
        "    from urllib.request import urlopen\n",
        "else:\n",
        "    from urllib import urlopen\n",
        "from bs4 import BeautifulSoup"
      ],
      "execution_count": 0,
      "outputs": []
    },
    {
      "metadata": {
        "id": "rBmeWNVx_3Ce",
        "colab_type": "text"
      },
      "cell_type": "markdown",
      "source": [
        "We first save the link in wiki"
      ]
    },
    {
      "metadata": {
        "id": "P7gpk9P-_3Cg",
        "colab_type": "code",
        "colab": {}
      },
      "cell_type": "code",
      "source": [
        "wiki = \"https://en.wikipedia.org/wiki/States_and_territories_of_Australia\""
      ],
      "execution_count": 0,
      "outputs": []
    },
    {
      "metadata": {
        "id": "OpIxUZ4a_3Cn",
        "colab_type": "text"
      },
      "cell_type": "markdown",
      "source": [
        "Then use ulropen to open the page. \n",
        "\n",
        "If you get \"SSL: CERTIFICATE_VERIFY_FAILED\", what you need to do is find where \"Install Certificates.command\" file is, and click it to upgrade the certificate. Then, you should be able to solve the problem."
      ]
    },
    {
      "metadata": {
        "id": "00UN2EMw_3Cq",
        "colab_type": "code",
        "colab": {}
      },
      "cell_type": "code",
      "source": [
        "page = urlopen(wiki)"
      ],
      "execution_count": 0,
      "outputs": []
    },
    {
      "metadata": {
        "id": "vbjPbWLl_3Cx",
        "colab_type": "code",
        "colab": {}
      },
      "cell_type": "code",
      "source": [
        "if sys.version_info[0] == 3:\n",
        "    page = page.read()"
      ],
      "execution_count": 0,
      "outputs": []
    },
    {
      "metadata": {
        "id": "kyy4lpJ7_3C4",
        "colab_type": "text"
      },
      "cell_type": "markdown",
      "source": [
        "You will meet BeautifulSoup later in this subject, so don't worry if you feel uncomfortable with it now. You can always revisit. \n",
        "\n",
        "We begin by reading in the source code and creating a Beautiful Soup object with the BeautifulSoup function."
      ]
    },
    {
      "metadata": {
        "id": "KMjST_SK_3C9",
        "colab_type": "code",
        "colab": {}
      },
      "cell_type": "code",
      "source": [
        "soup = BeautifulSoup(page, \"lxml\")"
      ],
      "execution_count": 0,
      "outputs": []
    },
    {
      "metadata": {
        "id": "arXCtPja_3DJ",
        "colab_type": "text"
      },
      "cell_type": "markdown",
      "source": [
        "Then we print and see. "
      ]
    },
    {
      "metadata": {
        "id": "6VUNMhBW_3DM",
        "colab_type": "code",
        "colab": {}
      },
      "cell_type": "code",
      "source": [
        " print (soup.prettify())"
      ],
      "execution_count": 0,
      "outputs": []
    },
    {
      "metadata": {
        "id": "GNlxOnLL_3DX",
        "colab_type": "text"
      },
      "cell_type": "markdown",
      "source": [
        "For who do not know much about HTML, this might be a bit overwhelming, but essentially it contains lots of tags in the angled brackets providing structural and formatting information that we don't care so much here. What we need is the table. \n",
        "\n",
        "Let's first check the title."
      ]
    },
    {
      "metadata": {
        "id": "OX2ce0ZK_3Df",
        "colab_type": "code",
        "colab": {}
      },
      "cell_type": "code",
      "source": [
        "soup.title.string"
      ],
      "execution_count": 0,
      "outputs": []
    },
    {
      "metadata": {
        "id": "L5X_vbyY_3Do",
        "colab_type": "text"
      },
      "cell_type": "markdown",
      "source": [
        "It looks fine, then we would like to find the table. \n",
        "\n",
        "Let's have a try to extract all contents within the 'table' tag."
      ]
    },
    {
      "metadata": {
        "id": "2mdtetMZ_3Dq",
        "colab_type": "code",
        "colab": {}
      },
      "cell_type": "code",
      "source": [
        "all_tables = soup.findAll('table')\n",
        "print(all_tables)"
      ],
      "execution_count": 0,
      "outputs": []
    },
    {
      "metadata": {
        "id": "N0tvbY3S_3Dw",
        "colab_type": "text"
      },
      "cell_type": "markdown",
      "source": [
        "This returns a collection of tag objects. It seems that most of the information are useless and it's getting hard to hunt for the table. So searched online and found an instruction here: \n",
        "\n",
        "https://adesquared.wordpress.com/2013/06/16/using-python-beautifulsoup-to-scrape-a-wikipedia-table/\n",
        "\n",
        "The class is \"wikitable sortable\"!! Have a try then.   "
      ]
    },
    {
      "metadata": {
        "id": "c350bOM0_3Dz",
        "colab_type": "code",
        "colab": {}
      },
      "cell_type": "code",
      "source": [
        "right_table=soup.find('table', class_='wikitable sortable')\n",
        "print (right_table)"
      ],
      "execution_count": 0,
      "outputs": []
    },
    {
      "metadata": {
        "id": "jbqSZ0i7_3D5",
        "colab_type": "text"
      },
      "cell_type": "markdown",
      "source": [
        "Next we need to extract table header row by find the first 'tr'>"
      ]
    },
    {
      "metadata": {
        "id": "Pt3kyOGd_3D7",
        "colab_type": "code",
        "colab": {}
      },
      "cell_type": "code",
      "source": [
        "head_row = right_table.find('tr')\n",
        "print (head_row)"
      ],
      "execution_count": 0,
      "outputs": []
    },
    {
      "metadata": {
        "id": "uj-r3Xhs_3EB",
        "colab_type": "text"
      },
      "cell_type": "markdown",
      "source": [
        "Then we extract header row name via iterate through each row and extract text. \n",
        "\n",
        "The .findAll function in Python returns a list containing all the elements, which you can iterate through."
      ]
    },
    {
      "metadata": {
        "id": "NLwGVlDi_3ED",
        "colab_type": "code",
        "colab": {}
      },
      "cell_type": "code",
      "source": [
        "header_list = []\n",
        "headers = head_row.findAll('th')\n",
        "for header in headers:\n",
        "    #print header.find(text = True)\n",
        "    header_list.append(header.find(text = True))\n",
        "header_list"
      ],
      "execution_count": 0,
      "outputs": []
    },
    {
      "metadata": {
        "id": "UZNmqW_J_3EK",
        "colab_type": "text"
      },
      "cell_type": "markdown",
      "source": [
        "We can probably iterate trough this list and then extract contents. But let's take a simple approach of extracting each column separately. "
      ]
    },
    {
      "metadata": {
        "id": "wNw5o7xQ_3EO",
        "colab_type": "code",
        "colab": {}
      },
      "cell_type": "code",
      "source": [
        "flag=[]\n",
        "state=[]\n",
        "abbrev = []\n",
        "ISO = []\n",
        "Postal =[]\n",
        "Type = []\n",
        "Capital = []\n",
        "population = []\n",
        "Area = []\n",
        "for row in right_table.findAll(\"tr\"):\n",
        "    cells = row.findAll('td')\n",
        "    if len(cells) > 0 and len(cells) == 9:\n",
        "        flag.append(cells[0].find(text=True))\n",
        "        state.append(cells[1].find(text=True))\n",
        "        abbrev.append(cells[2].find(text=True))\n",
        "        ISO.append(cells[3].find(text=True))\n",
        "        Postal.append(cells[4].find(text=True))\n",
        "        Type.append(cells[5].find(text=True))\n",
        "        Capital.append(cells[6].find(text=True))\n",
        "        population.append(cells[7].find(text=True))\n",
        "        Area.append(cells[8].find(text=True))"
      ],
      "execution_count": 0,
      "outputs": []
    },
    {
      "metadata": {
        "id": "aB_ywSZe_3EZ",
        "colab_type": "text"
      },
      "cell_type": "markdown",
      "source": [
        "Next we can append all list to the dataframe."
      ]
    },
    {
      "metadata": {
        "id": "B0KLUyg9_3Eb",
        "colab_type": "code",
        "colab": {}
      },
      "cell_type": "code",
      "source": [
        "df_au = pd.DataFrame()\n",
        "df_au[header_list[0]] = flag\n",
        "df_au[header_list[1]] = state\n",
        "df_au[header_list[2]]=abbrev\n",
        "df_au[header_list[3]]=ISO\n",
        "df_au[header_list[4]]=Postal\n",
        "df_au[header_list[5]]=Type\n",
        "df_au[header_list[6]]=Capital\n",
        "df_au[header_list[7]]=population\n",
        "df_au[header_list[8]]=Area"
      ],
      "execution_count": 0,
      "outputs": []
    },
    {
      "metadata": {
        "id": "kAkmBKlD_3E1",
        "colab_type": "text"
      },
      "cell_type": "markdown",
      "source": [
        "Done !"
      ]
    },
    {
      "metadata": {
        "id": "0SVh16b8_3E3",
        "colab_type": "code",
        "colab": {}
      },
      "cell_type": "code",
      "source": [
        "df_au"
      ],
      "execution_count": 0,
      "outputs": []
    },
    {
      "metadata": {
        "id": "5kjxc5gJ_3E-",
        "colab_type": "text"
      },
      "cell_type": "markdown",
      "source": [
        "## Part 3. Parsing XML files with BeautifulSoup\n",
        "\n",
        "Now, we are going to demonstrate how to use BeautifulSoup to extract information from the XML file, called \"Melbourne_bike_share.xml\". \n",
        "\n",
        "For the documentation of BeautifulSoup, please refer to it <a href=\"https://www.crummy.com/software/BeautifulSoup/bs4/doc/#find-all\">official website</a>. "
      ]
    },
    {
      "metadata": {
        "id": "U9PvAywQ_3FC",
        "colab_type": "code",
        "colab": {}
      },
      "cell_type": "code",
      "source": [
        "!pip install wget"
      ],
      "execution_count": 0,
      "outputs": []
    },
    {
      "metadata": {
        "id": "PGQz6buj_3FO",
        "colab_type": "code",
        "colab": {}
      },
      "cell_type": "code",
      "source": [
        "import wget\n",
        "\n",
        "link_to_data = 'https://github.com/tulip-lab/sit742/raw/master/Jupyter/data/Melbourne_bike_share.xml'\n",
        "\n",
        "DataSet = wget.download(link_to_data)"
      ],
      "execution_count": 0,
      "outputs": []
    },
    {
      "metadata": {
        "id": "C74O1AZi_3Fe",
        "colab_type": "code",
        "colab": {}
      },
      "cell_type": "code",
      "source": [
        "!ls"
      ],
      "execution_count": 0,
      "outputs": []
    },
    {
      "metadata": {
        "id": "M8_FzMW7_3Fn",
        "colab_type": "code",
        "colab": {}
      },
      "cell_type": "code",
      "source": [
        "from bs4 import BeautifulSoup\n",
        "btree = BeautifulSoup(open(\"Melbourne_bike_share.xml\"),\"lxml-xml\") "
      ],
      "execution_count": 0,
      "outputs": []
    },
    {
      "metadata": {
        "id": "Hfn2u3mD_3Fx",
        "colab_type": "text"
      },
      "cell_type": "markdown",
      "source": [
        "You can alo print out the Beautifulsoup object by calling the <font color=\"blue\">prettify()</font> function."
      ]
    },
    {
      "metadata": {
        "id": "-Q6Ub0I3_3F0",
        "colab_type": "code",
        "colab": {}
      },
      "cell_type": "code",
      "source": [
        "print(btree.prettify())"
      ],
      "execution_count": 0,
      "outputs": []
    },
    {
      "metadata": {
        "id": "jdwTEA8o_3F7",
        "colab_type": "text"
      },
      "cell_type": "markdown",
      "source": [
        "It is easy to figure out information we would like to extract is stored in the following tags\n",
        "<ul>\n",
        "<li>id </li>\n",
        "<li>featurename </li>\n",
        "<li>terminalname </li>\n",
        "<li>nbbikes </li>\n",
        "<li>nbemptydoc </li>\n",
        "<li>uploaddate </li>\n",
        "<li>coordinates </li>\n",
        "</ul>\n",
        "\n",
        "Each record is stored in \"<row> </row>\". To extract information from those tags, except for \"coordinates\", we use the <font color=\"blue\">find_all()</font> function. Its documentation can be found <a href=\"https://www.crummy.com/software/BeautifulSoup/bs4/doc/#find-all\">here</a>."
      ]
    },
    {
      "metadata": {
        "id": "idfayYMs_3F9",
        "colab_type": "code",
        "colab": {}
      },
      "cell_type": "code",
      "source": [
        "featuretags = btree.find_all(\"featurename\")\n",
        "featuretags"
      ],
      "execution_count": 0,
      "outputs": []
    },
    {
      "metadata": {
        "id": "Z0BX1WXz_3GF",
        "colab_type": "text"
      },
      "cell_type": "markdown",
      "source": [
        "The output shows that the <font color=\"blue\"> find_all() </font> returns all the 50 station names. Now, we need to exclude the tags and just keep the text stored between the tags."
      ]
    },
    {
      "metadata": {
        "id": "LjrE6lCt_3GH",
        "colab_type": "code",
        "colab": {}
      },
      "cell_type": "code",
      "source": [
        "for feature in featuretags:\n",
        "    print (feature.string)"
      ],
      "execution_count": 0,
      "outputs": []
    },
    {
      "metadata": {
        "id": "UgEGKqPn_3GN",
        "colab_type": "text"
      },
      "cell_type": "markdown",
      "source": [
        "Now, we can put all the above code together using list comprehensions. "
      ]
    },
    {
      "metadata": {
        "id": "cnPMrw9q_3GP",
        "colab_type": "code",
        "colab": {}
      },
      "cell_type": "code",
      "source": [
        "featurenames = [feature.string for feature in btree.find_all(\"featurename\")]"
      ],
      "execution_count": 0,
      "outputs": []
    },
    {
      "metadata": {
        "id": "-QENZXhR_3GZ",
        "colab_type": "code",
        "colab": {}
      },
      "cell_type": "code",
      "source": [
        "featurenames"
      ],
      "execution_count": 0,
      "outputs": []
    },
    {
      "metadata": {
        "id": "MAelvxak_3Gf",
        "colab_type": "text"
      },
      "cell_type": "markdown",
      "source": [
        "Similarly, we can use the <font color = \"blue\">find_all()</font> function to extract the other information."
      ]
    },
    {
      "metadata": {
        "id": "OVbqKrkd_3Gh",
        "colab_type": "code",
        "colab": {}
      },
      "cell_type": "code",
      "source": [
        "nbbikes = [feature.string for feature in btree.find_all(\"nbbikes\")]\n",
        "nbbikes"
      ],
      "execution_count": 0,
      "outputs": []
    },
    {
      "metadata": {
        "id": "mcCoGjMx_3Gu",
        "colab_type": "code",
        "colab": {}
      },
      "cell_type": "code",
      "source": [
        "NBEmptydoc = [feature.string for feature in btree.find_all(\"nbemptydoc\")]\n",
        "NBEmptydoc"
      ],
      "execution_count": 0,
      "outputs": []
    },
    {
      "metadata": {
        "id": "EA1tJSFA_3G6",
        "colab_type": "code",
        "colab": {}
      },
      "cell_type": "code",
      "source": [
        "TerminalNames = [feature.string for feature in btree.find_all(\"terminalname\")]\n",
        "TerminalNames"
      ],
      "execution_count": 0,
      "outputs": []
    },
    {
      "metadata": {
        "id": "7ZgDBKA4_3HB",
        "colab_type": "code",
        "colab": {}
      },
      "cell_type": "code",
      "source": [
        "UploadDate = [feature.string for feature in btree.find_all(\"uploaddate\")]\n",
        "UploadDate"
      ],
      "execution_count": 0,
      "outputs": []
    },
    {
      "metadata": {
        "id": "m-gueegN_3HO",
        "colab_type": "code",
        "colab": {}
      },
      "cell_type": "code",
      "source": [
        "ids = [feature.string for feature in btree.find_all(\"id\")]\n",
        "ids"
      ],
      "execution_count": 0,
      "outputs": []
    },
    {
      "metadata": {
        "id": "r7Lqno8g_3HW",
        "colab_type": "text"
      },
      "cell_type": "markdown",
      "source": [
        "Now, how can we extract the attribute values from the tage called \"coordinates\"?"
      ]
    },
    {
      "metadata": {
        "id": "4y5q2ndf_3Ha",
        "colab_type": "code",
        "colab": {}
      },
      "cell_type": "code",
      "source": [
        "lattitudes = [coord[\"latitude\"] for coord in btree.find_all(\"coordinates\")]\n",
        "lattitudes"
      ],
      "execution_count": 0,
      "outputs": []
    },
    {
      "metadata": {
        "id": "h7ji076m_3Hj",
        "colab_type": "code",
        "colab": {}
      },
      "cell_type": "code",
      "source": [
        "longitudes = [coord[\"longitude\"] for coord in btree.find_all(\"coordinates\")]\n",
        "longitudes"
      ],
      "execution_count": 0,
      "outputs": []
    },
    {
      "metadata": {
        "id": "eBu7drmL_3Hs",
        "colab_type": "text"
      },
      "cell_type": "markdown",
      "source": [
        "After the extraction, we can put all the information in a Pandas DataFrame."
      ]
    },
    {
      "metadata": {
        "id": "7Ehg6SQK_3Hu",
        "colab_type": "code",
        "colab": {}
      },
      "cell_type": "code",
      "source": [
        "import pandas as pd \n",
        "dataDict = {}\n",
        "dataDict['Featurename'] = featurenames\n",
        "dataDict['TerminalName'] = TerminalNames\n",
        "dataDict['NBBikes'] = nbbikes\n",
        "dataDict['NBEmptydoc'] = NBEmptydoc\n",
        "dataDict['UploadDate'] = UploadDate\n",
        "dataDict['lat'] = lattitudes\n",
        "dataDict['lon'] = longitudes\n",
        "df = pd.DataFrame(dataDict, index = ids)\n",
        "df.index.name = 'ID'\n",
        "df.head()"
      ],
      "execution_count": 0,
      "outputs": []
    }
  ]
}