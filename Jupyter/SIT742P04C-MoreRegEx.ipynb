{
    "nbformat_minor": 1, 
    "cells": [
        {
            "source": "# SIT742: Modern Data Science \n**(Week 04: Text Analysis)**\n\n---\n- Materials in this module include resources collected from various open-source online repositories.\n- You are free to use, change and distribute this package.\n- If you found any issue/bug for this document, please submit an issue at [tulip-lab/sit742](https://github.com/tulip-lab/sit742/issues)\n\nPrepared by **SIT742 Teaching Team**\n\n---\n\n## Session 4C - More on Regular Expressions (Optional)\n\nTable of Content\n\n* Part 1. Get Started with Regular Expressions\n* Part 2. Case Study (1) - Parsing Dates with Regular Expressions \n* Part 3. Case Study (2) - Extract IPs, dates, and email address \n* Part 4. Summary\n* Part 5. Exercises\n\n---\n\n\nGetting a specific piece of text from a large block of text is a very challenging problem in parsing data.\nIn various programming languages there are built-in string functions available for \nsearching and replacing. For example, the [common string operations](https://docs.python.org/2/library/string.html) built in Python. \nHowever, these methods are limited to simplest cases. For example, the `string.find()` method in Python \nreturns the lowest index of the matched substring in a given string.\nIn more complex cases, such as data validation, where you are going to test an string to see if a telephone number pattern occurs within the string, it could result in code containing a stack of \n`if` statements by using different Python's built-in string functions.\nTo simplify the code and make it more readable, you might need to move up to [regular expressions](https://en.wikipedia.org/wiki/Regular_expression). So what is a regular expression?\n\n> \"A regular expression is a pattern which specifies a set of strings of characters; it is said to match certain strings.\"--- Ken Thompson\n\nIf you've ever typed `cp *.ipynb ../module_2/` at the UNIX command prompt, or entered \"match?\" into a web-based search engine, you've already used a simple regular expression. In the first instance, you've copied all the files which end with file extension \".ipynb\" (as opposed to copying them one by one); in the second, you've conducted a search not only for \"match,\" but also for \"matches\", \"matching\", \"matched\", and \"matcher\" all at once.\nUsing a well-crafted regular expression, you can easily search through a large number of text files, searching for words ending with \"ed\", replace the .html suffix with a .xml suffix, and then change all the lower case characters to upper case. \n\nRegular expressions (Regex) are all about matching and finding patterns in text, from simple patterns to the very complex ones.\nFor instance, they can be simple as this:\n```python\n    \\d\n```\nA character shorthand that matches any digit from 0 to 9.\nThey can also be something a bit more complicated like \n```python\n(19|20)\\d\\d[- /.](0[1-9]|1[012])[- /.](0[1-9]|[12][0-9]|3[01])\n```\nwhich is where we will wind up at the end of this chapter: a fairly robust regular expression\nthat matches a date in yyyy-mm-dd format from between 1900-01-01 and 2099-12-31, with a choice of four separators, which are '-', ' ', '/' and '.'. This regular expression can be visualised as\n\n![regEx](https://github.com/tulip-lab/sit742/raw/master/Jupyter/image/regeximg1.png)\n\n\nIf you are an experienced Regex user, this seems simple and straightforward.\nHowever, if you are new to Regex or aren't exprienced enough, it takes a while to understand it. \nDon't worry if you don't get how that all works. \nWe will show you how to develop regular expressions step-by-step in this chapter.\nIf you just follow the examples, writing regular expression will eventually turn out to be not \nthat hard. To quickly review some regular expression syntax:\n\n\n* <font color=\"red\">[0-9]</font> Matches a single digit\n* <font color=\"red\">[a-z0-9]</font> Matches a single character that must be a lower case letter or a digit.\n* <font color=\"red\">[A-Za-z]</font> Matches a single character that much be a upper/lower case letter \n* <font color=\"red\">\\d</font> Matches any decimal digit; equivalent to the set [0-9].\n* <font color=\"red\">\\D</font> Matches characters that are not digits, which is equivalent to [^0-9] or [^\\d].\n* <font color=\"red\">\\w</font> Matches any alphanumeric character, which is equivalent to [a-zA-Z0-9].\n* <font color=\"red\">\\W</font> Matches any non-alphanumeric character; which is equivalent to [^a-zA-Z0-9] or [^\\w].\n* <font color=\"red\">\\s</font> Matches any whitespace character; which is equivalent to [\\t\\n\\r\\f\\v], where \\t indicates taps, \\n  line feeds, \\r carriage returns, \\f form feeds and \\v vertical tabs.\n* <font color=\"red\">\\S:</font> Matches any non-whitespace character; which is equivalent to  [^ \\t\\n\\r\\f\\v].\n* <font color=\"red\">\u02c6</font> Matches the start of the line.\n* <font color=\"red\">$</font> Matches the end of the line.\n* <font color=\"red\">.</font> Matches any character (a wildcard).\n* <font color=\"red\">*</font> Matches when the preceding character occurs zero or more times\n* <font color=\"red\">?</font> Matches when the preceding character occurs zero or one times\n* <font color=\"red\">+</font> Matches when the preceding character occurs one or more times\n\nMore information can be found here :\nhttps://docs.python.org/2/library/re.html\n\n* * *\n\n- - -", 
            "cell_type": "markdown", 
            "metadata": {}
        }, 
        {
            "source": "import sys\nprint (sys.version_info)", 
            "cell_type": "code", 
            "metadata": {}, 
            "outputs": [], 
            "execution_count": null
        }, 
        {
            "source": "Libraries needed are:", 
            "cell_type": "markdown", 
            "metadata": {}
        }, 
        {
            "source": "import re # library for regular expression\nimport pandas as pd\npd.__version__", 
            "cell_type": "code", 
            "metadata": {}, 
            "outputs": [], 
            "execution_count": null
        }, 
        {
            "source": "## Part 1. Regular Expressions\n\nAs a powerful way of searching, replacing, and parsing text with complex patterns of characters, regular expressions are the most significant tools in data parsing. They figure into all kinds of text-manipulation tasks. Searching and search-and-replace are among the most common uses. Regular expressions tend to be easier to write than they are to read. This is less of a problem if you are the only one who ever needs to maintain them. But if several people need to, the syntax can turn into more of a hindrance than an aid. For example,\n```python\n    ^(|(([A-Za-z0-9]+_+)|([A-Za-z0-9]+\\-+)|([A-Za-z0-9]+\\.+)|([A-Za-z0-9]+\\++))*[A-Za-z0-9]+@((\\w+\\-+)|(\\w+\\.))*\\w{1,63}\\.[a-zA-Z]{2,6})$\n```\nis a regular expression for validating email addresses.\nPlease don't try to parse it yourself, \nsince an experienced regular expression user might take a while to parse it.\nIn this section, we will first go through some good introductory materials of regular expressions,\nand then show you some fundamentals of how to use regular expressions in search text.\n\nThere are a couple of good online materials that introduce regular expressions in Python. \nWe strongly suggest that you study this chapter together with these materials. \nThey are \n* [Regular Expression HOWTO](https://docs.python.org/2/howto/regex.html) from Python's office website: An introductory tutorial to using regular expressions in Python with the `re` module. \ud83d\udcd6\n* [Regular Expressions](http://www.diveintopython3.net/regular-expressions.html), chapter 5 of \"**Dive into Python 3**\": A series of examples inspired by real world problems are used to show you how to generate regular expressions for parsing street name, Roman numerals, and phone numbers. \ud83d\udcd6\n\nThe complete list of meta-characters and their behaviour in the context of regular expressions can be found [here](https://docs.python.org/2/library/re.html). Besides, there is an alternative material if you would like to view, which is \n\n* [RegexOne](http://regexone.com): An interactive tutorial on learning regular expressions with simple exercises.\n\nBefore we go through some basics of regular expressions in python, we would like to point out [RegExr](http://regexr.com) by Grant Skinner. It is an online tool to learn, build, & test regular expressions. RegExr provides us with syntax highlighting, contextual help, video tutorial, reference, and searchable community patterns.\nYou will find a lot of good information in the six tabs provides on its website. In addition, pop-ups appear when you hover over the regular expression or target text in RegExr, giving you helpful information linking you between a regular expression and the corresponding matches in text. \nThese resources are one of the reasons why RegExr is among our favourite online Regex checkers.", 
            "cell_type": "markdown", 
            "metadata": {}
        }, 
        {
            "source": "## 1.0. Backslash\n\n**First, what is '\\'? **\n\n'\\', backslash or escape-character, is used to indicate special forms or to allow special characters to be used without invoking their special meaning.\n\n\n\n\n**How about r\"\" ? When to use it? **\n\nr\"\" is Python\u2019s string literal prefix notation, which has nothing to do with regular expression.  By using r\"\" or r'', Python will not handle special characters in any special way, in another word, it treated the contents as raw string. For example, r\"\\t\" represents\na two-character string containing '\\' and 't', whereas \"\\t\" represents tab.\n\nSometimes you can use them interchangeably,", 
            "cell_type": "markdown", 
            "metadata": {}
        }, 
        {
            "source": "str1 = re.findall('\\t', \"Please find \\t\")\nprint (str1)\n\nstr2 = re.findall(r'\\t', \"Please find \\t\")\nprint (str2)", 
            "cell_type": "code", 
            "metadata": {}, 
            "outputs": [], 
            "execution_count": null
        }, 
        {
            "source": "Sometimes not!", 
            "cell_type": "markdown", 
            "metadata": {}
        }, 
        {
            "source": "str1=re.match(r\"\\W(.)\\1\\W\", \" ff \")\nprint (str1)\n\nstr2=re.match(\"\\W(.)\\1\\W\", \" ff \")\nprint (str2)\n\nstr3=re.match(\"\\\\W(.)\\\\1\\\\W\", \" ff \")\nprint (str3)", 
            "cell_type": "code", 
            "metadata": {}, 
            "outputs": [], 
            "execution_count": null
        }, 
        {
            "source": "\"\\W(.)\\1\\W\" doesn't match ?  What is the difference? ", 
            "cell_type": "markdown", 
            "metadata": {}
        }, 
        {
            "source": "str4=\"\\W(.)\\1\\W\"\nprint (str4)\nstr4", 
            "cell_type": "code", 
            "metadata": {}, 
            "outputs": [], 
            "execution_count": null
        }, 
        {
            "source": "str4=r\"\\W(.)\\1\\W\"\nprint (str4)\nstr4", 
            "cell_type": "code", 
            "metadata": {}, 
            "outputs": [], 
            "execution_count": null
        }, 
        {
            "source": "Now you might be able to guess, what \"\\W(.)\\1\\W\" will match. ", 
            "cell_type": "markdown", 
            "metadata": {}
        }, 
        {
            "source": "str2=re.match(\"\\W(.)\\1\\W\", \" f\\x01 \")\nprint (str2)", 
            "cell_type": "code", 
            "metadata": {}, 
            "outputs": [], 
            "execution_count": null
        }, 
        {
            "source": "It matches with non-word + any one character  + \"\\x01\" + non=word.\n\n*Conclusion -- always fist validate your regular expression, then test with Python*\n\n\\* is ??  <br>\n\\* is a wildcard similar with ? and +  <br>\n\\* matches 0+ <br>\n? matches 0-1 <br>\n\\+ matches 1+ <br>", 
            "cell_type": "markdown", 
            "metadata": {}
        }, 
        {
            "source": "str1 = re.findall(r'.*', 'Please find all.')\nprint (str1)", 
            "cell_type": "code", 
            "metadata": {}, 
            "outputs": [], 
            "execution_count": null
        }, 
        {
            "source": "str1 = re.findall(r'.?', 'Please find all.')\nprint (str1)", 
            "cell_type": "code", 
            "metadata": {}, 
            "outputs": [], 
            "execution_count": null
        }, 
        {
            "source": "str1 = re.findall(r'.+', 'Please find all.')\nprint (str1)", 
            "cell_type": "code", 
            "metadata": {}, 
            "outputs": [], 
            "execution_count": null
        }, 
        {
            "source": "str1 = re.findall(r'l+', 'Please find all')\nprint (str1)", 
            "cell_type": "code", 
            "metadata": {}, 
            "outputs": [], 
            "execution_count": null
        }, 
        {
            "source": "### 1.1. Matching String Literals\nMatching strings with one or more literal characters, called string literals, is similar to the way you might do a search in a word editor or when submitting a keyword to a search engine. When you search for a string of text, you are searching with a string literal.\nLet's start with a very simple scenario. \nIf we have a sentence like\n```\n    Today is 26 jan 2016, not 25 Jan 2016.\n```\nAnd want to see if the string contains the word `Jan`  using a Python regular expression,\nwe'd use the following", 
            "cell_type": "markdown", 
            "metadata": {}
        }, 
        {
            "source": "import re # The Regular Expressions library\nstr = \"Today is 26 jan 2016, not 25 Jan 2016.\" \ns = re.search(\"Jan\", str)\nprint (s)", 
            "cell_type": "code", 
            "metadata": {}, 
            "outputs": [], 
            "execution_count": null
        }, 
        {
            "source": "The simple pattern used above is just something like 'J' followed by 'a' followed by 'n' (i.e., 'Jan').\nThe `search()` method scans through the string, looking for any location where 'Jan' appears. If a match is found, a match object instance corresponding to the first match is returned. Our search was successful, as the code prints out the match object\nas \n```\n    <_sre.SRE_Match object at 0x103ed47e8>\n```\nThis is Python's way of saying 'True' or 'Yes'. If no match is found, it will print out 'None'. \nFor example, try the following ", 
            "cell_type": "markdown", 
            "metadata": {}
        }, 
        {
            "source": "print (re.search(\"Feb\", str))", 
            "cell_type": "code", 
            "metadata": {}, 
            "outputs": [], 
            "execution_count": null
        }, 
        {
            "source": "The returned match object contains information about the match: where it starts and ends, the substring it matched, and more. You can query the match object for information about the matching string. The most important ones are:", 
            "cell_type": "markdown", 
            "metadata": {}
        }, 
        {
            "source": "print (s.group())\nprint (s.start()) \nprint (s.end())\nprint (s.span())", 
            "cell_type": "code", 
            "metadata": {}, 
            "outputs": [], 
            "execution_count": null
        }, 
        {
            "source": "The `group()` method returns the string \"Jan\" matched by the regular expression. \nThe `start()` method returns the starting position of \"Jan\", which is equal to the index of 'J' in the whole string.\nGo ahead, count the characters in \"Today is 18 Jan 2016.\", starting at \"T\", then try:\n```python\n   str.index('J')\n```\nIt should give the same integer as that given by `s.start()`. \nThe `end()` method returns the ending position of the match, \nand the span() method returns a tuple containing the (start, end) positions.\nThis scenario is so simple that you don't need a regular expression.\nInstead, you can use a string function, `find()`, which gives you the start position of the target string.", 
            "cell_type": "markdown", 
            "metadata": {}
        }, 
        {
            "source": "str.find(\"Jan\")", 
            "cell_type": "code", 
            "metadata": {}, 
            "outputs": [], 
            "execution_count": null
        }, 
        {
            "source": "How about finding both \"Jan\" and \"jan\"? \nThe `find()` method can only find the first match of a given regular expression. \nThere are two pattern methods that return all of the matches for a pattern encoded in a given regular expression. \nThey are `findall()` and `finditer()`.\nThe former returns a list of matching strings, \nand the latter returns a sequence of match object instances as an iterator. \nLet's try", 
            "cell_type": "markdown", 
            "metadata": {}
        }, 
        {
            "source": "print (re.findall(\"Jan\", str))\nfor m in re.finditer(\"Jan\", str):\n    print (m.group())\n    print (m.span())", 
            "cell_type": "code", 
            "metadata": {}, 
            "outputs": [], 
            "execution_count": null
        }, 
        {
            "source": "However, using \"Jan\" can find the one with uppercase \"J\", but not the one with lowercase 'j'. \nThe reason is that string matching is case-sensitive in regular expressions. \nIf you want to match both lower- and uppercase, you can: \n1. Convert all the characters in the string into either lower- or uppercase ones, then use either `re.findall(\"jan\", str)` or `re.findall(\"JAN\", str)` respectively to find the two appearances of \"Jan\",\n2. Update our regular expression to account for both 'J' and 'j', and retrieve both \"jan\" and \"Jan\" in their original form, like: \n```python\n    [Jj]an\n```\nwhere '[ ]' indicates a set of characters, and '[Jj]' will match 'J' or 'j', which is also known as a character class.", 
            "cell_type": "markdown", 
            "metadata": {}
        }, 
        {
            "source": "re.findall(r\"[Jj]an\", str)", 
            "cell_type": "code", 
            "metadata": {}, 
            "outputs": [], 
            "execution_count": null
        }, 
        {
            "source": "Our second choice is to use grouping in regular expressions. For multiple options we place them in brackets () and separate them by a pipe |. So we could use:", 
            "cell_type": "markdown", 
            "metadata": {}
        }, 
        {
            "source": "re.findall(r\"(Jan|jan)\", str)", 
            "cell_type": "code", 
            "metadata": {}, 
            "outputs": [], 
            "execution_count": null
        }, 
        {
            "source": "Let's move one-step further to find all the words with only alphabetic characters using only regular expressions. \nIt is not feasible to use grouping to enumerate all the possible words. \nInstead, we are going to use '[ ]' together with '+'.\nYou have seen '[ ]' above. '+' means matching 1 or more repetitions of the preceding regular expression. \nFor example,\n'an+' will match \u2018a\u2019 followed by any non-zero number of \u2018n\u2019s; \nit will not match just \u2018a\u2019. \nTo match non-zero numbers of either lower- or uppercase characters, we derive the following regular expression:", 
            "cell_type": "markdown", 
            "metadata": {}
        }, 
        {
            "source": "re.findall(r\"[a-zA-Z]+\", str)", 
            "cell_type": "code", 
            "metadata": {}, 
            "outputs": [], 
            "execution_count": null
        }, 
        {
            "source": "In the example above, we represent a range of characters by giving two characters separated by a '-'. For example [a-z] will match any lowercase ASCII letters, and [A-Z] will match any uppercase ASCII letters. Put the two together, we derive the regular expression that matches any lower- or uppercase letters.", 
            "cell_type": "markdown", 
            "metadata": {}
        }, 
        {
            "source": "### 1.2. Matching Digits\nThere are several ways to represent digits in regular expressions:\n* [0-9]: A range that matches the range of digits 0 through 9, which is the same as \"[0123456789]\".\n* \\d: A character shorthand to match the digits, which is pre-defined in most regular expression engines.\nIt is equivalent to [0-9].\n\nNote that the character shorthand for digits is shorter and simpler, \nbut it doesn\u2019t have the power or flexibility of the range. \nWith a range, you can pick the exact digits you want to match. \nFor example, if you want to match a sequence of the binary digits, like '0010101011', \nyou would use\n```python\n    [01]+\n```\n\nTo match numbers that have more than one digit, for example, '12' and '123',\nyou can repeat either representation as many times as you want, like\n* [0-9][0-9] or \\d\\d matches two-digits numbers from 00 to 99.\n* [0-9][0-9][0-9] or \\d\\d\\d matches three digits numbers from 000 to 999.\n\nHowever, the above approach gets redundant if you try to match '100000' for example.\nIn this case, we can specify the number of occurrences of those digits by using \ncurly brackets, like:  \n* [0-9]{2} or \\d{2} that matches numbers from 00 to 99.\n* \\d{1,3} that matches numbers from 0 to 999.\n\nLet's try to extract year for the give string,", 
            "cell_type": "markdown", 
            "metadata": {}
        }, 
        {
            "source": "s = re.search(r'\\d{4}', str) \nprint(s.group()) ", 
            "cell_type": "code", 
            "metadata": {}, 
            "outputs": [], 
            "execution_count": null
        }, 
        {
            "source": "As we discussed before, the `search()` method returns the first match found in the string.\nHowever, if search stops when it finds the first occurrence, what is the point of group?\n\nRegular expressions allow us to not just match text but also to extract information for further processing. This is done by defining groups of characters and capturing them using the special parentheses, i.e., ( and ) meta-characters. Any sub-pattern inside a pair of parentheses will be captured as a group.\nLet's try to find a pair of words separated by a white space in the following simple\nstring\n```python\n    Isaac Newton, Data Scientist\n```\nThe regular expression we are going to use is \n```python\n    ([a-zA-Z]+) ([a-zA-Z]+)\n```\nIt uses two groups. One is used to match the first word in the pair and another matches\nthe second word. Note that there is a white space between the two groups.", 
            "cell_type": "markdown", 
            "metadata": {}
        }, 
        {
            "source": "m = re.match(r\"([a-zA-Z]+) ([a-zA-Z]+)\", \"Isaac Newton, Data Scientist\")\nprint(m.group(0) + \"\\n\" + m.group(1)  + \"\\n\" + m.group(2))", 
            "cell_type": "code", 
            "metadata": {}, 
            "outputs": [], 
            "execution_count": null
        }, 
        {
            "source": "As you can see, `m.group(0)` returns the entire match. `m.group(1)` returns the match of the first parenthesized subgroup. And `m.group(2)` returns the match of the second parenthesized subgroup.\nYou can also retrieve the two groups by using the `groups()` methods as", 
            "cell_type": "markdown", 
            "metadata": {}
        }, 
        {
            "source": "m.groups()", 
            "cell_type": "code", 
            "metadata": {}, 
            "outputs": [], 
            "execution_count": null
        }, 
        {
            "source": "In Python regular expressions, you can also name each group in a regular expression using \n```python\n    (?P<name>...)\n```\nThe substring matched by the group is accessible via the symbolic group name 'name'.\nFor example,", 
            "cell_type": "markdown", 
            "metadata": {}
        }, 
        {
            "source": "m = re.match(r\"(?P<first_name>[a-zA-Z]+) (?P<last_name>[a-zA-Z]+)\", \"Isaac Newton\")\nm.groupdict()", 
            "cell_type": "code", 
            "metadata": {}, 
            "outputs": [], 
            "execution_count": null
        }, 
        {
            "source": "### 1.3 More on Regular Expression Syntax\nWe have shown you how to match words and digits in the previous two sections. Here we would like to list some meta-characters that are used very often in regular expressions:\n* \\D: Matches characters that are not digits, which is equivalent to [^0-9] or [^\\d].\n* \\w: Matches any alphanumeric character, which is equivalent to [a-zA-Z0-9].\n* \\W: Matches any non-alphanumeric character; which is equivalent to [^a-zA-Z0-9] or [^\\w].\n* \\s: Matches any whitespace character; which is equivalent to [ \\t\\n\\r\\f\\v], where \\t indicates taps, \\n  line feeds, \\r carriage returns, \\f form feeds and \\v vertical tabs.\n* \\S: Matches any non-whitespace character; which is equivalent to  [^ \\t\\n\\r\\f\\v].", 
            "cell_type": "markdown", 
            "metadata": {}
        }, 
        {
            "source": "### 1.4. Raw Strings in Python Regular Expressions\nWe have been using 'r' in our regular expressions, what does it mean?\nIt is Python's raw string notation for regular expressions.\nIt has been used to work around the backslash plague.\n\nIn regular expressions the backslash character ('\\')  is often used to escape characters that otherwise have a special meaning, such as newline, backslash itself, or the quote character. For example, to match a literal backslash, one has to write '\\\\\\\\\\\\\\\\' as the regular expression string. This is because the regular expression must be '\\\\\\\\', and each backslash must be expressed as '\\\\\\\\' inside a regular Python string literal. Let's assume that you would like find all the LaTeX commands in a given LaTeX file. Those commands always start with a backslash, like '\\\\usepackage',\n'\\\\section', '\\\\title', etc. The regular expression without raw string notation is:\n```python\n    \\\\\\\\\\\\w+\n```\nRefer to the previous section for the meaning of \"\\w\".\nIn contrast, one can prefiex the string literals with a letter 'r' or 'R' to form a raw string notation, which tells \nthe regular expression engine not to handle backslashes in any special way. With the raw string notation, the regular expression above can be simplified to \n```python\n    r\"\\\\\\w+\"\n```\nLet's try them out:", 
            "cell_type": "markdown", 
            "metadata": {}
        }, 
        {
            "source": "m1 = re.match(\"\\\\\\\\\\w+\", \"\\section\")\nprint (m1.group())\n\nm2 = re.match(r\"\\\\\\w+\", \"\\section\")\nprint (m2.group())", 
            "cell_type": "code", 
            "metadata": {}, 
            "outputs": [], 
            "execution_count": null
        }, 
        {
            "source": "The two lines of matching code above are functionally identical. But it is easy to interpret the regular expression using raw string notation. Therefore, when writing regular expression in Python, it is recommended that you use raw strings instead of regular Python strings. \n\n- - -", 
            "cell_type": "markdown", 
            "metadata": {}
        }, 
        {
            "source": "## Part 2. Case Study (1) - Parsing Dates with Regular Expressions\n\n\nThis section will show you how to parse dates in simple data formats, \ne.g., mm/dd/yyyy, and dd/mm/yyyy. You might think that something as conceptually trivial as a date should be an easy job for a regular expression. But it isn\u2019t, for reasons like: \n* The problem of leading zeros: humans are very sloppy with writing dates. Sometimes we omit the leading zeros, and write dates like \"1/1/2016\" and \"1/01/2016\". Therefore, should the regular expression for dates allow leading zeros to be omitted?\n* Different date delimiters: besides forward slashes, we can also use white spaces, or hyphens to separate day, month and year.\n* Matching a given range of numbers: regular expressions don't deal directly with numbers and don't understand the numerical meanings that humans assign to strings of digits. They treat numbers, like 123, as strings of characters displayed as digits, 1, 2, and 3. Therefore, we cannot tell a regular expression to match a given range of numbers directly. For instance, to match months that are in a range from 1 to 12 and to match days from 1 to 31.\n\nTherefore, you have to choose how simple or how accurate you want your regular expression to be.\nIf you already know your text doesn\u2019t contain any invalid dates, you could use a trivial regex such as\n```python\n    r\"\\d{2}/\\d{2}/\\d{4}\"\n```\nThe fact that this matches things like 00/00/0000 is irrelevant if those don\u2019t occur in your text.\nIn most cases, you won't know whether your text has invalid dates or not. \n\nSo given that a basic date is day, month and year, and are all digits, which of the three is easiest to parse with regular expressions?\nGive month a try. First define our own method 'month' which accepts a pattern and a month (both text) as arguments and reports if there is a match:", 
            "cell_type": "markdown", 
            "metadata": {
                "collapsed": true
            }
        }, 
        {
            "source": "def month(pattern, m):\n    if re.match(pattern, m):\n        print (m + \" is a month\")\n    else:\n        print (m + \" is NOT a month\")", 
            "cell_type": "code", 
            "metadata": {}, 
            "outputs": [], 
            "execution_count": null
        }, 
        {
            "source": "It seems that it is trivial to write a regular expression to match the 12 months from 1 to 12 with or without \nleading zeros. \nLet's first assume that all months are represented by two digits. \nIn other words, we append a zero to the left if the month is in between January to September. \nThe simplest regular expression one can think could be\n```python\n    r\"\\d\\d\"\n```\nTry it out,", 
            "cell_type": "markdown", 
            "metadata": {}
        }, 
        {
            "source": "month(r'\\d\\d', \"12\")\nmonth(r\"\\d\\d\", \"03\")\nmonth(r\"\\d\\d\", \"00\")\nmonth(r\"\\d\\d\", \"13\")\nmonth(r\"\\d\\d\", \"3\")", 
            "cell_type": "code", 
            "metadata": {}, 
            "outputs": [], 
            "execution_count": null
        }, 
        {
            "source": "The regular expression we used matches exactly two-digit numbers from 00 to 99. \nAlthough it can match all the months represented by two digits, the problems are that \n* It cannot match months represented by a single digit, e.g., 1 (January), 2 (February), etc.\n* It matches numbers that do not represent any month. \n  So one does need to validate the given number to make sure it is in the right range.\n\nTackling the first problem, we can use curly brackets `{m, n}` to specify the minimum and maximum occurrences of digits. A month can have at least one digit and at most two digits. \nSo the regular expression should look like\n```python\n    r\"\\d{1,2}\"\n```", 
            "cell_type": "markdown", 
            "metadata": {}
        }, 
        {
            "source": "month(r\"\\d{1,2}\", \"03\") \nmonth(r\"\\d{1,2}\", \"3\") \nmonth(r\"\\d{1,2}\", \"00\") \nmonth(r\"\\d{1,2}\", \"0\")\nmonth(r\"\\d{1,2}\", \"13\")", 
            "cell_type": "code", 
            "metadata": {}, 
            "outputs": [], 
            "execution_count": null
        }, 
        {
            "source": "However, this regular expression still matches invalid months, such as \"00\", \"0\" and \"13\".\nThe months must be restricted to numbers between 1 and 12.\nWe use alternation inside a group to match various pairs of digits to form a range of one- or two-digit numbers.", 
            "cell_type": "markdown", 
            "metadata": {}
        }, 
        {
            "source": "month(r\"([1-9]|1[0-2])\", \"3\") \nmonth(r\"([1-9]|1[0-2])\", \"0\") \nmonth(r\"([1-9]|1[0-2])\", \"01\") ", 
            "cell_type": "code", 
            "metadata": {}, 
            "outputs": [], 
            "execution_count": null
        }, 
        {
            "source": "In the above code `[1-9]` matches months that can be represented by a single digit, and `1[0-2]` matches October, November and December. Let's further update the regular expression to allow leading zeros by adding `0?`:", 
            "cell_type": "markdown", 
            "metadata": {}
        }, 
        {
            "source": "month(r\"(0?[1-9]|1[0-2])\", \"03\")", 
            "cell_type": "code", 
            "metadata": {}, 
            "outputs": [], 
            "execution_count": null
        }, 
        {
            "source": "It seems that we have constructed a regular expression that can handle months represented by either one- or two-digits numbers. But sooner or later you will find the following problem: ", 
            "cell_type": "markdown", 
            "metadata": {}
        }, 
        {
            "source": "month(r\"(0?[1-9]|1[0-2])\", \"13\") \nmonth(r\"(0?[1-9]|1[0-2])\", \"99\") ", 
            "cell_type": "code", 
            "metadata": {}, 
            "outputs": [], 
            "execution_count": null
        }, 
        {
            "source": "Why?\n\nSome of these patterns seem right but don't always work. \nRegular expressions are quite specific, like mini programs.\nYou have to get them right and then they will very effectively block everything that doesn't match.\nWe very specifically say what we want, as opposed to listing all the exceptions we don't want.\nwhich is easier?\nFor example testing all exceptions, case by case:\n* is the input empty (and this in itself is trouble, one space or two? ' ', tab, CR, LF etc.)\n* is the input the correct type (character, number etc.)\n* the correct format\n* correct range\n* positive, negative\n* uppercase, lowercase, etc.\n\nWatch out for the difference between greediness & laziness in regular expressions. \nGreediness means match longest possible string.\nLaziness means match shortest possible string. \nOr, put another way, laziness will stop as soon as the condition is satisfied, \nbut greediness means it will stop only once the condition is not satisfied any more - this is quite different.\n\nConsider also Start of String and End of String anchors. The caret ^ matches the position before the first character in the string. Applying \"^a\" to \"abc\" matches the whole string. \"^b\" does not match \"abc\" at all, because the b cannot be matched right after the start of the string, matched by ^. Similarly, $ matches right after the last character in the string.\n\nSo here's what we want:\n```python\n    r\"^(0?[1-9]|1[0-2])$\" \n```\nLet's test it now:", 
            "cell_type": "markdown", 
            "metadata": {}
        }, 
        {
            "source": "pattern =  \"^(0?[1-9]|1[0-2])$\" ", 
            "cell_type": "code", 
            "metadata": {}, 
            "outputs": [], 
            "execution_count": null
        }, 
        {
            "source": "month(pattern,\"03\") \nmonth(pattern,\"0\")\nmonth(pattern,\"033\")\nmonth(pattern,\"003\")\nmonth(pattern,\"99\")\nmonth(pattern,\"3\")", 
            "cell_type": "code", 
            "metadata": {}, 
            "outputs": [], 
            "execution_count": null
        }, 
        {
            "source": "Similarly, you can write regular expressions to validate days. \nWe will leave this for you to do as an exercise.\nNext, we are going to show you the regular expressions for handling years in 20th and 21st centuries. \nThese years are between 1900 and 2099.\nThe first two digits are either 19 or 20, which can be captured by a group alternating between these two numbers\n```python\n    (19|20)\n```\nEach of the last two digits contains numbers between 0 and 9, which can be easily captured by\n```\n    \\d{2}\n```\nPut them together and we have\n```\n    r\"(19|20)\\d{2}\"\n```", 
            "cell_type": "markdown", 
            "metadata": {}
        }, 
        {
            "source": "def year(pattern, m):\n    if re.match(pattern, m):\n        print (m + \" is a year\")\n    else:\n        print (m + \" is NOT a year\")\n        \nyear(r\"(19|20)\\d{2}\", \"1800\")\nyear(r\"(19|20)\\d{2}\", \"1900\")\nyear(r\"(19|20)\\d{2}\", \"2099\")\nyear(r\"(19|20)\\d{2}\", \"2100\")", 
            "cell_type": "code", 
            "metadata": {}, 
            "outputs": [], 
            "execution_count": null
        }, 
        {
            "source": "Dealing with leap years is not trivial. Can one write a regular expression that can distinguish days in February in either leap years or non-leap years? It is easy to write regular expressions to match February 29th regardless of the year. Allowing February 29th only in leap years would require us to spell out all the years that are leap years, and all the years that aren\u2019t. Therefore, it seems that regular expressions are not a good choice here. Handling leap years require an extra bit of code. Maybe it's better to do it in two stages:\n1. Does it look like a date? (use regex), then\n2. is it a date? (code, e.g. convert to numeric then > 0 and < 13)\n\nFor example, the regular expression we found here:\n```python\n    r'(19|20)\\d\\d[- /.](0[1-9]|1[012])[- /.](0[1-9]|[12][0-9]|3[01])'\n```\nmatches a date in traditional date format from between 1900-01-01 and 2099-12-31, with a choice of four separators.\nHowever, there are dates that match the regular expression but aren't valid.\nFor example,", 
            "cell_type": "markdown", 
            "metadata": {}
        }, 
        {
            "source": "pattern = r'(19|20)\\d\\d[- /.](0[1-9]|1[012])[- /.](0[1-9]|[12][0-9]|3[01])'\nyear(pattern, \"2016-02-31\") ", 
            "cell_type": "code", 
            "metadata": {}, 
            "outputs": [], 
            "execution_count": null
        }, 
        {
            "source": "It is impossible for February in any year can have more than 29 days. Instead of using regular expressions to validate \ndates, you can also use Python's `datatime` module. If a given date string cannot be converted to a Python Date object, then the date wouldn't be valid.", 
            "cell_type": "markdown", 
            "metadata": {}
        }, 
        {
            "source": "# use python datetime libraries\nimport datetime as dt\ntoday = \"2016-02-31\"\nmydt = dt.datetime.strptime(today, '%Y-%m-%d') ", 
            "cell_type": "code", 
            "metadata": {}, 
            "outputs": [], 
            "execution_count": null
        }, 
        {
            "source": "Therefore, \nif you get regular expressions right, they can be very useful as anything that doesn't match the pattern will get blocked. However, getting them wrong will result in many problems.\n- - -", 
            "cell_type": "markdown", 
            "metadata": {}
        }, 
        {
            "source": "## Part 3. Case Study (2) - Extract IPs, dates, and email address with regular expressions\n\nWith following tasks we will use the mail box data ([mbox-short.txt](http://www.pythonlearn.com/code3/mbox-short.txt)) provided by the book [Python for Informatics: Exploring Information](http://www.pythonlearn.com/book.php#python-for-informatics). \n\n", 
            "cell_type": "markdown", 
            "metadata": {}
        }, 
        {
            "source": "!pip install wget", 
            "cell_type": "code", 
            "metadata": {}, 
            "outputs": [], 
            "execution_count": null
        }, 
        {
            "source": "import wget\n\nlink_to_data = 'https://github.com/tulip-lab/sit742/raw/master/Jupyter/data/mbox-short.txt'\n\nDataSet = wget.download(link_to_data)\n\n!ls", 
            "cell_type": "code", 
            "metadata": {}, 
            "outputs": [], 
            "execution_count": null
        }, 
        {
            "source": "with open('mbox-short.txt','r') as infile:\n    text = infile.read()", 
            "cell_type": "code", 
            "metadata": {}, 
            "outputs": [], 
            "execution_count": null
        }, 
        {
            "source": "### 3.1 Find IP addresses \n\nIn this task we will need to \n1. find all IP addresses in the mbox-short dataset.\n2. print unique IP addresses \n\nLet's have a try first: ", 
            "cell_type": "markdown", 
            "metadata": {}
        }, 
        {
            "source": "str1 = re.findall(r'\\b(?:\\d{1,3}\\.){3}\\d{1,3}\\b', \"This is a IP address 111.23.39.99\")\nstr1", 
            "cell_type": "code", 
            "metadata": {}, 
            "outputs": [], 
            "execution_count": null
        }, 
        {
            "source": "![](https://github.com/tulip-lab/sit742/raw/master/Jupyter/image/regeximg3.png)\n\nFrom https://regexper.com/", 
            "cell_type": "markdown", 
            "metadata": {}
        }, 
        {
            "source": "str1= re.findall(r'(?:[0-9]{1,3}\\.){3}[0-9]{1,3}', text)\nif len(str1)>0:\n    print(str1)", 
            "cell_type": "code", 
            "metadata": {}, 
            "outputs": [], 
            "execution_count": null
        }, 
        {
            "source": "By running the code above, we are able to print all IP addresses. \n\nNext can we save all unique IP address in a list? We will need to read the whole txt file in to 'text', and then apply re.findall function. set() function returns the unique values.", 
            "cell_type": "markdown", 
            "metadata": {}
        }, 
        {
            "source": "str1=re.findall(r'(?:[0-9]{1,3}\\.){3}[0-9]{1,3}', text)\nset(str1)", 
            "cell_type": "code", 
            "metadata": {}, 
            "outputs": [], 
            "execution_count": null
        }, 
        {
            "source": "### 3.2 Extract All date time \n\n\nIn the next task, we need to extract all date time from the file. We trust that all date time are valid for now. \n\n", 
            "cell_type": "markdown", 
            "metadata": {}
        }, 
        {
            "source": "str1=re.findall(r'(\\d{4}-\\d{2}-\\d{2} \\d{2}:\\d{2}:\\d{2})', text)\nset(str1)", 
            "cell_type": "code", 
            "metadata": {}, 
            "outputs": [], 
            "execution_count": null
        }, 
        {
            "source": "From the extract datetime string, extract date and hour information by using nested group", 
            "cell_type": "markdown", 
            "metadata": {}
        }, 
        {
            "source": "str2=re.findall(r'((\\d{4}-\\d{2}-\\d{2} \\d{2}):\\d{2}:\\d{2})', text)\nset(str2)", 
            "cell_type": "code", 
            "metadata": {}, 
            "outputs": [], 
            "execution_count": null
        }, 
        {
            "source": "### 3.3 Extract author's email address\n\n\nThere are many email addresses included in the file. We would like to extract email addresses from the Author the format is normally:\n\n\"Author: stephen.marquard@uct.ac.za\"\n\nNow lets see if we can use the following regular expression:\n```python\nr\"[a-zA-Z0-9_.+-]+@[a-zA-Z0-9-]+\\.[a-zA-Z0-9-.]+\"\n```\nwhich was copied and pasted from http://emailregex.com/\n\nDoes it work in the task?", 
            "cell_type": "markdown", 
            "metadata": {}
        }, 
        {
            "source": "str1=re.findall(r\"[a-zA-Z0-9_.+-]+@[a-zA-Z0-9-]+\\.[a-zA-Z0-9-.]+\", text)\nset(str1)", 
            "cell_type": "code", 
            "metadata": {}, 
            "outputs": [], 
            "execution_count": null
        }, 
        {
            "source": "What if I only want email address after Author ? ", 
            "cell_type": "markdown", 
            "metadata": {}
        }, 
        {
            "source": "str1=re.findall(r'Author: ([a-zA-Z0-9_.+-]+@[a-zA-Z0-9-]+\\.[a-zA-Z0-9-.]+)', text)\nstr1", 
            "cell_type": "code", 
            "metadata": {}, 
            "outputs": [], 
            "execution_count": null
        }, 
        {
            "source": "## Part 4. Summary\n\nThis chapter has discussed the fundamentals of regular expressions.\nYou have learnt how to develop regular expressions for handling street addresses, Roman numerals, phone numbers, and dates. Regular expressions may not be suitable for dealing with complex XML files but the basic idea that a regular expression can block anything that doesn't match is both useful and powerful. You might use regular expressions, for example, as the basis for a short program that filters incoming spam in your email. In this case, the program might use a regular expression to determine whether the name of a known spammer appeared in the \"From:\" line of the email. Email filtering programs, in fact, very often use regular expressions for exactly this type of operation. You will further learn regular expressions in Module 6 on text pre-processing. It is worth noting that regular expressions are not specific to Python. Many other programming languages also provide regular expression capabilities, for example, Perl, Java, Ruby, etc. Finally, do you think it's possibly to do Data Wrangling without regular expressions?\n\n---\n\nWatch the Software Carpentry lecture on regular expressions, if you need more help.\n\nhttps://www.youtube.com/playlist?list=PL7C1EB31127AB8A0B\n\nor you can look at the video lecture at Lynda.com \n\nhttps://www.lynda.com/Regular-Expressions-tutorials/Using-Regular-Expressions/85870-2.html?org=monash.edu\n\n- - -\n\n## Part 5. Exercises\n\n1.  Write a regular expression to match negative numbers and real-valued numbers, such as -1,023, -10.00, 10.393, and 0.234.\n1.  Write and test regular expressions for validating days. \n    1. Just worry about 0 to 31 by assuming all the months can have 31 days\n    2. Deal with 29, 30 or 31 days, where we distinguish months having 30 days, those having 31 days and assume February always has 29 by treating every year as a leap year.\n2.  Write regular expressions that can handle date format dd/mm/yyyy, deal with 29, 30, and 31 (as in Exercise 2), \n    and make the matched day, month and year accessible with group names.\n- - -", 
            "cell_type": "markdown", 
            "metadata": {
                "collapsed": true
            }
        }, 
        {
            "source": "", 
            "cell_type": "code", 
            "metadata": {}, 
            "outputs": [], 
            "execution_count": null
        }
    ], 
    "metadata": {
        "kernelspec": {
            "display_name": "Python 3.5", 
            "name": "python3", 
            "language": "python"
        }, 
        "language_info": {
            "mimetype": "text/x-python", 
            "nbconvert_exporter": "python", 
            "version": "3.5.5", 
            "name": "python", 
            "pygments_lexer": "ipython3", 
            "file_extension": ".py", 
            "codemirror_mode": {
                "version": 3, 
                "name": "ipython"
            }
        }, 
        "anaconda-cloud": {}, 
        "name": "1. Parsing with Regular expressions.ipynb"
    }, 
    "nbformat": 4
}