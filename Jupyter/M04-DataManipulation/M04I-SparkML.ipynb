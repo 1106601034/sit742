{
 "cells": [
  {
   "cell_type": "markdown",
   "id": "b5067dfe",
   "metadata": {
    "id": "b5067dfe"
   },
   "source": [
    "![Cloud-First](../image/CloudFirst.png)\n",
    "\n",
    "\n",
    "# SIT742: Modern Data Science\n",
    "**(Module: Big Data Manipulation)**\n",
    "\n",
    "---\n",
    "- Materials in this module include resources collected from various open-source online repositories.\n",
    "- You are free to use, change and distribute this package.\n",
    "- If you found any issue/bug for this document, please submit an issue at [tulip-lab/sit742](https://github.com/tulip-lab/sit742/issues)\n",
    "\n",
    "\n",
    "Prepared by **SIT742 Teaching Team**\n",
    "\n",
    "---\n",
    "\n",
    "\n",
    "## Session 4I: SparkSQL and Data Understanding\n",
    "---\n",
    "\n",
    "### Table of Content\n",
    "\n",
    "Part A: Spark Text Data Foundation\n",
    "\n",
    "1. Word2Vec in Spark\n",
    "\n",
    "2. Tokenization on the Given Document\n",
    "\n",
    "3. Stop Words Removal\n",
    "4. N Gram Tokenization\n",
    "5. CountVectorizer Representation\n",
    "\n",
    "Part B: Adcanced Representation\n",
    "\n",
    "6. Binarizer on the Continuous Feature\n",
    "\n",
    "7. PCA in Spark\n",
    "8.Polynomial Representation For Continuous Data\n",
    "9.Min Max Scaler in Spark\n",
    "10.Discretization in Spark\n",
    "11.Imputation in Spark\n",
    "\n",
    "\n",
    "---\n",
    "\n",
    "## Introduction ##\n",
    "\n",
    "This notebook will introduce Spark capabilities to deal with the text data and also continuous data with ML.feature module.\n",
    "The ML.feature module is a powerful module that provides a wide array of feature transformers and tools to prepare data for machine learning in a scalable and distributed manner. It is designed to integrate smoothly into ML pipelines using the pyspark.ml API\n"
   ]
  },
  {
   "cell_type": "markdown",
   "id": "QSt_kUId16dD",
   "metadata": {
    "id": "QSt_kUId16dD"
   },
   "source": [
    "# Part A: Spark Text Data Foundation"
   ]
  },
  {
   "cell_type": "code",
   "execution_count": null,
   "id": "ranking-father",
   "metadata": {
    "id": "ranking-father"
   },
   "outputs": [],
   "source": [
    "from pyspark.sql import SparkSession\n",
    "\n",
    "spark = SparkSession.builder \\\n",
    "    .master('local[*]') \\\n",
    "    .appName(\"Intro\") \\\n",
    "    .getOrCreate()\n"
   ]
  },
  {
   "cell_type": "markdown",
   "id": "e8340e25",
   "metadata": {
    "id": "e8340e25"
   },
   "source": [
    "Word2Vec in Spark"
   ]
  },
  {
   "cell_type": "code",
   "execution_count": null,
   "id": "stylish-jimmy",
   "metadata": {
    "colab": {
     "base_uri": "https://localhost:8080/"
    },
    "id": "stylish-jimmy",
    "outputId": "6ebbfd5b-a1b0-4af6-f1bd-bb7aea3541dc"
   },
   "outputs": [],
   "source": [
    "from pyspark.ml.feature import Word2Vec\n",
    "\n",
    "# Input data: Each row is a bag of words from a sentence or document.\n",
    "documentDF = spark.createDataFrame([\n",
    "    (\"Hi this is from SIT742\".split(\" \"), ),\n",
    "    (\"I THINK sit742 IS a good unit\".split(\" \"), ),\n",
    "    (\"Spark is not hard to learn\".split(\" \"), )\n",
    "], [\"text\"])\n",
    "\n",
    "# Learn a mapping from words to Vectors.\n",
    "word2Vec = Word2Vec(vectorSize=3, minCount=0, inputCol=\"text\", outputCol=\"result\")\n",
    "model = word2Vec.fit(documentDF)\n",
    "\n",
    "result = model.transform(documentDF)\n",
    "for row in result.collect():\n",
    "    text, vector = row\n",
    "    print(\"Text: [%s] => \\nVector: %s\\n\" % (\", \".join(text), str(vector)))"
   ]
  },
  {
   "cell_type": "markdown",
   "id": "8P1kHmia3of-",
   "metadata": {
    "id": "8P1kHmia3of-"
   },
   "source": [
    "Tokenization on the Given Document"
   ]
  },
  {
   "cell_type": "code",
   "execution_count": null,
   "id": "parallel-quilt",
   "metadata": {
    "colab": {
     "base_uri": "https://localhost:8080/"
    },
    "id": "parallel-quilt",
    "outputId": "7f7d8c7c-0f98-4243-9005-b7d2e6bd558e"
   },
   "outputs": [],
   "source": [
    "from pyspark.ml.feature import Tokenizer, RegexTokenizer\n",
    "from pyspark.sql.functions import col, udf\n",
    "from pyspark.sql.types import IntegerType\n",
    "\n",
    "sentenceDataFrame = spark.createDataFrame([\n",
    "    (0, \"Hi|this|is|from|SIT742\"),\n",
    "    (1, \"I     THINK sit742  IS a  good unit\"),\n",
    "    (2, \"Spark,is,not,hard,to,learn\")\n",
    "], [\"id\", \"sentence\"])\n",
    "\n",
    "tokenizer = Tokenizer(inputCol=\"sentence\", outputCol=\"words\")\n",
    "\n",
    "regexTokenizer = RegexTokenizer(inputCol=\"sentence\", outputCol=\"words\", pattern=\"\\\\W\")\n",
    "# alternatively, pattern=\"\\\\w+\", gaps(False)\n",
    "\n",
    "countTokens = udf(lambda words: len(words), IntegerType())\n",
    "\n",
    "tokenized = tokenizer.transform(sentenceDataFrame)\n",
    "tokenized.select(\"sentence\", \"words\")\\\n",
    "    .withColumn(\"tokens\", countTokens(col(\"words\"))).show(truncate=False)\n",
    "\n",
    "regexTokenized = regexTokenizer.transform(sentenceDataFrame)\n",
    "regexTokenized.select(\"sentence\", \"words\") \\\n",
    "    .withColumn(\"tokens\", countTokens(col(\"words\"))).show(truncate=False)"
   ]
  },
  {
   "cell_type": "markdown",
   "id": "jg74XKVyEJc4",
   "metadata": {
    "id": "jg74XKVyEJc4"
   },
   "source": [
    "Stop Words Removal"
   ]
  },
  {
   "cell_type": "code",
   "execution_count": null,
   "id": "multiple-tender",
   "metadata": {
    "colab": {
     "base_uri": "https://localhost:8080/"
    },
    "id": "multiple-tender",
    "outputId": "4de2cdd6-fabd-4d19-a607-7c148b382c2f"
   },
   "outputs": [],
   "source": [
    "from pyspark.ml.feature import StopWordsRemover\n",
    "\n",
    "sentenceData = spark.createDataFrame([\n",
    "    (0, [\"I\", \"LIKE\", \"the\", \"UNIT\", \"?\"]),\n",
    "    (1, [\"tHANKS\", \"AGAIN\", \"for\", \"your\", \"help\"])\n",
    "], [\"id\", \"raw\"])\n",
    "\n",
    "remover = StopWordsRemover(inputCol=\"raw\", outputCol=\"filtered\")\n",
    "remover.transform(sentenceData).show(truncate=False)"
   ]
  },
  {
   "cell_type": "markdown",
   "id": "a9UIfQCXEE9o",
   "metadata": {
    "id": "a9UIfQCXEE9o"
   },
   "source": [
    "N Gram Tokenization"
   ]
  },
  {
   "cell_type": "code",
   "execution_count": null,
   "id": "figured-render",
   "metadata": {
    "colab": {
     "base_uri": "https://localhost:8080/"
    },
    "id": "figured-render",
    "outputId": "ba3b1543-c629-4559-d285-6d1fdfa6778d"
   },
   "outputs": [],
   "source": [
    "from pyspark.ml.feature import NGram\n",
    "from pyspark.ml.feature import Tokenizer\n",
    "from pyspark.sql.functions import col, udf\n",
    "from pyspark.sql.types import IntegerType\n",
    "\n",
    "sentenceDataFrame = spark.createDataFrame([\n",
    "    (0, \"Hi this is from SIT742\"),\n",
    "    (1, \"I THINK sit742 IS a good unit\"),\n",
    "    (2, \"Spark is not hard to learn\")\n",
    "], [\"id\", \"sentence\"])\n",
    "\n",
    "\n",
    "tokenizer = Tokenizer(inputCol=\"sentence\", outputCol=\"words\")\n",
    "countTokens = udf(lambda words: len(words), IntegerType())\n",
    "wordDataFrame = tokenizer.transform(sentenceDataFrame)\n",
    "\n",
    "ngram = NGram(n=2, inputCol=\"words\", outputCol=\"ngrams\")\n",
    "\n",
    "ngramDataFrame = ngram.transform(wordDataFrame)\n",
    "ngramDataFrame.select(\"ngrams\").show(truncate=False)"
   ]
  },
  {
   "cell_type": "markdown",
   "id": "XcUpFId3JPZr",
   "metadata": {
    "id": "XcUpFId3JPZr"
   },
   "source": [
    "CountVectorizer Representation"
   ]
  },
  {
   "cell_type": "code",
   "execution_count": null,
   "id": "t0ietrDAHg5d",
   "metadata": {
    "colab": {
     "base_uri": "https://localhost:8080/"
    },
    "id": "t0ietrDAHg5d",
    "outputId": "eda61dd9-48eb-44ba-f423-57cbdb907805"
   },
   "outputs": [],
   "source": [
    "from pyspark.ml.feature import CountVectorizer\n",
    "from pyspark.sql.functions import udf, col\n",
    "from pyspark.sql.types import ArrayType, StringType\n",
    "\n",
    "# Create initial DataFrame\n",
    "df = spark.createDataFrame([\n",
    "    (0, \"Hi this is from SIT742\".split(\" \")),\n",
    "    (1, \"I THINK sit742 IS a good unit\".split(\" \"))\n",
    "], [\"id\", \"words\"])\n",
    "\n",
    "# Define a UDF to lowercase all words\n",
    "lowercase_udf = udf(lambda words: [w.lower() for w in words], ArrayType(StringType()))\n",
    "\n",
    "# Apply the UDF\n",
    "df_lower = df.withColumn(\"words_lower\", lowercase_udf(col(\"words\")))\n",
    "\n",
    "# Fit a CountVectorizerModel from the lowercased corpus\n",
    "cv = CountVectorizer(inputCol=\"words_lower\", outputCol=\"features\", minDF=1.0)\n",
    "model = cv.fit(df_lower)\n",
    "result = model.transform(df_lower)\n",
    "\n",
    "# Show results\n",
    "result.select(\"id\", \"words_lower\", \"features\").show(truncate=False)\n",
    "\n",
    "print(\"Vocabulary learned by CountVectorizer:\")\n",
    "print(model.vocabulary)"
   ]
  },
  {
   "cell_type": "markdown",
   "id": "annoying-browser",
   "metadata": {
    "id": "annoying-browser"
   },
   "source": [
    "# Part B Adcanced Representation"
   ]
  },
  {
   "cell_type": "markdown",
   "id": "XV20R1S6D2je",
   "metadata": {
    "id": "XV20R1S6D2je"
   },
   "source": [
    "Binarizer on the Continuous Feature"
   ]
  },
  {
   "cell_type": "code",
   "execution_count": null,
   "id": "physical-southeast",
   "metadata": {
    "colab": {
     "base_uri": "https://localhost:8080/"
    },
    "id": "physical-southeast",
    "outputId": "52de9c36-209a-4263-a78b-a92584e75dc3"
   },
   "outputs": [],
   "source": [
    "from pyspark.ml.feature import Binarizer\n",
    "\n",
    "continuousDataFrame = spark.createDataFrame([\n",
    "    (0, 3.1),\n",
    "    (1, 9.3),\n",
    "    (2, 27.9)\n",
    "], [\"id\", \"feature\"])\n",
    "\n",
    "binarizer = Binarizer(threshold=9.3, inputCol=\"feature\", outputCol=\"binarized_feature\")\n",
    "\n",
    "binarizedDataFrame = binarizer.transform(continuousDataFrame)\n",
    "\n",
    "print(\"Binarizer output with Threshold = %f\" % binarizer.getThreshold())\n",
    "binarizedDataFrame.show()"
   ]
  },
  {
   "cell_type": "markdown",
   "id": "WQov7XmKD12u",
   "metadata": {
    "id": "WQov7XmKD12u"
   },
   "source": [
    "PCA in Spark"
   ]
  },
  {
   "cell_type": "code",
   "execution_count": null,
   "id": "adequate-statistics",
   "metadata": {
    "colab": {
     "base_uri": "https://localhost:8080/"
    },
    "id": "adequate-statistics",
    "outputId": "0d165153-03cc-4930-9617-71b5c18c6de3"
   },
   "outputs": [],
   "source": [
    "from pyspark.ml.feature import PCA\n",
    "from pyspark.ml.linalg import Vectors\n",
    "\n",
    "data = [(Vectors.sparse(5, [(1, 3.5), (2, 9.5)]),),\n",
    "        (Vectors.dense([1.0, 2.0, 4.0, 5.0, 6.0]),),\n",
    "        (Vectors.dense([2.0, 3.0, 5.0, 7.0, 9.0]),)]\n",
    "df = spark.createDataFrame(data, [\"features\"])\n",
    "\n",
    "pca = PCA(k=3, inputCol=\"features\", outputCol=\"pcaFeatures\")\n",
    "model = pca.fit(df)\n",
    "\n",
    "result = model.transform(df).select(\"pcaFeatures\")\n",
    "result.show(truncate=False)"
   ]
  },
  {
   "cell_type": "markdown",
   "id": "GCZ4sTzhEQCO",
   "metadata": {
    "id": "GCZ4sTzhEQCO"
   },
   "source": [
    "Polynomial Representation For Continuous Data"
   ]
  },
  {
   "cell_type": "code",
   "execution_count": null,
   "id": "worldwide-miracle",
   "metadata": {
    "colab": {
     "base_uri": "https://localhost:8080/"
    },
    "id": "worldwide-miracle",
    "outputId": "49a73a98-9d56-4b16-fec4-19732b63d92c"
   },
   "outputs": [],
   "source": [
    "from pyspark.ml.feature import PolynomialExpansion\n",
    "from pyspark.ml.linalg import Vectors\n",
    "\n",
    "df = spark.createDataFrame([\n",
    "    (Vectors.dense([3.0, 3.0]),),\n",
    "    (Vectors.dense([9.0, 3.0]),)\n",
    "], [\"features\"])\n",
    "\n",
    "polyExpansion = PolynomialExpansion(degree=5, inputCol=\"features\", outputCol=\"polyFeatures\")\n",
    "polyDF = polyExpansion.transform(df)\n",
    "\n",
    "polyDF.show(truncate=False)\n"
   ]
  },
  {
   "cell_type": "markdown",
   "id": "hyhqpi9vEj3P",
   "metadata": {
    "id": "hyhqpi9vEj3P"
   },
   "source": [
    "Min Max Scaler in Spark"
   ]
  },
  {
   "cell_type": "code",
   "execution_count": null,
   "id": "drawn-review",
   "metadata": {
    "colab": {
     "base_uri": "https://localhost:8080/"
    },
    "id": "drawn-review",
    "outputId": "a3d4333a-1c15-42e6-9263-873bc67e4c78"
   },
   "outputs": [],
   "source": [
    "from pyspark.ml.feature import MinMaxScaler\n",
    "from pyspark.ml.linalg import Vectors\n",
    "\n",
    "dataFrame = spark.createDataFrame([\n",
    "    (0, Vectors.dense([1.0, 2.1, -18.0,100]),),\n",
    "    (1, Vectors.dense([2.0, 2.0, -22.0,200]),),\n",
    "    (2, Vectors.dense([4.0, 1000.0, 18.0,0]),)\n",
    "], [\"id\", \"features\"])\n",
    "\n",
    "scaler = MinMaxScaler(inputCol=\"features\", outputCol=\"scaledFeatures\")\n",
    "\n",
    "# Compute summary statistics and generate MinMaxScaler\n",
    "scalerModel = scaler.fit(dataFrame)\n",
    "\n",
    "scaledData = scalerModel.transform(dataFrame)\n",
    "\n",
    "scaledData.select(\"features\", \"scaledFeatures\").show()"
   ]
  },
  {
   "cell_type": "markdown",
   "id": "sbffh8JaFCK0",
   "metadata": {
    "id": "sbffh8JaFCK0"
   },
   "source": [
    "Discretization in Spark"
   ]
  },
  {
   "cell_type": "code",
   "execution_count": null,
   "id": "champion-lyric",
   "metadata": {
    "colab": {
     "base_uri": "https://localhost:8080/"
    },
    "id": "champion-lyric",
    "outputId": "e556e16e-ac70-40b0-b550-e37fe615081f"
   },
   "outputs": [],
   "source": [
    "from pyspark.ml.feature import Bucketizer\n",
    "\n",
    "splits = [-float(\"inf\"), -0.5, 0.0, 0.5, float(\"inf\")]\n",
    "\n",
    "data = [(-221.9,), (-0.5,), (-0.1,), (0.1,), (3.2,), (1999.9,)]\n",
    "dataFrame = spark.createDataFrame(data, [\"features\"])\n",
    "\n",
    "bucketizer = Bucketizer(splits=splits, inputCol=\"features\", outputCol=\"bucketedFeatures\")\n",
    "\n",
    "# Transform original data into its bucket index.\n",
    "bucketedData = bucketizer.transform(dataFrame)\n",
    "\n",
    "print(\"Bucketizer output with %d buckets\" % (len(bucketizer.getSplits())-1))\n",
    "bucketedData.show()"
   ]
  },
  {
   "cell_type": "markdown",
   "id": "FhVpkCOmFROP",
   "metadata": {
    "id": "FhVpkCOmFROP"
   },
   "source": [
    "Imputation in Spark"
   ]
  },
  {
   "cell_type": "code",
   "execution_count": null,
   "id": "exempt-standard",
   "metadata": {
    "colab": {
     "base_uri": "https://localhost:8080/"
    },
    "id": "exempt-standard",
    "outputId": "9eb55313-1de7-428f-e746-2739fe3ce8e8"
   },
   "outputs": [],
   "source": [
    "from pyspark.ml.feature import Imputer\n",
    "\n",
    "df = spark.createDataFrame([\n",
    "    (2.0, float(\"nan\")),\n",
    "    (3.0, float(\"nan\")),\n",
    "    (float(\"nan\"), 7.0),\n",
    "    (4.0, 4.0),\n",
    "    (5.0, 7.0)\n",
    "], [\"a\", \"b\"])\n",
    "\n",
    "imputer = Imputer(inputCols=[\"a\", \"b\"], outputCols=[\"out_a\", \"out_b\"])\n",
    "model = imputer.fit(df)\n",
    "\n",
    "model.transform(df).show()"
   ]
  },
  {
   "cell_type": "markdown",
   "id": "75MfKKUOFkLU",
   "metadata": {
    "id": "75MfKKUOFkLU"
   },
   "source": [
    "# Now your Turn, could you import a text data and process them with above learned steps?\n",
    "\n",
    "\n",
    "1.   Do you need to consider the N gram tokenization? how it is different with normal Tokenization?\n",
    "2.   How you will conduct the processing if text data is combined with continuous data?\n",
    "\n",
    "\n",
    "\n",
    "\n"
   ]
  },
  {
   "cell_type": "markdown",
   "id": "91afcc86",
   "metadata": {},
   "source": [
    "## Example of using ML solution with Spark on text data to train and Evaluate the model"
   ]
  },
  {
   "cell_type": "code",
   "execution_count": null,
   "id": "solar-copyright",
   "metadata": {
    "colab": {
     "base_uri": "https://localhost:8080/"
    },
    "id": "solar-copyright",
    "outputId": "da2c2332-b919-450b-f17b-173497dbccdd"
   },
   "outputs": [],
   "source": [
    "from pyspark.sql import SparkSession\n",
    "from pyspark.ml import Pipeline\n",
    "from pyspark.ml.feature import Tokenizer, StopWordsRemover, CountVectorizer, IDF\n",
    "from pyspark.ml.classification import LogisticRegression\n",
    "from pyspark.ml.evaluation import BinaryClassificationEvaluator\n",
    "\n",
    "# Create Spark session\n",
    "spark = SparkSession.builder.appName(\"TextLogisticRegression\").getOrCreate()\n",
    "\n",
    "# Sample labeled text data\n",
    "data = [\n",
    "    (0, \"I hate this unit, it's too hard\", 0),\n",
    "    (1, \"This is an amazing class!\", 1),\n",
    "    (2, \"I think the course is difficult\", 0),\n",
    "    (3, \"What a great subject\", 1),\n",
    "    (4, \"This unit is not good\", 0),\n",
    "    (5, \"Excellent content and teaching\", 1)\n",
    "]\n",
    "columns = [\"id\", \"text\", \"label\"]\n",
    "df = spark.createDataFrame(data, columns)\n",
    "\n",
    "# Text processing stages\n",
    "tokenizer = Tokenizer(inputCol=\"text\", outputCol=\"words\")\n",
    "remover = StopWordsRemover(inputCol=\"words\", outputCol=\"filtered_words\")\n",
    "vectorizer = CountVectorizer(inputCol=\"filtered_words\", outputCol=\"raw_features\")\n",
    "idf = IDF(inputCol=\"raw_features\", outputCol=\"features\")\n",
    "\n",
    "# Logistic Regression model\n",
    "lr = LogisticRegression(featuresCol=\"features\", labelCol=\"label\")\n",
    "\n",
    "# Build pipeline\n",
    "pipeline = Pipeline(stages=[tokenizer, remover, vectorizer, idf, lr])\n",
    "\n",
    "# Train/test split\n",
    "train_data, test_data = df.randomSplit([0.8, 0.2], seed=42)\n",
    "\n",
    "# Fit model\n",
    "model = pipeline.fit(train_data)\n",
    "\n",
    "# Evaluate model\n",
    "predictions = model.transform(test_data)\n",
    "predictions.select(\"text\", \"label\", \"prediction\", \"probability\").show(truncate=False)\n",
    "\n",
    "# Compute accuracy\n",
    "evaluator = BinaryClassificationEvaluator(labelCol=\"label\")\n",
    "accuracy = evaluator.evaluate(predictions)\n",
    "print(f\"Test AUC = {accuracy:.3f}\")"
   ]
  }
 ],
 "metadata": {
  "colab": {
   "provenance": []
  },
  "kernelspec": {
   "display_name": "Python 3 (ipykernel)",
   "language": "python",
   "name": "python3"
  },
  "language_info": {
   "codemirror_mode": {
    "name": "ipython",
    "version": 3
   },
   "file_extension": ".py",
   "mimetype": "text/x-python",
   "name": "python",
   "nbconvert_exporter": "python",
   "pygments_lexer": "ipython3",
   "version": "3.9.7"
  }
 },
 "nbformat": 4,
 "nbformat_minor": 5
}
